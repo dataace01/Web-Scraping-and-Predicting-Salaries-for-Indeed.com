{
 "cells": [
  {
   "cell_type": "markdown",
   "metadata": {
    "focus": false,
    "id": "69b9a648-bcc7-490d-9f9b-ea244d156bd6"
   },
   "source": [
    "<img src=\"http://imgur.com/1ZcRyrc.png\" style=\"float: left; margin: 15px; height: 80px\">\n",
    "\n",
    "\n",
    "# Web Scraping for Indeed.com and Predicting Salaries"
   ]
  },
  {
   "cell_type": "markdown",
   "metadata": {},
   "source": [
    "### Business Case Overview\n",
    "\n",
    "You're working as a data scientist for a contracting firm that's rapidly expanding. Now that they have their most valuable employee (you!), they need to leverage data to win more contracts. Your firm offers technology and scientific solutions and wants to be competitive in the hiring market. Your principal wants you to\n",
    "\n",
    "   - determine the industry factors that are most important in predicting the salary amounts for these data.\n",
    "\n",
    "To limit the scope, your principal has suggested that you *focus on data-related job postings*, e.g. data scientist, data analyst, research scientist, business intelligence, and any others you might think of. You may also want to decrease the scope by *limiting your search to a single region.*\n",
    "\n",
    "Hint: Aggregators like [Indeed.com](https://www.indeed.com) regularly pool job postings from a variety of markets and industries.\n",
    "\n",
    "**Goal:** Scrape your own data from a job aggregation tool like Indeed.com in order to collect the data to best answer this question.\n",
    "\n",
    "---\n",
    "\n",
    "### Directions\n",
    "\n",
    "In this project you will be leveraging a variety of skills. The first will be to use the web-scraping and/or API techniques you've learned to collect data on data jobs from Indeed.com or another aggregator. Once you have collected and cleaned the data, you will use it to address the question above."
   ]
  },
  {
   "cell_type": "markdown",
   "metadata": {},
   "source": [
    "### Factors that impact salary\n",
    "\n",
    "To predict salary the most appropriate approach would be a regression model.\n",
    "Here instead we just want to estimate which factors (like location, job title, job level, industry sector) lead to high or low salary and work with a classification model. To do so, split the salary into two groups of high and low salary, for example by choosing the median salary as a threshold (in principle you could choose any single or multiple splitting points).\n",
    "\n",
    "Use all the skills you have learned so far to build a predictive model.\n",
    "Whatever you decide to use, the most important thing is to justify your choices and interpret your results. *Communication of your process is key.* Note that most listings **DO NOT** come with salary information. You'll need to be able to extrapolate or predict the expected salaries for these listings."
   ]
  },
  {
   "cell_type": "markdown",
   "metadata": {
    "focus": false,
    "id": "a948d79c-5527-4c0d-ab23-f5d43ce72056"
   },
   "source": [
    "### Scraping job listings from Indeed.com"
   ]
  },
  {
   "cell_type": "markdown",
   "metadata": {
    "focus": true,
    "id": "7203e0c9-e437-4802-a6ad-7dc464f94436"
   },
   "source": [
    "We will be scraping job listings from Indeed.com using BeautifulSoup. Luckily, Indeed.com is a simple text page where we can easily find relevant entries.\n",
    "\n",
    "First, look at the source of an Indeed.com page: (http://www.indeed.com/jobs?q=data+scientist+%2420%2C000&l=New+York&start=10\").\n",
    "\n",
    "Notice, each job listing is underneath a `div` tag with a class name of `result`. We can use BeautifulSoup to extract those. "
   ]
  },
  {
   "cell_type": "markdown",
   "metadata": {
    "focus": false,
    "id": "9732c901-ae26-4160-8376-42e22dd327df"
   },
   "source": [
    "#### Setup a request (using `requests`) to the URL below. Use BeautifulSoup to parse the page and extract all results (HINT: Look for div tags with class name result)\n",
    "\n",
    "The URL here has many query parameters:\n",
    "\n",
    "- `q` for the job search\n",
    "- This is followed by \"+20,000\" to return results with salaries (or expected salaries >$20,000)\n",
    "- `l` for a location \n",
    "- `start` for what result number to start on"
   ]
  },
  {
   "cell_type": "code",
   "execution_count": 1,
   "metadata": {
    "focus": false,
    "id": "e915023e-6b0d-4982-af2a-b1e0355f4927"
   },
   "outputs": [],
   "source": [
    "URL =\"http://www.indeed.com/jobs?q=data+scientist+%2420%2C000&l={}&start={}\""
   ]
  },
  {
   "cell_type": "code",
   "execution_count": 2,
   "metadata": {
    "focus": false,
    "id": "2efefc73-064a-482d-b3b5-ddf5508cb4ec"
   },
   "outputs": [],
   "source": [
    "#Imported  all necessary libraries\n",
    "import pandas as pd  #for data manipulation and analysis. \n",
    "import numpy as np  #used to perform a wide variety of mathematical operations on arrays.\n",
    "import requests  #used by humans to interact with the language. \n",
    "import bs4  #used for web scraping purposes to pull the data out of HTML and XML files\n",
    "from bs4 import BeautifulSoup\n",
    "from tqdm import tqdm  #used for creating Progress Meters or Progress Bars. \n",
    "import time  #used to measure the execution time of small code snippets.\n",
    "import random  #used to generate random numbers.\n",
    "from sklearn.tree import DecisionTreeClassifier\n",
    "from sklearn import tree\n",
    "from sklearn.linear_model import LogisticRegression, LogisticRegressionCV"
   ]
  },
  {
   "cell_type": "markdown",
   "metadata": {
    "focus": false,
    "id": "bb0b866a-26a7-45e9-8084-5a0f90eb4b3e"
   },
   "source": [
    "Let's look at one result more closely. A single `result` looks like\n",
    "\n",
    "```\n",
    "<div class=\" row result\" data-jk=\"2480d203f7e97210\" data-tn-component=\"organicJob\" id=\"p_2480d203f7e97210\" itemscope=\"\" itemtype=\"http://schema.org/JobPosting\">\n",
    "<h2 class=\"jobtitle\" id=\"jl_2480d203f7e97210\">\n",
    "<a class=\"turnstileLink\" data-tn-element=\"jobTitle\" onmousedown=\"return rclk(this,jobmap[0],1);\" rel=\"nofollow\" target=\"_blank\" title=\"AVP/Quantitative Analyst\">AVP/Quantitative Analyst</a>\n",
    "</h2>\n",
    "<span class=\"company\" itemprop=\"hiringOrganization\" itemtype=\"http://schema.org/Organization\">\n",
    "<span itemprop=\"name\">\n",
    "<a href=\"/cmp/Alliancebernstein?from=SERP&amp;campaignid=serp-linkcompanyname&amp;fromjk=2480d203f7e97210&amp;jcid=b374f2a780e04789\" target=\"_blank\">\n",
    "    AllianceBernstein</a></span>\n",
    "</span>\n",
    "<tr>\n",
    "<td class=\"snip\">\n",
    "<nobr>$117,500 - $127,500 a year</nobr>\n",
    "<div>\n",
    "<span class=\"summary\" itemprop=\"description\">\n",
    "C onduct quantitative and statistical research as well as portfolio management for various investment portfolios. Collaborate with Quantitative Analysts and</span>\n",
    "</div>\n",
    "</div>\n",
    "</td>\n",
    "</tr>\n",
    "</table>\n",
    "</div>\n",
    "```\n",
    "\n",
    "While this has some more verbose elements removed, we can see that there is some structure to the above:\n",
    "- The salary is in a `span` with `class='salaryText'`.\n",
    "- The title of a job is in a link with class set to `jobtitle` and a `data-tn-element='jobTitle'`.  \n",
    "- The location is set in a `span` with `class='location'`. \n",
    "- The company is set in a `span` with `class='company'`. \n",
    "- Decide which other components could be relevant, for example the region or the summary of the job advert."
   ]
  },
  {
   "cell_type": "markdown",
   "metadata": {
    "focus": false,
    "id": "f1eddb90-4ba8-483c-a229-77e93aa53119"
   },
   "source": [
    "### Write 4 functions to extract each item: location, company, job, and salary.\n",
    "\n",
    "Example: \n",
    "```python\n",
    "def extract_location_from_result(result):\n",
    "    return result.find ...\n",
    "```\n",
    "\n",
    "\n",
    "- **Make sure these functions are robust and can handle cases where the data/field may not be available.**\n",
    "    - Remember to check if a field is empty or `None` for attempting to call methods on it.\n",
    "    - Remember to use `try/except` if you anticipate errors.\n",
    "- **Test** the functions on the results above and simple examples."
   ]
  },
  {
   "cell_type": "code",
   "execution_count": 3,
   "metadata": {
    "focus": false,
    "id": "a1af53c9-9090-494f-b82e-cadb60a54909"
   },
   "outputs": [],
   "source": [
    "## YOUR CODE HERE\n",
    "#assigning \n",
    "r = requests.get(URL)# to upload url given for Indeed website.\n",
    "\n",
    "soup = BeautifulSoup(r.text, 'html.parser')# for text reading \n",
    "\n",
    "jobs = soup.find_all(name='div', attrs={'class':\"slider_container\"}) #locating tags and classes.(Jobs,Salaries...)"
   ]
  },
  {
   "cell_type": "code",
   "execution_count": 4,
   "metadata": {},
   "outputs": [],
   "source": [
    "#creating functions to get all needed information for web scraping Company Names,Jobs,Locations,Salaries,Summeries...\n",
    "def extract_company(result):\n",
    "    try:\n",
    "        return result.find('span',{'class':'companyName'}).text\n",
    "    except:\n",
    "        return None"
   ]
  },
  {
   "cell_type": "code",
   "execution_count": 5,
   "metadata": {},
   "outputs": [],
   "source": [
    "def extract_salary(result):\n",
    "    try:\n",
    "        return result.find('div',{'class':'attribute_snippet'}).text\n",
    "    except:\n",
    "        return None"
   ]
  },
  {
   "cell_type": "code",
   "execution_count": 6,
   "metadata": {},
   "outputs": [],
   "source": [
    "def extract_location(result):   \n",
    "    try:\n",
    "        return result.find('div',{'class':'companyLocation'}).text\n",
    "    except:\n",
    "        return None"
   ]
  },
  {
   "cell_type": "code",
   "execution_count": 7,
   "metadata": {},
   "outputs": [],
   "source": [
    "def extract_job(result):\n",
    "    try:\n",
    "        return result.find('h2', attrs={'class':'jobTitle'}).text\n",
    "    except:\n",
    "        return None"
   ]
  },
  {
   "cell_type": "code",
   "execution_count": 8,
   "metadata": {},
   "outputs": [],
   "source": [
    "def extract_rating(result):\n",
    "    try:\n",
    "        return result.find('span', attrs={'class':'ratingNumber'}).text\n",
    "    except:\n",
    "        return None"
   ]
  },
  {
   "cell_type": "code",
   "execution_count": 9,
   "metadata": {},
   "outputs": [],
   "source": [
    "def extract_snippet(result):\n",
    "    try:\n",
    "        return result.find('div', attrs={'class':'job-snippet'}).text\n",
    "    except:\n",
    "        return None"
   ]
  },
  {
   "cell_type": "code",
   "execution_count": null,
   "metadata": {},
   "outputs": [],
   "source": []
  },
  {
   "cell_type": "code",
   "execution_count": null,
   "metadata": {},
   "outputs": [],
   "source": []
  },
  {
   "cell_type": "markdown",
   "metadata": {
    "focus": false,
    "id": "34070e89-9521-4b45-90c8-57a6599aac68"
   },
   "source": [
    "Now, to scale up our scraping, we need to accumulate more results. We can do this by examining the URL above.\n",
    "\n",
    "- \"http://www.indeed.com/jobs?q=data+scientist+%2420%2C000&l=New+York&start=10\"\n",
    "\n",
    "There are two query parameters here we can alter to collect more results, the `l=New+York` and the `start=10`. The first controls the location of the results (so we can try a different city). The second controls where in the results to start and gives 10 results (thus, we can keep incrementing by 10 to go further in the list)."
   ]
  },
  {
   "cell_type": "markdown",
   "metadata": {
    "focus": false,
    "id": "e8beed7c-3e42-40c0-810f-5f67f8f885a0"
   },
   "source": [
    "### Complete the following code to collect results from multiple cities and starting points. \n",
    "- Enter your city below to add it to the search.\n",
    "- Remember to convert your salary to U.S. Dollars to match the other cities if the currency is different."
   ]
  },
  {
   "cell_type": "markdown",
   "metadata": {},
   "source": [
    "# London ,UK\n",
    "url_template = \"https://www.indeed.co.uk/jobs?q=data+science&l={}&start={}\"\n",
    "max_results_per_city = 10\n",
    "results = []\n",
    "\n",
    "for city in ['London']:\n",
    "    for start in tqdm(range(0, max_results_per_city, 10)):\n",
    "        r1 = requests.get(url_template.format(city,start))\n",
    "\n",
    "        soup = BeautifulSoup(r1.text, 'html.parser')\n",
    "\n",
    "        jobs = soup.find_all(name='div', attrs={'class':\"result\"}) # Grab the results from the request (as above)\n",
    "        results.extend(jobs) # Append to the full set of results"
   ]
  },
  {
   "cell_type": "markdown",
   "metadata": {
    "focus": false,
    "id": "a9aa87ec-3575-4a01-a986-eb684f2c47d0"
   },
   "source": [
    "YOUR_CITY = 'Toronto'"
   ]
  },
  {
   "cell_type": "code",
   "execution_count": 213,
   "metadata": {
    "focus": false,
    "id": "04b0f9af-540e-402f-8292-81748707c676"
   },
   "outputs": [
    {
     "name": "stderr",
     "output_type": "stream",
     "text": [
      "100%|██████████| 1/1 [00:03<00:00,  3.17s/it]\n",
      "100%|██████████| 1/1 [00:04<00:00,  4.91s/it]\n",
      "100%|██████████| 1/1 [00:05<00:00,  5.14s/it]\n",
      "100%|██████████| 1/1 [00:04<00:00,  4.11s/it]\n",
      "100%|██████████| 1/1 [00:07<00:00,  7.58s/it]\n",
      "100%|██████████| 1/1 [00:05<00:00,  5.16s/it]\n",
      "100%|██████████| 1/1 [00:04<00:00,  4.07s/it]\n",
      "100%|██████████| 1/1 [00:07<00:00,  7.01s/it]\n",
      "100%|██████████| 1/1 [00:03<00:00,  3.34s/it]\n",
      "100%|██████████| 1/1 [00:04<00:00,  4.82s/it]\n",
      "100%|██████████| 1/1 [00:05<00:00,  5.53s/it]\n",
      "100%|██████████| 1/1 [00:07<00:00,  7.55s/it]\n",
      "100%|██████████| 1/1 [00:04<00:00,  4.84s/it]\n",
      "100%|██████████| 1/1 [00:03<00:00,  4.00s/it]\n",
      "100%|██████████| 1/1 [00:05<00:00,  5.26s/it]\n",
      "100%|██████████| 1/1 [00:04<00:00,  4.24s/it]\n",
      "100%|██████████| 1/1 [00:06<00:00,  6.29s/it]\n",
      "100%|██████████| 1/1 [00:04<00:00,  4.10s/it]\n"
     ]
    }
   ],
   "source": [
    "#I run all cities separately previously for better and faster result to get csv's, this is the entire # of cities.\n",
    "#url_template = \"http://www.indeed.com/jobs?q=data+scientist+%2420%2C000&l={}&start={}\"\n",
    "#max_results_per_city = 10000\n",
    "#results = []\n",
    "\n",
    "#for city in ['Chicago', 'San+Francisco', 'Austin', 'Seattle',\n",
    "             #'Los+Angeles', 'Philadelphia', 'Atlanta', 'Dallas',\n",
    "             #'Pittsburgh','Portland', 'Phoenix', 'Denver', \n",
    "            #'Houston', 'Miami','London','NY','WashingtonState','YOUR_CITY ']:\n",
    "    #for start in tqdm(range(0, max_results_per_city, 10)):\n",
    "        #time.sleep(random.randint(1,2))\n",
    "        #r1 = requests.get(url_template.format(city,start))\n",
    "\n",
    "        #soup = BeautifulSoup(r1.text, 'html.parser')\n",
    "\n",
    "        #jobs = soup.find_all(name='div', attrs={'class':\"slider_container\"}) # Grab the results from the request (as above)\n",
    "        #results.extend(jobs) # Append to the full set of results\n"
   ]
  },
  {
   "cell_type": "markdown",
   "metadata": {
    "focus": false,
    "id": "20339c09-5032-4e27-91be-286e9b46cd13"
   },
   "source": [
    "#### Use the functions you wrote above to parse out the 4 fields - location, title, company and salary. Create a dataframe from the results with those 4 columns."
   ]
  },
  {
   "cell_type": "code",
   "execution_count": 214,
   "metadata": {
    "focus": false,
    "id": "6e259594-1c52-436b-ab9e-527e071941c1"
   },
   "outputs": [],
   "source": [
    "## YOUR CODE HERE\n",
    "# Creating a dataframe from the results with all columns.\n",
    "#df = pd.DataFrame({\"Job Title\":extract_job(result),\"Company\":extract_company(result),\n",
    "     # \"Location\":extract_location(result),\"Salary\":extract_salary(result),\n",
    "      #\"Rating\":extract_rating(result),\"Summary\":extract_snippet(result)} for result in results)"
   ]
  },
  {
   "cell_type": "code",
   "execution_count": 216,
   "metadata": {},
   "outputs": [
    {
     "data": {
      "text/html": [
       "<div>\n",
       "<style scoped>\n",
       "    .dataframe tbody tr th:only-of-type {\n",
       "        vertical-align: middle;\n",
       "    }\n",
       "\n",
       "    .dataframe tbody tr th {\n",
       "        vertical-align: top;\n",
       "    }\n",
       "\n",
       "    .dataframe thead th {\n",
       "        text-align: right;\n",
       "    }\n",
       "</style>\n",
       "<table border=\"1\" class=\"dataframe\">\n",
       "  <thead>\n",
       "    <tr style=\"text-align: right;\">\n",
       "      <th></th>\n",
       "      <th>Job Title</th>\n",
       "      <th>Company</th>\n",
       "      <th>Location</th>\n",
       "      <th>Salary</th>\n",
       "      <th>Rating</th>\n",
       "      <th>Summary</th>\n",
       "    </tr>\n",
       "  </thead>\n",
       "  <tbody>\n",
       "    <tr>\n",
       "      <th>0</th>\n",
       "      <td>Data Scientist</td>\n",
       "      <td>TransUnion</td>\n",
       "      <td>Chicago, IL 60661 (West Loop Gate area)+4 loca...</td>\n",
       "      <td>Full-time</td>\n",
       "      <td>3.8</td>\n",
       "      <td>\\nThis position is responsible for supporting ...</td>\n",
       "    </tr>\n",
       "    <tr>\n",
       "      <th>1</th>\n",
       "      <td>Data Scientist</td>\n",
       "      <td>Northwestern Medicine</td>\n",
       "      <td>Chicago, IL 60611 (Near North Side area)+1 loc...</td>\n",
       "      <td>Full-time</td>\n",
       "      <td>3.9</td>\n",
       "      <td>\\nThe data engineers/scientists use their broa...</td>\n",
       "    </tr>\n",
       "    <tr>\n",
       "      <th>2</th>\n",
       "      <td>newData Scientist</td>\n",
       "      <td>Blue Cross Blue Shield of IL, MT, NM, OK &amp; TX</td>\n",
       "      <td>Chicago, IL+6 locations</td>\n",
       "      <td>Full-time</td>\n",
       "      <td>3.9</td>\n",
       "      <td>\\nContribute to delivery of analytics and data...</td>\n",
       "    </tr>\n",
       "    <tr>\n",
       "      <th>3</th>\n",
       "      <td>newData Scientist - Python or R - Machine Lear...</td>\n",
       "      <td>Deloitte</td>\n",
       "      <td>Chicago, IL 60606 (The Loop area)+13 locations</td>\n",
       "      <td>Full-time</td>\n",
       "      <td>4.0</td>\n",
       "      <td>\\nExperience with structured and unstructured ...</td>\n",
       "    </tr>\n",
       "    <tr>\n",
       "      <th>4</th>\n",
       "      <td>newStatistical Forecaster / Data Scientist</td>\n",
       "      <td>PepsiCo</td>\n",
       "      <td>Chicago, IL</td>\n",
       "      <td>None</td>\n",
       "      <td>3.8</td>\n",
       "      <td>\\nUtilize Analytical capability and detailed d...</td>\n",
       "    </tr>\n",
       "    <tr>\n",
       "      <th>5</th>\n",
       "      <td>Data Scientist</td>\n",
       "      <td>Pareto Intelligence</td>\n",
       "      <td>Chicago, IL 60654 (Loop area)</td>\n",
       "      <td>None</td>\n",
       "      <td>None</td>\n",
       "      <td>\\nPractical ability to visualize data, communi...</td>\n",
       "    </tr>\n",
       "    <tr>\n",
       "      <th>6</th>\n",
       "      <td>newData Scientist</td>\n",
       "      <td>Hitachi Solutions Ltd</td>\n",
       "      <td>Chicago, IL 60606 (The Loop area)</td>\n",
       "      <td>None</td>\n",
       "      <td>3.8</td>\n",
       "      <td>\\nDesign strategies and propose algorithms to ...</td>\n",
       "    </tr>\n",
       "    <tr>\n",
       "      <th>7</th>\n",
       "      <td>Data Scientist (Machine Learning)</td>\n",
       "      <td>Decision Spot</td>\n",
       "      <td>Chicago, IL•Remote</td>\n",
       "      <td>None</td>\n",
       "      <td>None</td>\n",
       "      <td>\\nDecision Spot is looking for data scientists...</td>\n",
       "    </tr>\n",
       "    <tr>\n",
       "      <th>8</th>\n",
       "      <td>newData Scientist</td>\n",
       "      <td>Northern Trust Corp.</td>\n",
       "      <td>Chicago, IL 60603 (The Loop area)+1 location</td>\n",
       "      <td>None</td>\n",
       "      <td>3.8</td>\n",
       "      <td>\\nThis position serves to empower applied data...</td>\n",
       "    </tr>\n",
       "    <tr>\n",
       "      <th>9</th>\n",
       "      <td>Data Scientist - Remote</td>\n",
       "      <td>Harley-Davidson</td>\n",
       "      <td>Chicago, IL•Remote</td>\n",
       "      <td>Full-time</td>\n",
       "      <td>3.7</td>\n",
       "      <td>\\nThis role may be expected to assist other da...</td>\n",
       "    </tr>\n",
       "  </tbody>\n",
       "</table>\n",
       "</div>"
      ],
      "text/plain": [
       "                                           Job Title  \\\n",
       "0                                     Data Scientist   \n",
       "1                                     Data Scientist   \n",
       "2                                  newData Scientist   \n",
       "3  newData Scientist - Python or R - Machine Lear...   \n",
       "4         newStatistical Forecaster / Data Scientist   \n",
       "5                                     Data Scientist   \n",
       "6                                  newData Scientist   \n",
       "7                  Data Scientist (Machine Learning)   \n",
       "8                                  newData Scientist   \n",
       "9                            Data Scientist - Remote   \n",
       "\n",
       "                                         Company  \\\n",
       "0                                     TransUnion   \n",
       "1                          Northwestern Medicine   \n",
       "2  Blue Cross Blue Shield of IL, MT, NM, OK & TX   \n",
       "3                                       Deloitte   \n",
       "4                                        PepsiCo   \n",
       "5                            Pareto Intelligence   \n",
       "6                          Hitachi Solutions Ltd   \n",
       "7                                  Decision Spot   \n",
       "8                           Northern Trust Corp.   \n",
       "9                                Harley-Davidson   \n",
       "\n",
       "                                            Location     Salary Rating  \\\n",
       "0  Chicago, IL 60661 (West Loop Gate area)+4 loca...  Full-time    3.8   \n",
       "1  Chicago, IL 60611 (Near North Side area)+1 loc...  Full-time    3.9   \n",
       "2                            Chicago, IL+6 locations  Full-time    3.9   \n",
       "3     Chicago, IL 60606 (The Loop area)+13 locations  Full-time    4.0   \n",
       "4                                        Chicago, IL       None    3.8   \n",
       "5                      Chicago, IL 60654 (Loop area)       None   None   \n",
       "6                  Chicago, IL 60606 (The Loop area)       None    3.8   \n",
       "7                                 Chicago, IL•Remote       None   None   \n",
       "8       Chicago, IL 60603 (The Loop area)+1 location       None    3.8   \n",
       "9                                 Chicago, IL•Remote  Full-time    3.7   \n",
       "\n",
       "                                             Summary  \n",
       "0  \\nThis position is responsible for supporting ...  \n",
       "1  \\nThe data engineers/scientists use their broa...  \n",
       "2  \\nContribute to delivery of analytics and data...  \n",
       "3  \\nExperience with structured and unstructured ...  \n",
       "4  \\nUtilize Analytical capability and detailed d...  \n",
       "5  \\nPractical ability to visualize data, communi...  \n",
       "6  \\nDesign strategies and propose algorithms to ...  \n",
       "7  \\nDecision Spot is looking for data scientists...  \n",
       "8  \\nThis position serves to empower applied data...  \n",
       "9  \\nThis role may be expected to assist other da...  "
      ]
     },
     "execution_count": 216,
     "metadata": {},
     "output_type": "execute_result"
    }
   ],
   "source": [
    "#df.head(10)"
   ]
  },
  {
   "cell_type": "code",
   "execution_count": 217,
   "metadata": {},
   "outputs": [
    {
     "data": {
      "text/html": [
       "<div>\n",
       "<style scoped>\n",
       "    .dataframe tbody tr th:only-of-type {\n",
       "        vertical-align: middle;\n",
       "    }\n",
       "\n",
       "    .dataframe tbody tr th {\n",
       "        vertical-align: top;\n",
       "    }\n",
       "\n",
       "    .dataframe thead th {\n",
       "        text-align: right;\n",
       "    }\n",
       "</style>\n",
       "<table border=\"1\" class=\"dataframe\">\n",
       "  <thead>\n",
       "    <tr style=\"text-align: right;\">\n",
       "      <th></th>\n",
       "      <th>Job Title</th>\n",
       "      <th>Company</th>\n",
       "      <th>Location</th>\n",
       "      <th>Salary</th>\n",
       "      <th>Rating</th>\n",
       "      <th>Summary</th>\n",
       "    </tr>\n",
       "  </thead>\n",
       "  <tbody>\n",
       "    <tr>\n",
       "      <th>count</th>\n",
       "      <td>240</td>\n",
       "      <td>240</td>\n",
       "      <td>240</td>\n",
       "      <td>67</td>\n",
       "      <td>201</td>\n",
       "      <td>240</td>\n",
       "    </tr>\n",
       "    <tr>\n",
       "      <th>unique</th>\n",
       "      <td>124</td>\n",
       "      <td>198</td>\n",
       "      <td>189</td>\n",
       "      <td>29</td>\n",
       "      <td>27</td>\n",
       "      <td>224</td>\n",
       "    </tr>\n",
       "    <tr>\n",
       "      <th>top</th>\n",
       "      <td>Data Scientist</td>\n",
       "      <td>Deloitte</td>\n",
       "      <td>Houston, TX</td>\n",
       "      <td>Full-time</td>\n",
       "      <td>4.0</td>\n",
       "      <td>\\nExperience in an ML engineer or data scienti...</td>\n",
       "    </tr>\n",
       "    <tr>\n",
       "      <th>freq</th>\n",
       "      <td>63</td>\n",
       "      <td>14</td>\n",
       "      <td>7</td>\n",
       "      <td>36</td>\n",
       "      <td>36</td>\n",
       "      <td>5</td>\n",
       "    </tr>\n",
       "  </tbody>\n",
       "</table>\n",
       "</div>"
      ],
      "text/plain": [
       "             Job Title   Company     Location     Salary Rating  \\\n",
       "count              240       240          240         67    201   \n",
       "unique             124       198          189         29     27   \n",
       "top     Data Scientist  Deloitte  Houston, TX  Full-time    4.0   \n",
       "freq                63        14            7         36     36   \n",
       "\n",
       "                                                  Summary  \n",
       "count                                                 240  \n",
       "unique                                                224  \n",
       "top     \\nExperience in an ML engineer or data scienti...  \n",
       "freq                                                    5  "
      ]
     },
     "execution_count": 217,
     "metadata": {},
     "output_type": "execute_result"
    }
   ],
   "source": [
    "#in this raw sample consisting of 1319results the top\tData Scientist\tDeloitte\tAustin, TX\tFull-time\t4.0\t\n",
    "#will be looking further on collecting all of the cities I was able to srape and collect.\n",
    "#df.describe()"
   ]
  },
  {
   "cell_type": "markdown",
   "metadata": {
    "focus": false,
    "id": "ff98ce64-78a7-441f-a675-63464e32c834"
   },
   "source": [
    "Lastly, we need to clean up salary data. \n",
    "\n",
    "1. Only a small number of the scraped results have salary information - only these will be used for modeling.\n",
    "1. Some of the salaries are not yearly but hourly or weekly, these will not be useful to us for now.\n",
    "1. Some of the entries may be duplicated.\n",
    "1. The salaries are given as text and usually with ranges."
   ]
  },
  {
   "cell_type": "code",
   "execution_count": 11,
   "metadata": {},
   "outputs": [],
   "source": [
    "#working with the Text data Regex is a powerful tool for data extraction, Cleaning and validation.\n",
    "#replace() function is used to replace a string, regex, list, dictionary, series, number etc. from a dataframe.\n",
    "#df.replace(to_replace=\"\\n\",value=\"\",regex=True,inplace=True)\n",
    "#df.head()"
   ]
  },
  {
   "cell_type": "code",
   "execution_count": 12,
   "metadata": {},
   "outputs": [],
   "source": [
    "#df.shape"
   ]
  },
  {
   "cell_type": "code",
   "execution_count": 13,
   "metadata": {},
   "outputs": [],
   "source": [
    "#in my drafts I saved for each city separately csv's.\n",
    "#df.to_csv(r'/Users/oc/Desktop/GA/material/Projects/project 4/project-4/Jobs.csv',index=False, header=True)"
   ]
  },
  {
   "cell_type": "code",
   "execution_count": 14,
   "metadata": {
    "scrolled": true
   },
   "outputs": [],
   "source": [
    "#Austin,TX jobs\n",
    "#city1=pd.read_csv(r'/Users/oc/Desktop/GA/material/Projects/project-4/project-4/Project 4 Salary/JobsAustin.csv')"
   ]
  },
  {
   "cell_type": "code",
   "execution_count": 15,
   "metadata": {},
   "outputs": [
    {
     "data": {
      "text/html": [
       "<div>\n",
       "<style scoped>\n",
       "    .dataframe tbody tr th:only-of-type {\n",
       "        vertical-align: middle;\n",
       "    }\n",
       "\n",
       "    .dataframe tbody tr th {\n",
       "        vertical-align: top;\n",
       "    }\n",
       "\n",
       "    .dataframe thead th {\n",
       "        text-align: right;\n",
       "    }\n",
       "</style>\n",
       "<table border=\"1\" class=\"dataframe\">\n",
       "  <thead>\n",
       "    <tr style=\"text-align: right;\">\n",
       "      <th></th>\n",
       "      <th>Job Title</th>\n",
       "      <th>Company</th>\n",
       "      <th>Location</th>\n",
       "      <th>Salary</th>\n",
       "      <th>Rating</th>\n",
       "      <th>Summary</th>\n",
       "    </tr>\n",
       "  </thead>\n",
       "  <tbody>\n",
       "    <tr>\n",
       "      <th>0</th>\n",
       "      <td>Principal Data Scientist - Match Recommendations</td>\n",
       "      <td>Indeed</td>\n",
       "      <td>Austin, TX•Temporarily Remote</td>\n",
       "      <td>$223,000 - $324,000 a year</td>\n",
       "      <td>4.3</td>\n",
       "      <td>Mentor and grow other software engineers and d...</td>\n",
       "    </tr>\n",
       "    <tr>\n",
       "      <th>1</th>\n",
       "      <td>Senior Data Scientist - Ranking Team</td>\n",
       "      <td>Indeed</td>\n",
       "      <td>Austin, TX</td>\n",
       "      <td>$123,000 - $179,000 a year</td>\n",
       "      <td>4.3</td>\n",
       "      <td>Proactively research data and identify opportu...</td>\n",
       "    </tr>\n",
       "    <tr>\n",
       "      <th>2</th>\n",
       "      <td>Data Scientist I - 637</td>\n",
       "      <td>O'Neil Global Advisors, Inc.</td>\n",
       "      <td>Austin, TX•Remote</td>\n",
       "      <td>NaN</td>\n",
       "      <td>NaN</td>\n",
       "      <td>Advanced skill with data science topics such a...</td>\n",
       "    </tr>\n",
       "  </tbody>\n",
       "</table>\n",
       "</div>"
      ],
      "text/plain": [
       "                                          Job Title  \\\n",
       "0  Principal Data Scientist - Match Recommendations   \n",
       "1              Senior Data Scientist - Ranking Team   \n",
       "2                            Data Scientist I - 637   \n",
       "\n",
       "                        Company                       Location  \\\n",
       "0                        Indeed  Austin, TX•Temporarily Remote   \n",
       "1                        Indeed                     Austin, TX   \n",
       "2  O'Neil Global Advisors, Inc.              Austin, TX•Remote   \n",
       "\n",
       "                       Salary  Rating  \\\n",
       "0  $223,000 - $324,000 a year     4.3   \n",
       "1  $123,000 - $179,000 a year     4.3   \n",
       "2                         NaN     NaN   \n",
       "\n",
       "                                             Summary  \n",
       "0  Mentor and grow other software engineers and d...  \n",
       "1  Proactively research data and identify opportu...  \n",
       "2  Advanced skill with data science topics such a...  "
      ]
     },
     "execution_count": 15,
     "metadata": {},
     "output_type": "execute_result"
    }
   ],
   "source": [
    "city1.head(3)"
   ]
  },
  {
   "cell_type": "code",
   "execution_count": 16,
   "metadata": {},
   "outputs": [],
   "source": [
    "#Atlanta,GA jobs\n",
    "#city2=pd.read_csv(r'/Users/oc/Desktop/GA/material/Projects/project-4/project-4/Project 4 Salary/JobsAtlanta.csv')"
   ]
  },
  {
   "cell_type": "code",
   "execution_count": 17,
   "metadata": {},
   "outputs": [
    {
     "data": {
      "text/html": [
       "<div>\n",
       "<style scoped>\n",
       "    .dataframe tbody tr th:only-of-type {\n",
       "        vertical-align: middle;\n",
       "    }\n",
       "\n",
       "    .dataframe tbody tr th {\n",
       "        vertical-align: top;\n",
       "    }\n",
       "\n",
       "    .dataframe thead th {\n",
       "        text-align: right;\n",
       "    }\n",
       "</style>\n",
       "<table border=\"1\" class=\"dataframe\">\n",
       "  <thead>\n",
       "    <tr style=\"text-align: right;\">\n",
       "      <th></th>\n",
       "      <th>Job Title</th>\n",
       "      <th>Company</th>\n",
       "      <th>Location</th>\n",
       "      <th>Salary</th>\n",
       "      <th>Rating</th>\n",
       "      <th>Summary</th>\n",
       "    </tr>\n",
       "  </thead>\n",
       "  <tbody>\n",
       "    <tr>\n",
       "      <th>0</th>\n",
       "      <td>Data Scientist, Optimization</td>\n",
       "      <td>Delta</td>\n",
       "      <td>Atlanta, GA+2 locations</td>\n",
       "      <td>NaN</td>\n",
       "      <td>4.2</td>\n",
       "      <td>The Optimization team in CDI (Commercial Devel...</td>\n",
       "    </tr>\n",
       "    <tr>\n",
       "      <th>1</th>\n",
       "      <td>newLead Data Scientist, AI Innovation and Life...</td>\n",
       "      <td>Kimberly-Clark</td>\n",
       "      <td>Atlanta, GA</td>\n",
       "      <td>NaN</td>\n",
       "      <td>4.0</td>\n",
       "      <td>Lead and transform data science prototypes.Wor...</td>\n",
       "    </tr>\n",
       "    <tr>\n",
       "      <th>2</th>\n",
       "      <td>Lead Data Scientist</td>\n",
       "      <td>Confidential</td>\n",
       "      <td>Atlanta, GA</td>\n",
       "      <td>NaN</td>\n",
       "      <td>NaN</td>\n",
       "      <td>Has some experience using the AWS big data tec...</td>\n",
       "    </tr>\n",
       "  </tbody>\n",
       "</table>\n",
       "</div>"
      ],
      "text/plain": [
       "                                           Job Title         Company  \\\n",
       "0                       Data Scientist, Optimization           Delta   \n",
       "1  newLead Data Scientist, AI Innovation and Life...  Kimberly-Clark   \n",
       "2                                Lead Data Scientist    Confidential   \n",
       "\n",
       "                  Location Salary  Rating  \\\n",
       "0  Atlanta, GA+2 locations    NaN     4.2   \n",
       "1              Atlanta, GA    NaN     4.0   \n",
       "2              Atlanta, GA    NaN     NaN   \n",
       "\n",
       "                                             Summary  \n",
       "0  The Optimization team in CDI (Commercial Devel...  \n",
       "1  Lead and transform data science prototypes.Wor...  \n",
       "2  Has some experience using the AWS big data tec...  "
      ]
     },
     "execution_count": 17,
     "metadata": {},
     "output_type": "execute_result"
    }
   ],
   "source": [
    "city2.head(3)"
   ]
  },
  {
   "cell_type": "code",
   "execution_count": 19,
   "metadata": {},
   "outputs": [],
   "source": [
    "#Chicago,IL jobs\n",
    "#city3=pd.read_csv(r'//Users/oc/Desktop/GA/material/Projects/project-4/project-4/Project 4 Salary/JobsChicago.csv')"
   ]
  },
  {
   "cell_type": "code",
   "execution_count": 20,
   "metadata": {},
   "outputs": [
    {
     "data": {
      "text/html": [
       "<div>\n",
       "<style scoped>\n",
       "    .dataframe tbody tr th:only-of-type {\n",
       "        vertical-align: middle;\n",
       "    }\n",
       "\n",
       "    .dataframe tbody tr th {\n",
       "        vertical-align: top;\n",
       "    }\n",
       "\n",
       "    .dataframe thead th {\n",
       "        text-align: right;\n",
       "    }\n",
       "</style>\n",
       "<table border=\"1\" class=\"dataframe\">\n",
       "  <thead>\n",
       "    <tr style=\"text-align: right;\">\n",
       "      <th></th>\n",
       "      <th>Job Title</th>\n",
       "      <th>Company</th>\n",
       "      <th>Location</th>\n",
       "      <th>Salary</th>\n",
       "      <th>Rating</th>\n",
       "      <th>Summary</th>\n",
       "    </tr>\n",
       "  </thead>\n",
       "  <tbody>\n",
       "    <tr>\n",
       "      <th>0</th>\n",
       "      <td>newData Scientist</td>\n",
       "      <td>Blue Cross Blue Shield of IL, MT, NM, OK &amp; TX</td>\n",
       "      <td>Chicago, IL+6 locations</td>\n",
       "      <td>Full-time</td>\n",
       "      <td>3.9</td>\n",
       "      <td>Contribute to delivery of analytics and data s...</td>\n",
       "    </tr>\n",
       "    <tr>\n",
       "      <th>1</th>\n",
       "      <td>Data Scientist</td>\n",
       "      <td>Northwestern Medicine</td>\n",
       "      <td>Chicago, IL 60611 (Near North Side area)+1 loc...</td>\n",
       "      <td>Full-time</td>\n",
       "      <td>3.9</td>\n",
       "      <td>The data engineers/scientists use their broad ...</td>\n",
       "    </tr>\n",
       "    <tr>\n",
       "      <th>2</th>\n",
       "      <td>Data Scientist - Remote</td>\n",
       "      <td>Harley-Davidson</td>\n",
       "      <td>Chicago, IL•Remote</td>\n",
       "      <td>Full-time</td>\n",
       "      <td>3.7</td>\n",
       "      <td>This role may be expected to assist other data...</td>\n",
       "    </tr>\n",
       "  </tbody>\n",
       "</table>\n",
       "</div>"
      ],
      "text/plain": [
       "                 Job Title                                        Company  \\\n",
       "0        newData Scientist  Blue Cross Blue Shield of IL, MT, NM, OK & TX   \n",
       "1           Data Scientist                          Northwestern Medicine   \n",
       "2  Data Scientist - Remote                                Harley-Davidson   \n",
       "\n",
       "                                            Location     Salary  Rating  \\\n",
       "0                            Chicago, IL+6 locations  Full-time     3.9   \n",
       "1  Chicago, IL 60611 (Near North Side area)+1 loc...  Full-time     3.9   \n",
       "2                                 Chicago, IL•Remote  Full-time     3.7   \n",
       "\n",
       "                                             Summary  \n",
       "0  Contribute to delivery of analytics and data s...  \n",
       "1  The data engineers/scientists use their broad ...  \n",
       "2  This role may be expected to assist other data...  "
      ]
     },
     "execution_count": 20,
     "metadata": {},
     "output_type": "execute_result"
    }
   ],
   "source": [
    "city3.head(3)"
   ]
  },
  {
   "cell_type": "code",
   "execution_count": 21,
   "metadata": {},
   "outputs": [],
   "source": [
    "#Dallas,TX jobs\n",
    "#city4=pd.read_csv(r'/Users/oc/Desktop/GA/material/Projects/project-4/project-4/Project 4 Salary/JobsDallas.csv')"
   ]
  },
  {
   "cell_type": "code",
   "execution_count": 22,
   "metadata": {},
   "outputs": [
    {
     "data": {
      "text/html": [
       "<div>\n",
       "<style scoped>\n",
       "    .dataframe tbody tr th:only-of-type {\n",
       "        vertical-align: middle;\n",
       "    }\n",
       "\n",
       "    .dataframe tbody tr th {\n",
       "        vertical-align: top;\n",
       "    }\n",
       "\n",
       "    .dataframe thead th {\n",
       "        text-align: right;\n",
       "    }\n",
       "</style>\n",
       "<table border=\"1\" class=\"dataframe\">\n",
       "  <thead>\n",
       "    <tr style=\"text-align: right;\">\n",
       "      <th></th>\n",
       "      <th>Job Title</th>\n",
       "      <th>Company</th>\n",
       "      <th>Location</th>\n",
       "      <th>Salary</th>\n",
       "      <th>Rating</th>\n",
       "      <th>Summary</th>\n",
       "    </tr>\n",
       "  </thead>\n",
       "  <tbody>\n",
       "    <tr>\n",
       "      <th>0</th>\n",
       "      <td>Behavioral Data Scientist</td>\n",
       "      <td>Microsoft</td>\n",
       "      <td>Dallas, TX•Remote work available</td>\n",
       "      <td>Full-time</td>\n",
       "      <td>4.2</td>\n",
       "      <td>Work with large, complex data sets.Experience ...</td>\n",
       "    </tr>\n",
       "    <tr>\n",
       "      <th>1</th>\n",
       "      <td>Senior Data Scientist - Nationwide Opportunities</td>\n",
       "      <td>Amazon Web Services, Inc.</td>\n",
       "      <td>Dallas, TX</td>\n",
       "      <td>$116,200 a year</td>\n",
       "      <td>3.5</td>\n",
       "      <td>Experience in an ML engineer or data scientist...</td>\n",
       "    </tr>\n",
       "    <tr>\n",
       "      <th>2</th>\n",
       "      <td>newData Scientist</td>\n",
       "      <td>The Coca-Cola Company</td>\n",
       "      <td>Plano, TX 75024</td>\n",
       "      <td>Full-time</td>\n",
       "      <td>3.9</td>\n",
       "      <td>Prior experience of developing and implanting ...</td>\n",
       "    </tr>\n",
       "  </tbody>\n",
       "</table>\n",
       "</div>"
      ],
      "text/plain": [
       "                                          Job Title  \\\n",
       "0                         Behavioral Data Scientist   \n",
       "1  Senior Data Scientist - Nationwide Opportunities   \n",
       "2                                 newData Scientist   \n",
       "\n",
       "                     Company                          Location  \\\n",
       "0                  Microsoft  Dallas, TX•Remote work available   \n",
       "1  Amazon Web Services, Inc.                        Dallas, TX   \n",
       "2      The Coca-Cola Company                   Plano, TX 75024   \n",
       "\n",
       "            Salary  Rating                                            Summary  \n",
       "0        Full-time     4.2  Work with large, complex data sets.Experience ...  \n",
       "1  $116,200 a year     3.5  Experience in an ML engineer or data scientist...  \n",
       "2        Full-time     3.9  Prior experience of developing and implanting ...  "
      ]
     },
     "execution_count": 22,
     "metadata": {},
     "output_type": "execute_result"
    }
   ],
   "source": [
    "city4.head(3)"
   ]
  },
  {
   "cell_type": "code",
   "execution_count": 23,
   "metadata": {},
   "outputs": [],
   "source": [
    "#Denver,CO jobs\n",
    "#city5=pd.read_csv(r'/Users/oc/Desktop/GA/material/Projects/project-4/project-4/Project 4 Salary/JobsDenver.csv')"
   ]
  },
  {
   "cell_type": "code",
   "execution_count": 24,
   "metadata": {},
   "outputs": [
    {
     "data": {
      "text/html": [
       "<div>\n",
       "<style scoped>\n",
       "    .dataframe tbody tr th:only-of-type {\n",
       "        vertical-align: middle;\n",
       "    }\n",
       "\n",
       "    .dataframe tbody tr th {\n",
       "        vertical-align: top;\n",
       "    }\n",
       "\n",
       "    .dataframe thead th {\n",
       "        text-align: right;\n",
       "    }\n",
       "</style>\n",
       "<table border=\"1\" class=\"dataframe\">\n",
       "  <thead>\n",
       "    <tr style=\"text-align: right;\">\n",
       "      <th></th>\n",
       "      <th>Job Title</th>\n",
       "      <th>Company</th>\n",
       "      <th>Location</th>\n",
       "      <th>Salary</th>\n",
       "      <th>Rating</th>\n",
       "      <th>Summary</th>\n",
       "    </tr>\n",
       "  </thead>\n",
       "  <tbody>\n",
       "    <tr>\n",
       "      <th>0</th>\n",
       "      <td>newData Scientist</td>\n",
       "      <td>Oracle</td>\n",
       "      <td>Denver, CO+1 location•Remote</td>\n",
       "      <td>$99,333 - $178,795 a year</td>\n",
       "      <td>3.8</td>\n",
       "      <td>8+ years digital data analytics with large dig...</td>\n",
       "    </tr>\n",
       "    <tr>\n",
       "      <th>1</th>\n",
       "      <td>Data Scientist - Nationwide Opportunities</td>\n",
       "      <td>Amazon Web Services, Inc.</td>\n",
       "      <td>Denver, CO+2 locations</td>\n",
       "      <td>$119,300 - $160,000 a year</td>\n",
       "      <td>3.5</td>\n",
       "      <td>Experience in an ML engineer or data scientist...</td>\n",
       "    </tr>\n",
       "    <tr>\n",
       "      <th>2</th>\n",
       "      <td>Senior Data Scientist</td>\n",
       "      <td>Verizon</td>\n",
       "      <td>Denver, CO 80202 (Central Business District area)</td>\n",
       "      <td>$117,000 - $217,000 a year</td>\n",
       "      <td>3.9</td>\n",
       "      <td>Build machine learning data pipelines and fram...</td>\n",
       "    </tr>\n",
       "  </tbody>\n",
       "</table>\n",
       "</div>"
      ],
      "text/plain": [
       "                                   Job Title                    Company  \\\n",
       "0                          newData Scientist                     Oracle   \n",
       "1  Data Scientist - Nationwide Opportunities  Amazon Web Services, Inc.   \n",
       "2                      Senior Data Scientist                    Verizon   \n",
       "\n",
       "                                            Location  \\\n",
       "0                       Denver, CO+1 location•Remote   \n",
       "1                             Denver, CO+2 locations   \n",
       "2  Denver, CO 80202 (Central Business District area)   \n",
       "\n",
       "                       Salary  Rating  \\\n",
       "0   $99,333 - $178,795 a year     3.8   \n",
       "1  $119,300 - $160,000 a year     3.5   \n",
       "2  $117,000 - $217,000 a year     3.9   \n",
       "\n",
       "                                             Summary  \n",
       "0  8+ years digital data analytics with large dig...  \n",
       "1  Experience in an ML engineer or data scientist...  \n",
       "2  Build machine learning data pipelines and fram...  "
      ]
     },
     "execution_count": 24,
     "metadata": {},
     "output_type": "execute_result"
    }
   ],
   "source": [
    "city5.head(3)"
   ]
  },
  {
   "cell_type": "code",
   "execution_count": 25,
   "metadata": {},
   "outputs": [],
   "source": [
    "#Huston,TX jobs\n",
    "#city6=pd.read_csv(r'/Users/oc/Desktop/GA/material/Projects/project-4/project-4/Project 4 Salary/JobsHouston.csv')"
   ]
  },
  {
   "cell_type": "code",
   "execution_count": 26,
   "metadata": {},
   "outputs": [
    {
     "data": {
      "text/html": [
       "<div>\n",
       "<style scoped>\n",
       "    .dataframe tbody tr th:only-of-type {\n",
       "        vertical-align: middle;\n",
       "    }\n",
       "\n",
       "    .dataframe tbody tr th {\n",
       "        vertical-align: top;\n",
       "    }\n",
       "\n",
       "    .dataframe thead th {\n",
       "        text-align: right;\n",
       "    }\n",
       "</style>\n",
       "<table border=\"1\" class=\"dataframe\">\n",
       "  <thead>\n",
       "    <tr style=\"text-align: right;\">\n",
       "      <th></th>\n",
       "      <th>Job Title</th>\n",
       "      <th>Company</th>\n",
       "      <th>Location</th>\n",
       "      <th>Salary</th>\n",
       "      <th>Rating</th>\n",
       "      <th>Summary</th>\n",
       "    </tr>\n",
       "  </thead>\n",
       "  <tbody>\n",
       "    <tr>\n",
       "      <th>0</th>\n",
       "      <td>newData Scientist</td>\n",
       "      <td>Red Dot Storage</td>\n",
       "      <td>Houston, TX•Remote</td>\n",
       "      <td>NaN</td>\n",
       "      <td>4.0</td>\n",
       "      <td>Red Dot Storage is looking for a driven Data S...</td>\n",
       "    </tr>\n",
       "    <tr>\n",
       "      <th>1</th>\n",
       "      <td>Data &amp; Applied Scientist</td>\n",
       "      <td>Microsoft</td>\n",
       "      <td>Houston, TX</td>\n",
       "      <td>NaN</td>\n",
       "      <td>4.2</td>\n",
       "      <td>O 2+ years of experience in data science, anal...</td>\n",
       "    </tr>\n",
       "    <tr>\n",
       "      <th>2</th>\n",
       "      <td>Data Scientist - Nationwide Opportunities</td>\n",
       "      <td>Amazon Web Services, Inc.</td>\n",
       "      <td>Houston, TX</td>\n",
       "      <td>$114,700 a year</td>\n",
       "      <td>3.5</td>\n",
       "      <td>Experience in an ML engineer or data scientist...</td>\n",
       "    </tr>\n",
       "  </tbody>\n",
       "</table>\n",
       "</div>"
      ],
      "text/plain": [
       "                                   Job Title                    Company  \\\n",
       "0                          newData Scientist            Red Dot Storage   \n",
       "1                   Data & Applied Scientist                  Microsoft   \n",
       "2  Data Scientist - Nationwide Opportunities  Amazon Web Services, Inc.   \n",
       "\n",
       "             Location           Salary  Rating  \\\n",
       "0  Houston, TX•Remote              NaN     4.0   \n",
       "1         Houston, TX              NaN     4.2   \n",
       "2         Houston, TX  $114,700 a year     3.5   \n",
       "\n",
       "                                             Summary  \n",
       "0  Red Dot Storage is looking for a driven Data S...  \n",
       "1  O 2+ years of experience in data science, anal...  \n",
       "2  Experience in an ML engineer or data scientist...  "
      ]
     },
     "execution_count": 26,
     "metadata": {},
     "output_type": "execute_result"
    }
   ],
   "source": [
    "city6.head(3)"
   ]
  },
  {
   "cell_type": "code",
   "execution_count": 27,
   "metadata": {},
   "outputs": [],
   "source": [
    "#I converted gbp into USD in a separate draft(London) notebook\n",
    "#wrote a function that converted a salary string to a number, averaging salary range.:steps by step:\n",
    "#df.drop_duplicates(subset=None, inplace=True)\n",
    "#df=df[df.Salary.str.contains(\"year\").fillna(False)]\n",
    "#RM=df.Rating.mean()\n",
    "#df.Rating.isnull().sum() \n",
    "#df.Rating.fillna(RM,inplace=True)#filled up 0 with mean value of RM\n",
    "#df.dropna(inplace=True)\n",
    "#function()str.contains year value only.\n",
    "#df=df[df.Salary.str.contains(\"year\")]\n",
    "#from string import digits \n",
    "#numerals = digits + '-' + ','\n",
    "#df.Salary=df.Salary.apply(lambda x : ''.join(c for c in x if c in numerals))\n",
    "#wrote a function that takes a salary string and converts it to a number, averaging a salary range.\n",
    "#df.Salary=df.Salary*1.37- coverted currency \n",
    "#df.to_csv(r'/Users/oc/Desktop/GA/material/Projects/project 4/project-4/Project 4 Salary/JobsLondonUS.csv');\n",
    "#saved clean and useful,rounded int,in USD London data."
   ]
  },
  {
   "cell_type": "code",
   "execution_count": 29,
   "metadata": {},
   "outputs": [],
   "source": [
    "#London,UK jobs in USD\n",
    "#city7=pd.read_csv(r'/Users/oc/Desktop/GA/material/Projects/project-4/project-4/Project 4 Salary/JobsLondonUS.csv')"
   ]
  },
  {
   "cell_type": "code",
   "execution_count": 30,
   "metadata": {},
   "outputs": [
    {
     "data": {
      "text/html": [
       "<div>\n",
       "<style scoped>\n",
       "    .dataframe tbody tr th:only-of-type {\n",
       "        vertical-align: middle;\n",
       "    }\n",
       "\n",
       "    .dataframe tbody tr th {\n",
       "        vertical-align: top;\n",
       "    }\n",
       "\n",
       "    .dataframe thead th {\n",
       "        text-align: right;\n",
       "    }\n",
       "</style>\n",
       "<table border=\"1\" class=\"dataframe\">\n",
       "  <thead>\n",
       "    <tr style=\"text-align: right;\">\n",
       "      <th></th>\n",
       "      <th>Job Title</th>\n",
       "      <th>Company</th>\n",
       "      <th>Location</th>\n",
       "      <th>Salary</th>\n",
       "      <th>Rating</th>\n",
       "      <th>Summary</th>\n",
       "    </tr>\n",
       "  </thead>\n",
       "  <tbody>\n",
       "    <tr>\n",
       "      <th>0</th>\n",
       "      <td>Laboratory Administrator</td>\n",
       "      <td>C19Recruit</td>\n",
       "      <td>Battersea</td>\n",
       "      <td>32880.0</td>\n",
       "      <td>3.8</td>\n",
       "      <td>We are adding a whole shift to the Laboratory ...</td>\n",
       "    </tr>\n",
       "    <tr>\n",
       "      <th>1</th>\n",
       "      <td>Application Support Analyst PL/SQL - Scientific</td>\n",
       "      <td>Client Server</td>\n",
       "      <td>London•Remote</td>\n",
       "      <td>68500.0</td>\n",
       "      <td>4.0</td>\n",
       "      <td>Desirable: familiarity with sample management ...</td>\n",
       "    </tr>\n",
       "    <tr>\n",
       "      <th>2</th>\n",
       "      <td>Bioinformatician</td>\n",
       "      <td>CK Group</td>\n",
       "      <td>London+1 location</td>\n",
       "      <td>68500.0</td>\n",
       "      <td>4.2</td>\n",
       "      <td>Manage and advance existing bioinformatic algo...</td>\n",
       "    </tr>\n",
       "    <tr>\n",
       "      <th>3</th>\n",
       "      <td>Machine Learning/Computer Vision Scientist (Ho...</td>\n",
       "      <td>re&amp;m</td>\n",
       "      <td>London•Remote</td>\n",
       "      <td>51375.0</td>\n",
       "      <td>3.8</td>\n",
       "      <td>FMachine Learning Engineers/Computer Vision Sc...</td>\n",
       "    </tr>\n",
       "    <tr>\n",
       "      <th>4</th>\n",
       "      <td>Bioinformatician</td>\n",
       "      <td>CK Group</td>\n",
       "      <td>London+1 location</td>\n",
       "      <td>68500.0</td>\n",
       "      <td>4.2</td>\n",
       "      <td>CK Group are recruiting for a Bioinformatician...</td>\n",
       "    </tr>\n",
       "  </tbody>\n",
       "</table>\n",
       "</div>"
      ],
      "text/plain": [
       "                                           Job Title        Company  \\\n",
       "0                           Laboratory Administrator     C19Recruit   \n",
       "1    Application Support Analyst PL/SQL - Scientific  Client Server   \n",
       "2                                   Bioinformatician       CK Group   \n",
       "3  Machine Learning/Computer Vision Scientist (Ho...           re&m   \n",
       "4                                   Bioinformatician       CK Group   \n",
       "\n",
       "            Location   Salary  Rating  \\\n",
       "0          Battersea  32880.0     3.8   \n",
       "1      London•Remote  68500.0     4.0   \n",
       "2  London+1 location  68500.0     4.2   \n",
       "3      London•Remote  51375.0     3.8   \n",
       "4  London+1 location  68500.0     4.2   \n",
       "\n",
       "                                             Summary  \n",
       "0  We are adding a whole shift to the Laboratory ...  \n",
       "1  Desirable: familiarity with sample management ...  \n",
       "2  Manage and advance existing bioinformatic algo...  \n",
       "3  FMachine Learning Engineers/Computer Vision Sc...  \n",
       "4  CK Group are recruiting for a Bioinformatician...  "
      ]
     },
     "execution_count": 30,
     "metadata": {},
     "output_type": "execute_result"
    }
   ],
   "source": [
    "city7"
   ]
  },
  {
   "cell_type": "code",
   "execution_count": 32,
   "metadata": {},
   "outputs": [],
   "source": [
    "#LA,CA jobs\n",
    "#city8=pd.read_csv(r'//Users/oc/Desktop/GA/material/Projects/project-4/project-4/Project 4 Salary/JobsLosAngeles.csv')"
   ]
  },
  {
   "cell_type": "code",
   "execution_count": 33,
   "metadata": {},
   "outputs": [
    {
     "data": {
      "text/html": [
       "<div>\n",
       "<style scoped>\n",
       "    .dataframe tbody tr th:only-of-type {\n",
       "        vertical-align: middle;\n",
       "    }\n",
       "\n",
       "    .dataframe tbody tr th {\n",
       "        vertical-align: top;\n",
       "    }\n",
       "\n",
       "    .dataframe thead th {\n",
       "        text-align: right;\n",
       "    }\n",
       "</style>\n",
       "<table border=\"1\" class=\"dataframe\">\n",
       "  <thead>\n",
       "    <tr style=\"text-align: right;\">\n",
       "      <th></th>\n",
       "      <th>Job Title</th>\n",
       "      <th>Company</th>\n",
       "      <th>Location</th>\n",
       "      <th>Salary</th>\n",
       "      <th>Rating</th>\n",
       "      <th>Summary</th>\n",
       "    </tr>\n",
       "  </thead>\n",
       "  <tbody>\n",
       "    <tr>\n",
       "      <th>0</th>\n",
       "      <td>Data Scientist</td>\n",
       "      <td>Clock Foundation</td>\n",
       "      <td>Torrance, CA 90502•Remote</td>\n",
       "      <td>$83,000 - $117,883 a year</td>\n",
       "      <td>NaN</td>\n",
       "      <td>Experience working alongside experimental pers...</td>\n",
       "    </tr>\n",
       "    <tr>\n",
       "      <th>1</th>\n",
       "      <td>newData Scientist</td>\n",
       "      <td>MWIDM Inc.</td>\n",
       "      <td>Los Angeles, CA 90032</td>\n",
       "      <td>$50 - $150 an hour</td>\n",
       "      <td>4.7</td>\n",
       "      <td>Create new experimental frameworks to collect ...</td>\n",
       "    </tr>\n",
       "    <tr>\n",
       "      <th>2</th>\n",
       "      <td>newData Scientist</td>\n",
       "      <td>Trusaic</td>\n",
       "      <td>Los Angeles, CA 90010 (Koreatown area)</td>\n",
       "      <td>NaN</td>\n",
       "      <td>3.1</td>\n",
       "      <td>Filter, sort, compute summary statistics, pivo...</td>\n",
       "    </tr>\n",
       "  </tbody>\n",
       "</table>\n",
       "</div>"
      ],
      "text/plain": [
       "           Job Title           Company  \\\n",
       "0     Data Scientist  Clock Foundation   \n",
       "1  newData Scientist        MWIDM Inc.   \n",
       "2  newData Scientist           Trusaic   \n",
       "\n",
       "                                 Location                     Salary  Rating  \\\n",
       "0               Torrance, CA 90502•Remote  $83,000 - $117,883 a year     NaN   \n",
       "1                   Los Angeles, CA 90032         $50 - $150 an hour     4.7   \n",
       "2  Los Angeles, CA 90010 (Koreatown area)                        NaN     3.1   \n",
       "\n",
       "                                             Summary  \n",
       "0  Experience working alongside experimental pers...  \n",
       "1  Create new experimental frameworks to collect ...  \n",
       "2  Filter, sort, compute summary statistics, pivo...  "
      ]
     },
     "execution_count": 33,
     "metadata": {},
     "output_type": "execute_result"
    }
   ],
   "source": [
    "city8.head(3)"
   ]
  },
  {
   "cell_type": "code",
   "execution_count": 34,
   "metadata": {},
   "outputs": [],
   "source": [
    "#Miami,FL jobs\n",
    "#city9=pd.read_csv(r'/Users/oc/Desktop/GA/material/Projects/project-4/project-4/Project 4 Salary/JobsMiami.csv')"
   ]
  },
  {
   "cell_type": "code",
   "execution_count": 35,
   "metadata": {},
   "outputs": [
    {
     "data": {
      "text/html": [
       "<div>\n",
       "<style scoped>\n",
       "    .dataframe tbody tr th:only-of-type {\n",
       "        vertical-align: middle;\n",
       "    }\n",
       "\n",
       "    .dataframe tbody tr th {\n",
       "        vertical-align: top;\n",
       "    }\n",
       "\n",
       "    .dataframe thead th {\n",
       "        text-align: right;\n",
       "    }\n",
       "</style>\n",
       "<table border=\"1\" class=\"dataframe\">\n",
       "  <thead>\n",
       "    <tr style=\"text-align: right;\">\n",
       "      <th></th>\n",
       "      <th>Job Title</th>\n",
       "      <th>Company</th>\n",
       "      <th>Location</th>\n",
       "      <th>Salary</th>\n",
       "      <th>Rating</th>\n",
       "      <th>Summary</th>\n",
       "    </tr>\n",
       "  </thead>\n",
       "  <tbody>\n",
       "    <tr>\n",
       "      <th>0</th>\n",
       "      <td>Data Scientist Engineer</td>\n",
       "      <td>Pri Global Inc</td>\n",
       "      <td>Miami, FL</td>\n",
       "      <td>$55 - $60 an hour</td>\n",
       "      <td>NaN</td>\n",
       "      <td>Experience in building and deploying productio...</td>\n",
       "    </tr>\n",
       "    <tr>\n",
       "      <th>1</th>\n",
       "      <td>newData Scientist</td>\n",
       "      <td>Southern Glazer's Wine and Spirits</td>\n",
       "      <td>Miramar, FL+1 location</td>\n",
       "      <td>NaN</td>\n",
       "      <td>3.5</td>\n",
       "      <td>Collaborate with Trade Development Team to dev...</td>\n",
       "    </tr>\n",
       "    <tr>\n",
       "      <th>2</th>\n",
       "      <td>newData Scientist</td>\n",
       "      <td>Greenbox Capital</td>\n",
       "      <td>Miami, FL 33137 (Upper Eastside area)</td>\n",
       "      <td>NaN</td>\n",
       "      <td>3.5</td>\n",
       "      <td>Provide mentorship to junior data scientists i...</td>\n",
       "    </tr>\n",
       "  </tbody>\n",
       "</table>\n",
       "</div>"
      ],
      "text/plain": [
       "                 Job Title                             Company  \\\n",
       "0  Data Scientist Engineer                      Pri Global Inc   \n",
       "1        newData Scientist  Southern Glazer's Wine and Spirits   \n",
       "2        newData Scientist                    Greenbox Capital   \n",
       "\n",
       "                                Location             Salary  Rating  \\\n",
       "0                              Miami, FL  $55 - $60 an hour     NaN   \n",
       "1                 Miramar, FL+1 location                NaN     3.5   \n",
       "2  Miami, FL 33137 (Upper Eastside area)                NaN     3.5   \n",
       "\n",
       "                                             Summary  \n",
       "0  Experience in building and deploying productio...  \n",
       "1  Collaborate with Trade Development Team to dev...  \n",
       "2  Provide mentorship to junior data scientists i...  "
      ]
     },
     "execution_count": 35,
     "metadata": {},
     "output_type": "execute_result"
    }
   ],
   "source": [
    "city9.head(3)"
   ]
  },
  {
   "cell_type": "code",
   "execution_count": 36,
   "metadata": {},
   "outputs": [],
   "source": [
    "#NY,NY jobs\n",
    "#city10=pd.read_csv(r'/Users/oc/Desktop/GA/material/Projects/project-4/project-4/Project 4 Salary/JobsNY.csv')"
   ]
  },
  {
   "cell_type": "code",
   "execution_count": 37,
   "metadata": {},
   "outputs": [
    {
     "data": {
      "text/html": [
       "<div>\n",
       "<style scoped>\n",
       "    .dataframe tbody tr th:only-of-type {\n",
       "        vertical-align: middle;\n",
       "    }\n",
       "\n",
       "    .dataframe tbody tr th {\n",
       "        vertical-align: top;\n",
       "    }\n",
       "\n",
       "    .dataframe thead th {\n",
       "        text-align: right;\n",
       "    }\n",
       "</style>\n",
       "<table border=\"1\" class=\"dataframe\">\n",
       "  <thead>\n",
       "    <tr style=\"text-align: right;\">\n",
       "      <th></th>\n",
       "      <th>Job Title</th>\n",
       "      <th>Company</th>\n",
       "      <th>Location</th>\n",
       "      <th>Salary</th>\n",
       "      <th>Rating</th>\n",
       "      <th>Summary</th>\n",
       "    </tr>\n",
       "  </thead>\n",
       "  <tbody>\n",
       "    <tr>\n",
       "      <th>0</th>\n",
       "      <td>newAssociate Data Scientist or Data Scientist,...</td>\n",
       "      <td>Spotify</td>\n",
       "      <td>New York, NY+9 locations•Remote</td>\n",
       "      <td>NaN</td>\n",
       "      <td>4.3</td>\n",
       "      <td>\\nCommunicate data-driven insights and recomme...</td>\n",
       "    </tr>\n",
       "    <tr>\n",
       "      <th>1</th>\n",
       "      <td>newJR. DATA SCIENTIST</td>\n",
       "      <td>ViacomCBS</td>\n",
       "      <td>New York, NY 10036 (Midtown area)</td>\n",
       "      <td>NaN</td>\n",
       "      <td>3.9</td>\n",
       "      <td>\\nWork with data scientists, data engineers, a...</td>\n",
       "    </tr>\n",
       "    <tr>\n",
       "      <th>2</th>\n",
       "      <td>Data Scientist, Game Analytics &amp; Strategy</td>\n",
       "      <td>the NBA</td>\n",
       "      <td>New York, NY 10022 (Midtown area)+1 location</td>\n",
       "      <td>NaN</td>\n",
       "      <td>4.2</td>\n",
       "      <td>\\nPerform exploratory analysis of new data sou...</td>\n",
       "    </tr>\n",
       "  </tbody>\n",
       "</table>\n",
       "</div>"
      ],
      "text/plain": [
       "                                           Job Title    Company  \\\n",
       "0  newAssociate Data Scientist or Data Scientist,...    Spotify   \n",
       "1                              newJR. DATA SCIENTIST  ViacomCBS   \n",
       "2          Data Scientist, Game Analytics & Strategy    the NBA   \n",
       "\n",
       "                                       Location Salary  Rating  \\\n",
       "0               New York, NY+9 locations•Remote    NaN     4.3   \n",
       "1             New York, NY 10036 (Midtown area)    NaN     3.9   \n",
       "2  New York, NY 10022 (Midtown area)+1 location    NaN     4.2   \n",
       "\n",
       "                                             Summary  \n",
       "0  \\nCommunicate data-driven insights and recomme...  \n",
       "1  \\nWork with data scientists, data engineers, a...  \n",
       "2  \\nPerform exploratory analysis of new data sou...  "
      ]
     },
     "execution_count": 37,
     "metadata": {},
     "output_type": "execute_result"
    }
   ],
   "source": [
    "city10.head(3)"
   ]
  },
  {
   "cell_type": "code",
   "execution_count": 38,
   "metadata": {},
   "outputs": [],
   "source": [
    "#Philadelphia,PA jobs\n",
    "#city11=pd.read_csv(r'/Users/oc/Desktop/GA/material/Projects/project-4/project-4/Project 4 Salary/JobsPhiladelphia.csv')\n"
   ]
  },
  {
   "cell_type": "code",
   "execution_count": 39,
   "metadata": {},
   "outputs": [
    {
     "data": {
      "text/html": [
       "<div>\n",
       "<style scoped>\n",
       "    .dataframe tbody tr th:only-of-type {\n",
       "        vertical-align: middle;\n",
       "    }\n",
       "\n",
       "    .dataframe tbody tr th {\n",
       "        vertical-align: top;\n",
       "    }\n",
       "\n",
       "    .dataframe thead th {\n",
       "        text-align: right;\n",
       "    }\n",
       "</style>\n",
       "<table border=\"1\" class=\"dataframe\">\n",
       "  <thead>\n",
       "    <tr style=\"text-align: right;\">\n",
       "      <th></th>\n",
       "      <th>Job Title</th>\n",
       "      <th>Company</th>\n",
       "      <th>Location</th>\n",
       "      <th>Salary</th>\n",
       "      <th>Rating</th>\n",
       "      <th>Summary</th>\n",
       "    </tr>\n",
       "  </thead>\n",
       "  <tbody>\n",
       "    <tr>\n",
       "      <th>0</th>\n",
       "      <td>Data Scientist - Nationwide Opportunities</td>\n",
       "      <td>Amazon Web Services, Inc.</td>\n",
       "      <td>Philadelphia, PA</td>\n",
       "      <td>$114,700 a year</td>\n",
       "      <td>3.5</td>\n",
       "      <td>Experience in an ML engineer or data scientist...</td>\n",
       "    </tr>\n",
       "    <tr>\n",
       "      <th>1</th>\n",
       "      <td>newData Scientist</td>\n",
       "      <td>AmeriHealth Caritas</td>\n",
       "      <td>Newtown Square, PA+1 location</td>\n",
       "      <td>NaN</td>\n",
       "      <td>3.3</td>\n",
       "      <td>Defines problems, collects data, applies advan...</td>\n",
       "    </tr>\n",
       "    <tr>\n",
       "      <th>2</th>\n",
       "      <td>newData Scientist</td>\n",
       "      <td>Sapient Industries</td>\n",
       "      <td>Philadelphia, PA 19103 (Logan Square area)</td>\n",
       "      <td>NaN</td>\n",
       "      <td>NaN</td>\n",
       "      <td>5+ years of working with data and data insight...</td>\n",
       "    </tr>\n",
       "  </tbody>\n",
       "</table>\n",
       "</div>"
      ],
      "text/plain": [
       "                                   Job Title                    Company  \\\n",
       "0  Data Scientist - Nationwide Opportunities  Amazon Web Services, Inc.   \n",
       "1                          newData Scientist        AmeriHealth Caritas   \n",
       "2                          newData Scientist         Sapient Industries   \n",
       "\n",
       "                                     Location           Salary  Rating  \\\n",
       "0                            Philadelphia, PA  $114,700 a year     3.5   \n",
       "1               Newtown Square, PA+1 location              NaN     3.3   \n",
       "2  Philadelphia, PA 19103 (Logan Square area)              NaN     NaN   \n",
       "\n",
       "                                             Summary  \n",
       "0  Experience in an ML engineer or data scientist...  \n",
       "1  Defines problems, collects data, applies advan...  \n",
       "2  5+ years of working with data and data insight...  "
      ]
     },
     "execution_count": 39,
     "metadata": {},
     "output_type": "execute_result"
    }
   ],
   "source": [
    "city11.head(3)"
   ]
  },
  {
   "cell_type": "code",
   "execution_count": 40,
   "metadata": {},
   "outputs": [],
   "source": [
    "#Phoenix,AZ jobs\n",
    "#city12=pd.read_csv(r'/Users/oc/Desktop/GA/material/Projects/project-4/project-4/Project 4 Salary/JobsPhoenix.csv')"
   ]
  },
  {
   "cell_type": "code",
   "execution_count": 41,
   "metadata": {},
   "outputs": [
    {
     "data": {
      "text/html": [
       "<div>\n",
       "<style scoped>\n",
       "    .dataframe tbody tr th:only-of-type {\n",
       "        vertical-align: middle;\n",
       "    }\n",
       "\n",
       "    .dataframe tbody tr th {\n",
       "        vertical-align: top;\n",
       "    }\n",
       "\n",
       "    .dataframe thead th {\n",
       "        text-align: right;\n",
       "    }\n",
       "</style>\n",
       "<table border=\"1\" class=\"dataframe\">\n",
       "  <thead>\n",
       "    <tr style=\"text-align: right;\">\n",
       "      <th></th>\n",
       "      <th>Job Title</th>\n",
       "      <th>Company</th>\n",
       "      <th>Location</th>\n",
       "      <th>Salary</th>\n",
       "      <th>Rating</th>\n",
       "      <th>Summary</th>\n",
       "    </tr>\n",
       "  </thead>\n",
       "  <tbody>\n",
       "    <tr>\n",
       "      <th>0</th>\n",
       "      <td>Data Scientist - Nationwide Opportunities</td>\n",
       "      <td>Amazon Web Services, Inc.</td>\n",
       "      <td>Phoenix, AZ</td>\n",
       "      <td>$114,700 a year</td>\n",
       "      <td>3.5</td>\n",
       "      <td>Experience in an ML engineer or data scientist...</td>\n",
       "    </tr>\n",
       "    <tr>\n",
       "      <th>1</th>\n",
       "      <td>newData Scientist (Part</td>\n",
       "      <td>Caris Life Sciences</td>\n",
       "      <td>Phoenix, AZ 85040 (South Mountain area)+3 loca...</td>\n",
       "      <td>NaN</td>\n",
       "      <td>2.7</td>\n",
       "      <td>Manipulate and process large multisource data ...</td>\n",
       "    </tr>\n",
       "    <tr>\n",
       "      <th>2</th>\n",
       "      <td>Lead Data Scientist</td>\n",
       "      <td>DISCOUNT TIRE</td>\n",
       "      <td>Scottsdale, AZ</td>\n",
       "      <td>NaN</td>\n",
       "      <td>3.9</td>\n",
       "      <td>Advises technology partners on new data source...</td>\n",
       "    </tr>\n",
       "  </tbody>\n",
       "</table>\n",
       "</div>"
      ],
      "text/plain": [
       "                                   Job Title                    Company  \\\n",
       "0  Data Scientist - Nationwide Opportunities  Amazon Web Services, Inc.   \n",
       "1                    newData Scientist (Part        Caris Life Sciences   \n",
       "2                        Lead Data Scientist              DISCOUNT TIRE   \n",
       "\n",
       "                                            Location           Salary  Rating  \\\n",
       "0                                        Phoenix, AZ  $114,700 a year     3.5   \n",
       "1  Phoenix, AZ 85040 (South Mountain area)+3 loca...              NaN     2.7   \n",
       "2                                     Scottsdale, AZ              NaN     3.9   \n",
       "\n",
       "                                             Summary  \n",
       "0  Experience in an ML engineer or data scientist...  \n",
       "1  Manipulate and process large multisource data ...  \n",
       "2  Advises technology partners on new data source...  "
      ]
     },
     "execution_count": 41,
     "metadata": {},
     "output_type": "execute_result"
    }
   ],
   "source": [
    "city12.head(3)"
   ]
  },
  {
   "cell_type": "code",
   "execution_count": 42,
   "metadata": {},
   "outputs": [],
   "source": [
    "#Pittsburgh,PA jobs\n",
    "#city13=pd.read_csv(r'/Users/oc/Desktop/GA/material/Projects/project-4/project-4/Project 4 Salary/JobsPittsburgh.csv')"
   ]
  },
  {
   "cell_type": "code",
   "execution_count": 43,
   "metadata": {},
   "outputs": [
    {
     "data": {
      "text/html": [
       "<div>\n",
       "<style scoped>\n",
       "    .dataframe tbody tr th:only-of-type {\n",
       "        vertical-align: middle;\n",
       "    }\n",
       "\n",
       "    .dataframe tbody tr th {\n",
       "        vertical-align: top;\n",
       "    }\n",
       "\n",
       "    .dataframe thead th {\n",
       "        text-align: right;\n",
       "    }\n",
       "</style>\n",
       "<table border=\"1\" class=\"dataframe\">\n",
       "  <thead>\n",
       "    <tr style=\"text-align: right;\">\n",
       "      <th></th>\n",
       "      <th>Job Title</th>\n",
       "      <th>Company</th>\n",
       "      <th>Location</th>\n",
       "      <th>Salary</th>\n",
       "      <th>Rating</th>\n",
       "      <th>Summary</th>\n",
       "    </tr>\n",
       "  </thead>\n",
       "  <tbody>\n",
       "    <tr>\n",
       "      <th>0</th>\n",
       "      <td>newData Scientist</td>\n",
       "      <td>The University of Pittsburgh</td>\n",
       "      <td>Pittsburgh, PA</td>\n",
       "      <td>$46,644 - $76,440 a year</td>\n",
       "      <td>4.2</td>\n",
       "      <td>Several years experience in data management; e...</td>\n",
       "    </tr>\n",
       "    <tr>\n",
       "      <th>1</th>\n",
       "      <td>newData Scientist II</td>\n",
       "      <td>Honeywell</td>\n",
       "      <td>Pittsburgh, PA 15222 (Strip District area)</td>\n",
       "      <td>NaN</td>\n",
       "      <td>3.7</td>\n",
       "      <td>Full term of experience must include: applying...</td>\n",
       "    </tr>\n",
       "    <tr>\n",
       "      <th>2</th>\n",
       "      <td>Data Scientist - Entry Level</td>\n",
       "      <td>Govini</td>\n",
       "      <td>Pittsburgh, PA+1 location</td>\n",
       "      <td>NaN</td>\n",
       "      <td>2.5</td>\n",
       "      <td>As part of our team, you must be a data nerd w...</td>\n",
       "    </tr>\n",
       "  </tbody>\n",
       "</table>\n",
       "</div>"
      ],
      "text/plain": [
       "                      Job Title                       Company  \\\n",
       "0             newData Scientist  The University of Pittsburgh   \n",
       "1          newData Scientist II                     Honeywell   \n",
       "2  Data Scientist - Entry Level                        Govini   \n",
       "\n",
       "                                     Location                    Salary  \\\n",
       "0                              Pittsburgh, PA  $46,644 - $76,440 a year   \n",
       "1  Pittsburgh, PA 15222 (Strip District area)                       NaN   \n",
       "2                   Pittsburgh, PA+1 location                       NaN   \n",
       "\n",
       "   Rating                                            Summary  \n",
       "0     4.2  Several years experience in data management; e...  \n",
       "1     3.7  Full term of experience must include: applying...  \n",
       "2     2.5  As part of our team, you must be a data nerd w...  "
      ]
     },
     "execution_count": 43,
     "metadata": {},
     "output_type": "execute_result"
    }
   ],
   "source": [
    "city13.head(3)"
   ]
  },
  {
   "cell_type": "code",
   "execution_count": 44,
   "metadata": {},
   "outputs": [],
   "source": [
    "#Portland,OR jobs\n",
    "#city14=pd.read_csv(r'/Users/oc/Desktop/GA/material/Projects/project-4/project-4/Project 4 Salary/JobsPortland.csv')\n"
   ]
  },
  {
   "cell_type": "code",
   "execution_count": 45,
   "metadata": {},
   "outputs": [
    {
     "data": {
      "text/html": [
       "<div>\n",
       "<style scoped>\n",
       "    .dataframe tbody tr th:only-of-type {\n",
       "        vertical-align: middle;\n",
       "    }\n",
       "\n",
       "    .dataframe tbody tr th {\n",
       "        vertical-align: top;\n",
       "    }\n",
       "\n",
       "    .dataframe thead th {\n",
       "        text-align: right;\n",
       "    }\n",
       "</style>\n",
       "<table border=\"1\" class=\"dataframe\">\n",
       "  <thead>\n",
       "    <tr style=\"text-align: right;\">\n",
       "      <th></th>\n",
       "      <th>Job Title</th>\n",
       "      <th>Company</th>\n",
       "      <th>Location</th>\n",
       "      <th>Salary</th>\n",
       "      <th>Rating</th>\n",
       "      <th>Summary</th>\n",
       "    </tr>\n",
       "  </thead>\n",
       "  <tbody>\n",
       "    <tr>\n",
       "      <th>0</th>\n",
       "      <td>Data Scientist - Nationwide Opportunities</td>\n",
       "      <td>Amazon Web Services, Inc.</td>\n",
       "      <td>Portland, OR</td>\n",
       "      <td>$114,700 a year</td>\n",
       "      <td>3.5</td>\n",
       "      <td>Experience in an ML engineer or data scientist...</td>\n",
       "    </tr>\n",
       "    <tr>\n",
       "      <th>1</th>\n",
       "      <td>newData Scientist</td>\n",
       "      <td>Intel</td>\n",
       "      <td>Hillsboro, OR 97124+2 locations</td>\n",
       "      <td>Full-time</td>\n",
       "      <td>4.1</td>\n",
       "      <td>Build proofs of concept locally and define and...</td>\n",
       "    </tr>\n",
       "    <tr>\n",
       "      <th>2</th>\n",
       "      <td>Data Scientist</td>\n",
       "      <td>Nike</td>\n",
       "      <td>Beaverton, OR+3 locations</td>\n",
       "      <td>Full-time</td>\n",
       "      <td>4.1</td>\n",
       "      <td>Partner with data scientists and researchers, ...</td>\n",
       "    </tr>\n",
       "  </tbody>\n",
       "</table>\n",
       "</div>"
      ],
      "text/plain": [
       "                                   Job Title                    Company  \\\n",
       "0  Data Scientist - Nationwide Opportunities  Amazon Web Services, Inc.   \n",
       "1                          newData Scientist                      Intel   \n",
       "2                             Data Scientist                       Nike   \n",
       "\n",
       "                          Location           Salary  Rating  \\\n",
       "0                     Portland, OR  $114,700 a year     3.5   \n",
       "1  Hillsboro, OR 97124+2 locations        Full-time     4.1   \n",
       "2        Beaverton, OR+3 locations        Full-time     4.1   \n",
       "\n",
       "                                             Summary  \n",
       "0  Experience in an ML engineer or data scientist...  \n",
       "1  Build proofs of concept locally and define and...  \n",
       "2  Partner with data scientists and researchers, ...  "
      ]
     },
     "execution_count": 45,
     "metadata": {},
     "output_type": "execute_result"
    }
   ],
   "source": [
    "city14.head(3)"
   ]
  },
  {
   "cell_type": "code",
   "execution_count": 46,
   "metadata": {},
   "outputs": [],
   "source": [
    "#San Fransisco,CA jobs\n",
    "#city15=pd.read_csv(r'/Users/oc/Desktop/GA/material/Projects/project-4/project-4/Project 4 Salary/JobsSanFrancisco.csv')"
   ]
  },
  {
   "cell_type": "code",
   "execution_count": 47,
   "metadata": {},
   "outputs": [
    {
     "data": {
      "text/html": [
       "<div>\n",
       "<style scoped>\n",
       "    .dataframe tbody tr th:only-of-type {\n",
       "        vertical-align: middle;\n",
       "    }\n",
       "\n",
       "    .dataframe tbody tr th {\n",
       "        vertical-align: top;\n",
       "    }\n",
       "\n",
       "    .dataframe thead th {\n",
       "        text-align: right;\n",
       "    }\n",
       "</style>\n",
       "<table border=\"1\" class=\"dataframe\">\n",
       "  <thead>\n",
       "    <tr style=\"text-align: right;\">\n",
       "      <th></th>\n",
       "      <th>Job Title</th>\n",
       "      <th>Company</th>\n",
       "      <th>Location</th>\n",
       "      <th>Salary</th>\n",
       "      <th>Rating</th>\n",
       "      <th>Summary</th>\n",
       "    </tr>\n",
       "  </thead>\n",
       "  <tbody>\n",
       "    <tr>\n",
       "      <th>0</th>\n",
       "      <td>Data Scientist I, Product Analytics</td>\n",
       "      <td>Tinder</td>\n",
       "      <td>San Francisco, CA</td>\n",
       "      <td>NaN</td>\n",
       "      <td>4.6</td>\n",
       "      <td>Experience with SQL and data visualization too...</td>\n",
       "    </tr>\n",
       "    <tr>\n",
       "      <th>1</th>\n",
       "      <td>Staff Data Scientist, Virtual HQ</td>\n",
       "      <td>Slack</td>\n",
       "      <td>San Francisco, CA•Remote work available</td>\n",
       "      <td>$142,400 a year</td>\n",
       "      <td>3.8</td>\n",
       "      <td>Experience working with data technologies that...</td>\n",
       "    </tr>\n",
       "    <tr>\n",
       "      <th>2</th>\n",
       "      <td>University Grad Data Scientist</td>\n",
       "      <td>Pinterest</td>\n",
       "      <td>San Francisco, CA 94103 (South of Market area)...</td>\n",
       "      <td>NaN</td>\n",
       "      <td>4.2</td>\n",
       "      <td>Work with product managers and engineers to de...</td>\n",
       "    </tr>\n",
       "  </tbody>\n",
       "</table>\n",
       "</div>"
      ],
      "text/plain": [
       "                             Job Title    Company  \\\n",
       "0  Data Scientist I, Product Analytics     Tinder   \n",
       "1     Staff Data Scientist, Virtual HQ      Slack   \n",
       "2       University Grad Data Scientist  Pinterest   \n",
       "\n",
       "                                            Location           Salary  Rating  \\\n",
       "0                                  San Francisco, CA              NaN     4.6   \n",
       "1            San Francisco, CA•Remote work available  $142,400 a year     3.8   \n",
       "2  San Francisco, CA 94103 (South of Market area)...              NaN     4.2   \n",
       "\n",
       "                                             Summary  \n",
       "0  Experience with SQL and data visualization too...  \n",
       "1  Experience working with data technologies that...  \n",
       "2  Work with product managers and engineers to de...  "
      ]
     },
     "execution_count": 47,
     "metadata": {},
     "output_type": "execute_result"
    }
   ],
   "source": [
    "city15.head(3)"
   ]
  },
  {
   "cell_type": "code",
   "execution_count": 48,
   "metadata": {},
   "outputs": [],
   "source": [
    "#Seatlle,WA jobs\n",
    "#city16=pd.read_csv(r'/Users/oc/Desktop/GA/material/Projects/project-4/project-4/Project 4 Salary/JobsSeattle.csv')"
   ]
  },
  {
   "cell_type": "code",
   "execution_count": 49,
   "metadata": {},
   "outputs": [
    {
     "data": {
      "text/html": [
       "<div>\n",
       "<style scoped>\n",
       "    .dataframe tbody tr th:only-of-type {\n",
       "        vertical-align: middle;\n",
       "    }\n",
       "\n",
       "    .dataframe tbody tr th {\n",
       "        vertical-align: top;\n",
       "    }\n",
       "\n",
       "    .dataframe thead th {\n",
       "        text-align: right;\n",
       "    }\n",
       "</style>\n",
       "<table border=\"1\" class=\"dataframe\">\n",
       "  <thead>\n",
       "    <tr style=\"text-align: right;\">\n",
       "      <th></th>\n",
       "      <th>Job Title</th>\n",
       "      <th>Company</th>\n",
       "      <th>Location</th>\n",
       "      <th>Salary</th>\n",
       "      <th>Rating</th>\n",
       "      <th>Summary</th>\n",
       "    </tr>\n",
       "  </thead>\n",
       "  <tbody>\n",
       "    <tr>\n",
       "      <th>0</th>\n",
       "      <td>Data Scientist</td>\n",
       "      <td>Opanga Networks</td>\n",
       "      <td>Seattle, WA 98164 (Downtown area)</td>\n",
       "      <td>From $65,000 a year</td>\n",
       "      <td>NaN</td>\n",
       "      <td>Enhancing data collection procedures to includ...</td>\n",
       "    </tr>\n",
       "    <tr>\n",
       "      <th>1</th>\n",
       "      <td>Data Scientist</td>\n",
       "      <td>American Capital Group</td>\n",
       "      <td>Bellevue, WA 98005 (Belred area)</td>\n",
       "      <td>$150,000 a year</td>\n",
       "      <td>2.9</td>\n",
       "      <td>Create a data lake for raw data and a data war...</td>\n",
       "    </tr>\n",
       "    <tr>\n",
       "      <th>2</th>\n",
       "      <td>Principal Data Scientist - Match Recommendations</td>\n",
       "      <td>Indeed</td>\n",
       "      <td>Seattle, WA•Temporarily Remote</td>\n",
       "      <td>$223,000 - $324,000 a year</td>\n",
       "      <td>4.3</td>\n",
       "      <td>Mentor and grow other software engineers and d...</td>\n",
       "    </tr>\n",
       "  </tbody>\n",
       "</table>\n",
       "</div>"
      ],
      "text/plain": [
       "                                          Job Title                 Company  \\\n",
       "0                                    Data Scientist         Opanga Networks   \n",
       "1                                    Data Scientist  American Capital Group   \n",
       "2  Principal Data Scientist - Match Recommendations                  Indeed   \n",
       "\n",
       "                            Location                      Salary  Rating  \\\n",
       "0  Seattle, WA 98164 (Downtown area)         From $65,000 a year     NaN   \n",
       "1   Bellevue, WA 98005 (Belred area)             $150,000 a year     2.9   \n",
       "2     Seattle, WA•Temporarily Remote  $223,000 - $324,000 a year     4.3   \n",
       "\n",
       "                                             Summary  \n",
       "0  Enhancing data collection procedures to includ...  \n",
       "1  Create a data lake for raw data and a data war...  \n",
       "2  Mentor and grow other software engineers and d...  "
      ]
     },
     "execution_count": 49,
     "metadata": {},
     "output_type": "execute_result"
    }
   ],
   "source": [
    "city16.head(3)"
   ]
  },
  {
   "cell_type": "code",
   "execution_count": null,
   "metadata": {},
   "outputs": [],
   "source": []
  },
  {
   "cell_type": "code",
   "execution_count": null,
   "metadata": {},
   "outputs": [],
   "source": []
  },
  {
   "cell_type": "code",
   "execution_count": null,
   "metadata": {},
   "outputs": [],
   "source": [
    "#Same cleaning and currency converting in draft Toronto notebook."
   ]
  },
  {
   "cell_type": "code",
   "execution_count": 50,
   "metadata": {},
   "outputs": [],
   "source": [
    "#Toronto jobs in USD\n",
    "#city17=pd.read_csv(r'/Users/oc/Desktop/GA/material/Projects/project-4/project-4/Project 4 Salary/JobsTorontoUS.csv')"
   ]
  },
  {
   "cell_type": "code",
   "execution_count": 51,
   "metadata": {},
   "outputs": [
    {
     "data": {
      "text/html": [
       "<div>\n",
       "<style scoped>\n",
       "    .dataframe tbody tr th:only-of-type {\n",
       "        vertical-align: middle;\n",
       "    }\n",
       "\n",
       "    .dataframe tbody tr th {\n",
       "        vertical-align: top;\n",
       "    }\n",
       "\n",
       "    .dataframe thead th {\n",
       "        text-align: right;\n",
       "    }\n",
       "</style>\n",
       "<table border=\"1\" class=\"dataframe\">\n",
       "  <thead>\n",
       "    <tr style=\"text-align: right;\">\n",
       "      <th></th>\n",
       "      <th>Job Title</th>\n",
       "      <th>Company</th>\n",
       "      <th>Location</th>\n",
       "      <th>Salary</th>\n",
       "      <th>Rating</th>\n",
       "      <th>Summary</th>\n",
       "    </tr>\n",
       "  </thead>\n",
       "  <tbody>\n",
       "    <tr>\n",
       "      <th>0</th>\n",
       "      <td>data scientist</td>\n",
       "      <td>Tiger Analytics Inc.</td>\n",
       "      <td>Toronto, ON•Remote</td>\n",
       "      <td>96000.0</td>\n",
       "      <td>3.823214</td>\n",
       "      <td>Research and document data requirements, data ...</td>\n",
       "    </tr>\n",
       "    <tr>\n",
       "      <th>1</th>\n",
       "      <td>newData Scientist</td>\n",
       "      <td>EatSleepRide</td>\n",
       "      <td>Toronto, ON•Temporarily Remote</td>\n",
       "      <td>69713.2</td>\n",
       "      <td>3.823214</td>\n",
       "      <td>· Normalize &amp; classify the data sets*.· Experi...</td>\n",
       "    </tr>\n",
       "    <tr>\n",
       "      <th>2</th>\n",
       "      <td>newInformation Analyst</td>\n",
       "      <td>Elections Ontario</td>\n",
       "      <td>Toronto, ON</td>\n",
       "      <td>53110.4</td>\n",
       "      <td>4.300000</td>\n",
       "      <td>Conduct periodic data analyses to monitor data...</td>\n",
       "    </tr>\n",
       "  </tbody>\n",
       "</table>\n",
       "</div>"
      ],
      "text/plain": [
       "                Job Title               Company  \\\n",
       "0          data scientist  Tiger Analytics Inc.   \n",
       "1       newData Scientist          EatSleepRide   \n",
       "2  newInformation Analyst     Elections Ontario   \n",
       "\n",
       "                         Location   Salary    Rating  \\\n",
       "0              Toronto, ON•Remote  96000.0  3.823214   \n",
       "1  Toronto, ON•Temporarily Remote  69713.2  3.823214   \n",
       "2                     Toronto, ON  53110.4  4.300000   \n",
       "\n",
       "                                             Summary  \n",
       "0  Research and document data requirements, data ...  \n",
       "1  · Normalize & classify the data sets*.· Experi...  \n",
       "2  Conduct periodic data analyses to monitor data...  "
      ]
     },
     "execution_count": 51,
     "metadata": {},
     "output_type": "execute_result"
    }
   ],
   "source": [
    "city17.head(3)"
   ]
  },
  {
   "cell_type": "code",
   "execution_count": 53,
   "metadata": {},
   "outputs": [],
   "source": [
    "#Washington State,jobs\n",
    "#city18=pd.read_csv(r'/Users/oc/Desktop/GA/material/Projects/project-4/project-4/Project 4 Salary/JobsWashington State.csv')"
   ]
  },
  {
   "cell_type": "code",
   "execution_count": 54,
   "metadata": {},
   "outputs": [
    {
     "data": {
      "text/html": [
       "<div>\n",
       "<style scoped>\n",
       "    .dataframe tbody tr th:only-of-type {\n",
       "        vertical-align: middle;\n",
       "    }\n",
       "\n",
       "    .dataframe tbody tr th {\n",
       "        vertical-align: top;\n",
       "    }\n",
       "\n",
       "    .dataframe thead th {\n",
       "        text-align: right;\n",
       "    }\n",
       "</style>\n",
       "<table border=\"1\" class=\"dataframe\">\n",
       "  <thead>\n",
       "    <tr style=\"text-align: right;\">\n",
       "      <th></th>\n",
       "      <th>Job Title</th>\n",
       "      <th>Company</th>\n",
       "      <th>Location</th>\n",
       "      <th>Salary</th>\n",
       "      <th>Rating</th>\n",
       "      <th>Summary</th>\n",
       "    </tr>\n",
       "  </thead>\n",
       "  <tbody>\n",
       "    <tr>\n",
       "      <th>0</th>\n",
       "      <td>newdata scientist (multiple openings) - Seattl...</td>\n",
       "      <td>Starbucks</td>\n",
       "      <td>Seattle, WA•Remote work available</td>\n",
       "      <td>NaN</td>\n",
       "      <td>4.0</td>\n",
       "      <td>As a data scientist, you will….The data scient...</td>\n",
       "    </tr>\n",
       "    <tr>\n",
       "      <th>1</th>\n",
       "      <td>Data Scientist</td>\n",
       "      <td>Microsoft</td>\n",
       "      <td>Bellevue, WA+13 locations</td>\n",
       "      <td>NaN</td>\n",
       "      <td>4.2</td>\n",
       "      <td>1+ years of experience in statistical modellin...</td>\n",
       "    </tr>\n",
       "    <tr>\n",
       "      <th>2</th>\n",
       "      <td>Data Scientist - Nationwide Opportunities</td>\n",
       "      <td>Amazon Web Services, Inc.</td>\n",
       "      <td>Seattle, WA</td>\n",
       "      <td>$114,700 a year</td>\n",
       "      <td>3.5</td>\n",
       "      <td>Experience in an ML engineer or data scientist...</td>\n",
       "    </tr>\n",
       "    <tr>\n",
       "      <th>3</th>\n",
       "      <td>Data Scientist - ProServe</td>\n",
       "      <td>Amazon Web Services, Inc.</td>\n",
       "      <td>Washington State</td>\n",
       "      <td>$114,700 a year</td>\n",
       "      <td>3.5</td>\n",
       "      <td>Experience in an ML engineer or data scientist...</td>\n",
       "    </tr>\n",
       "    <tr>\n",
       "      <th>4</th>\n",
       "      <td>Data Scientist 1, People Analytics - remote</td>\n",
       "      <td>Nordstrom Inc</td>\n",
       "      <td>Seattle, WA+10 locations•Remote</td>\n",
       "      <td>NaN</td>\n",
       "      <td>3.9</td>\n",
       "      <td>Prototype and build data pipelines.The Data Sc...</td>\n",
       "    </tr>\n",
       "  </tbody>\n",
       "</table>\n",
       "</div>"
      ],
      "text/plain": [
       "                                           Job Title  \\\n",
       "0  newdata scientist (multiple openings) - Seattl...   \n",
       "1                                     Data Scientist   \n",
       "2          Data Scientist - Nationwide Opportunities   \n",
       "3                          Data Scientist - ProServe   \n",
       "4        Data Scientist 1, People Analytics - remote   \n",
       "\n",
       "                     Company                           Location  \\\n",
       "0                  Starbucks  Seattle, WA•Remote work available   \n",
       "1                  Microsoft          Bellevue, WA+13 locations   \n",
       "2  Amazon Web Services, Inc.                        Seattle, WA   \n",
       "3  Amazon Web Services, Inc.                   Washington State   \n",
       "4              Nordstrom Inc    Seattle, WA+10 locations•Remote   \n",
       "\n",
       "            Salary  Rating                                            Summary  \n",
       "0              NaN     4.0  As a data scientist, you will….The data scient...  \n",
       "1              NaN     4.2  1+ years of experience in statistical modellin...  \n",
       "2  $114,700 a year     3.5  Experience in an ML engineer or data scientist...  \n",
       "3  $114,700 a year     3.5  Experience in an ML engineer or data scientist...  \n",
       "4              NaN     3.9  Prototype and build data pipelines.The Data Sc...  "
      ]
     },
     "execution_count": 54,
     "metadata": {},
     "output_type": "execute_result"
    }
   ],
   "source": [
    "city18.head()"
   ]
  },
  {
   "cell_type": "code",
   "execution_count": 55,
   "metadata": {},
   "outputs": [],
   "source": [
    "df=pd.concat([city1,city2,city3,city4,city5,city6,city7,city8,city9,city10,city11,city12,city13,city14,city15,city16,city17,city18],axis=0)"
   ]
  },
  {
   "cell_type": "code",
   "execution_count": 56,
   "metadata": {},
   "outputs": [
    {
     "data": {
      "text/plain": [
       "(16485, 6)"
      ]
     },
     "execution_count": 56,
     "metadata": {},
     "output_type": "execute_result"
    }
   ],
   "source": [
    "df.shape"
   ]
  },
  {
   "cell_type": "code",
   "execution_count": 57,
   "metadata": {},
   "outputs": [
    {
     "data": {
      "text/plain": [
       "(5123, 6)"
      ]
     },
     "execution_count": 57,
     "metadata": {},
     "output_type": "execute_result"
    }
   ],
   "source": [
    "#dropped duplicates and have 5123 rows, 6columns\n",
    "df=df.drop_duplicates()\n",
    "df.shape"
   ]
  },
  {
   "cell_type": "code",
   "execution_count": 58,
   "metadata": {},
   "outputs": [
    {
     "data": {
      "text/html": [
       "<div>\n",
       "<style scoped>\n",
       "    .dataframe tbody tr th:only-of-type {\n",
       "        vertical-align: middle;\n",
       "    }\n",
       "\n",
       "    .dataframe tbody tr th {\n",
       "        vertical-align: top;\n",
       "    }\n",
       "\n",
       "    .dataframe thead th {\n",
       "        text-align: right;\n",
       "    }\n",
       "</style>\n",
       "<table border=\"1\" class=\"dataframe\">\n",
       "  <thead>\n",
       "    <tr style=\"text-align: right;\">\n",
       "      <th></th>\n",
       "      <th>Job Title</th>\n",
       "      <th>Company</th>\n",
       "      <th>Location</th>\n",
       "      <th>Salary</th>\n",
       "      <th>Rating</th>\n",
       "      <th>Summary</th>\n",
       "    </tr>\n",
       "  </thead>\n",
       "  <tbody>\n",
       "    <tr>\n",
       "      <th>0</th>\n",
       "      <td>Principal Data Scientist - Match Recommendations</td>\n",
       "      <td>Indeed</td>\n",
       "      <td>Austin, TX•Temporarily Remote</td>\n",
       "      <td>$223,000 - $324,000 a year</td>\n",
       "      <td>4.3</td>\n",
       "      <td>Mentor and grow other software engineers and d...</td>\n",
       "    </tr>\n",
       "    <tr>\n",
       "      <th>1</th>\n",
       "      <td>Senior Data Scientist - Ranking Team</td>\n",
       "      <td>Indeed</td>\n",
       "      <td>Austin, TX</td>\n",
       "      <td>$123,000 - $179,000 a year</td>\n",
       "      <td>4.3</td>\n",
       "      <td>Proactively research data and identify opportu...</td>\n",
       "    </tr>\n",
       "    <tr>\n",
       "      <th>2</th>\n",
       "      <td>Data Scientist I - 637</td>\n",
       "      <td>O'Neil Global Advisors, Inc.</td>\n",
       "      <td>Austin, TX•Remote</td>\n",
       "      <td>NaN</td>\n",
       "      <td>NaN</td>\n",
       "      <td>Advanced skill with data science topics such a...</td>\n",
       "    </tr>\n",
       "    <tr>\n",
       "      <th>3</th>\n",
       "      <td>Sr. Data Scientist</td>\n",
       "      <td>Charles Schwab</td>\n",
       "      <td>Austin, TX•Remote work available</td>\n",
       "      <td>$122,700 - $200,300 a year</td>\n",
       "      <td>3.9</td>\n",
       "      <td>Document technical designs and data engineerin...</td>\n",
       "    </tr>\n",
       "    <tr>\n",
       "      <th>4</th>\n",
       "      <td>newLead Data Scientist</td>\n",
       "      <td>Insight Global</td>\n",
       "      <td>Austin, TX 78735 (East Oak Hill area)</td>\n",
       "      <td>$140,000 - $160,000 a year</td>\n",
       "      <td>3.9</td>\n",
       "      <td>You will be an expert at understanding our goa...</td>\n",
       "    </tr>\n",
       "  </tbody>\n",
       "</table>\n",
       "</div>"
      ],
      "text/plain": [
       "                                          Job Title  \\\n",
       "0  Principal Data Scientist - Match Recommendations   \n",
       "1              Senior Data Scientist - Ranking Team   \n",
       "2                            Data Scientist I - 637   \n",
       "3                                Sr. Data Scientist   \n",
       "4                            newLead Data Scientist   \n",
       "\n",
       "                        Company                               Location  \\\n",
       "0                        Indeed          Austin, TX•Temporarily Remote   \n",
       "1                        Indeed                             Austin, TX   \n",
       "2  O'Neil Global Advisors, Inc.                      Austin, TX•Remote   \n",
       "3                Charles Schwab       Austin, TX•Remote work available   \n",
       "4                Insight Global  Austin, TX 78735 (East Oak Hill area)   \n",
       "\n",
       "                       Salary  Rating  \\\n",
       "0  $223,000 - $324,000 a year     4.3   \n",
       "1  $123,000 - $179,000 a year     4.3   \n",
       "2                         NaN     NaN   \n",
       "3  $122,700 - $200,300 a year     3.9   \n",
       "4  $140,000 - $160,000 a year     3.9   \n",
       "\n",
       "                                             Summary  \n",
       "0  Mentor and grow other software engineers and d...  \n",
       "1  Proactively research data and identify opportu...  \n",
       "2  Advanced skill with data science topics such a...  \n",
       "3  Document technical designs and data engineerin...  \n",
       "4  You will be an expert at understanding our goa...  "
      ]
     },
     "execution_count": 58,
     "metadata": {},
     "output_type": "execute_result"
    }
   ],
   "source": [
    "df.head()"
   ]
  },
  {
   "cell_type": "code",
   "execution_count": 59,
   "metadata": {},
   "outputs": [
    {
     "data": {
      "text/html": [
       "<div>\n",
       "<style scoped>\n",
       "    .dataframe tbody tr th:only-of-type {\n",
       "        vertical-align: middle;\n",
       "    }\n",
       "\n",
       "    .dataframe tbody tr th {\n",
       "        vertical-align: top;\n",
       "    }\n",
       "\n",
       "    .dataframe thead th {\n",
       "        text-align: right;\n",
       "    }\n",
       "</style>\n",
       "<table border=\"1\" class=\"dataframe\">\n",
       "  <thead>\n",
       "    <tr style=\"text-align: right;\">\n",
       "      <th></th>\n",
       "      <th>Job Title</th>\n",
       "      <th>Company</th>\n",
       "      <th>Location</th>\n",
       "      <th>Salary</th>\n",
       "      <th>Rating</th>\n",
       "      <th>Summary</th>\n",
       "    </tr>\n",
       "  </thead>\n",
       "  <tbody>\n",
       "    <tr>\n",
       "      <th>670</th>\n",
       "      <td>Senior Artificial Intelligence/ Machine Learni...</td>\n",
       "      <td>Owl Labs</td>\n",
       "      <td>Seattle, WA•Temporarily Remote</td>\n",
       "      <td>NaN</td>\n",
       "      <td>NaN</td>\n",
       "      <td>Experience with SQL, and data modeling.Owl Lab...</td>\n",
       "    </tr>\n",
       "    <tr>\n",
       "      <th>672</th>\n",
       "      <td>Sr. Software Engineer (Machine learning) - Rec...</td>\n",
       "      <td>Smartsheet</td>\n",
       "      <td>Washington State•Remote</td>\n",
       "      <td>NaN</td>\n",
       "      <td>3.9</td>\n",
       "      <td>We are looking for a Senior Software Engineer ...</td>\n",
       "    </tr>\n",
       "    <tr>\n",
       "      <th>673</th>\n",
       "      <td>Principal Software Engineer, NLP/ ML</td>\n",
       "      <td>Truveta</td>\n",
       "      <td>Washington State•Remote</td>\n",
       "      <td>NaN</td>\n",
       "      <td>NaN</td>\n",
       "      <td>Excellent problem solving and data analysis sk...</td>\n",
       "    </tr>\n",
       "    <tr>\n",
       "      <th>713</th>\n",
       "      <td>Senior Machine Learning Ops Engineer (Remote)</td>\n",
       "      <td>Absci</td>\n",
       "      <td>Washington State•Remote</td>\n",
       "      <td>NaN</td>\n",
       "      <td>NaN</td>\n",
       "      <td>Working closely with AI scientists to support ...</td>\n",
       "    </tr>\n",
       "    <tr>\n",
       "      <th>714</th>\n",
       "      <td>Senior ML Engineer - Remote</td>\n",
       "      <td>LivePerson</td>\n",
       "      <td>Washington State•Remote</td>\n",
       "      <td>NaN</td>\n",
       "      <td>3.7</td>\n",
       "      <td>We are looking for a Senior ML Engineer to env...</td>\n",
       "    </tr>\n",
       "  </tbody>\n",
       "</table>\n",
       "</div>"
      ],
      "text/plain": [
       "                                             Job Title     Company  \\\n",
       "670  Senior Artificial Intelligence/ Machine Learni...    Owl Labs   \n",
       "672  Sr. Software Engineer (Machine learning) - Rec...  Smartsheet   \n",
       "673               Principal Software Engineer, NLP/ ML     Truveta   \n",
       "713      Senior Machine Learning Ops Engineer (Remote)       Absci   \n",
       "714                        Senior ML Engineer - Remote  LivePerson   \n",
       "\n",
       "                           Location Salary  Rating  \\\n",
       "670  Seattle, WA•Temporarily Remote    NaN     NaN   \n",
       "672         Washington State•Remote    NaN     3.9   \n",
       "673         Washington State•Remote    NaN     NaN   \n",
       "713         Washington State•Remote    NaN     NaN   \n",
       "714         Washington State•Remote    NaN     3.7   \n",
       "\n",
       "                                               Summary  \n",
       "670  Experience with SQL, and data modeling.Owl Lab...  \n",
       "672  We are looking for a Senior Software Engineer ...  \n",
       "673  Excellent problem solving and data analysis sk...  \n",
       "713  Working closely with AI scientists to support ...  \n",
       "714  We are looking for a Senior ML Engineer to env...  "
      ]
     },
     "execution_count": 59,
     "metadata": {},
     "output_type": "execute_result"
    }
   ],
   "source": [
    "df.tail()"
   ]
  },
  {
   "cell_type": "code",
   "execution_count": 60,
   "metadata": {},
   "outputs": [
    {
     "name": "stdout",
     "output_type": "stream",
     "text": [
      "<class 'pandas.core.frame.DataFrame'>\n",
      "Int64Index: 5123 entries, 0 to 714\n",
      "Data columns (total 6 columns):\n",
      " #   Column     Non-Null Count  Dtype  \n",
      "---  ------     --------------  -----  \n",
      " 0   Job Title  5123 non-null   object \n",
      " 1   Company    5123 non-null   object \n",
      " 2   Location   5123 non-null   object \n",
      " 3   Salary     1910 non-null   object \n",
      " 4   Rating     3850 non-null   float64\n",
      " 5   Summary    5123 non-null   object \n",
      "dtypes: float64(1), object(5)\n",
      "memory usage: 280.2+ KB\n"
     ]
    }
   ],
   "source": [
    "#Rating column has 3850 val\n",
    "df.info()"
   ]
  },
  {
   "cell_type": "code",
   "execution_count": 61,
   "metadata": {},
   "outputs": [
    {
     "data": {
      "text/plain": [
       "3.7842541743970264"
      ]
     },
     "execution_count": 61,
     "metadata": {},
     "output_type": "execute_result"
    }
   ],
   "source": [
    "#defining mean of Rating column\n",
    "dfr=df.Rating.mean()\n",
    "dfr"
   ]
  },
  {
   "cell_type": "code",
   "execution_count": 62,
   "metadata": {},
   "outputs": [
    {
     "data": {
      "text/plain": [
       "3.8"
      ]
     },
     "execution_count": 62,
     "metadata": {},
     "output_type": "execute_result"
    }
   ],
   "source": [
    "dfr=round(dfr,1)\n",
    "dfr"
   ]
  },
  {
   "cell_type": "code",
   "execution_count": 63,
   "metadata": {},
   "outputs": [],
   "source": [
    "#filling in mean value to the entire Rating column of each row\n",
    "df.Rating.fillna(dfr,inplace=True)"
   ]
  },
  {
   "cell_type": "code",
   "execution_count": 64,
   "metadata": {},
   "outputs": [
    {
     "name": "stdout",
     "output_type": "stream",
     "text": [
      "<class 'pandas.core.frame.DataFrame'>\n",
      "Int64Index: 1910 entries, 0 to 515\n",
      "Data columns (total 6 columns):\n",
      " #   Column     Non-Null Count  Dtype  \n",
      "---  ------     --------------  -----  \n",
      " 0   Job Title  1910 non-null   object \n",
      " 1   Company    1910 non-null   object \n",
      " 2   Location   1910 non-null   object \n",
      " 3   Salary     1910 non-null   object \n",
      " 4   Rating     1910 non-null   float64\n",
      " 5   Summary    1910 non-null   object \n",
      "dtypes: float64(1), object(5)\n",
      "memory usage: 104.5+ KB\n"
     ]
    }
   ],
   "source": [
    "#Pandas dropna() method allows the user to analyze and drop Rows/Columns with Null values .\n",
    "df.dropna(inplace=True)\n",
    "df.info()"
   ]
  },
  {
   "cell_type": "code",
   "execution_count": 65,
   "metadata": {},
   "outputs": [
    {
     "data": {
      "text/plain": [
       "Full-time                    1354\n",
       "Full-time +1                   31\n",
       "Contract                       30\n",
       "Part-time                      11\n",
       "Part-time +1                   11\n",
       "                             ... \n",
       "$52,100 - $63,400 a year        1\n",
       "$91,500 - $190,100 a year       1\n",
       "$66,221 - $160,390 a year       1\n",
       "$59,088 - $88,000 a year        1\n",
       "$35 - $40 an hour               1\n",
       "Name: Salary, Length: 302, dtype: int64"
      ]
     },
     "execution_count": 65,
     "metadata": {},
     "output_type": "execute_result"
    }
   ],
   "source": [
    "df.Salary.value_counts()"
   ]
  },
  {
   "cell_type": "code",
   "execution_count": null,
   "metadata": {},
   "outputs": [],
   "source": []
  },
  {
   "cell_type": "code",
   "execution_count": null,
   "metadata": {},
   "outputs": [],
   "source": []
  },
  {
   "cell_type": "markdown",
   "metadata": {
    "focus": false,
    "id": "ff98ce64-78a7-441f-a675-63464e32c834"
   },
   "source": [
    "#### Find the entries with annual salary entries, by filtering the entries without salaries or salaries that are not yearly (filter those that refer to hour or week). Also, remove duplicate entries."
   ]
  },
  {
   "cell_type": "code",
   "execution_count": 66,
   "metadata": {
    "focus": false,
    "id": "58533e57-f86b-494a-b841-e7b59c6229c6"
   },
   "outputs": [],
   "source": [
    "## YOUR CODE HERE\n",
    "df = df[df.Salary.str.contains('year').fillna(False)] "
   ]
  },
  {
   "cell_type": "code",
   "execution_count": 67,
   "metadata": {},
   "outputs": [
    {
     "data": {
      "text/plain": [
       "(358, 6)"
      ]
     },
     "execution_count": 67,
     "metadata": {},
     "output_type": "execute_result"
    }
   ],
   "source": [
    "df.shape"
   ]
  },
  {
   "cell_type": "markdown",
   "metadata": {},
   "source": [
    "After I scraped,cleaned and removed dublicates from my dataset , I've decided to use a different dataset csv (thanks to Edmond) wich has more results ."
   ]
  },
  {
   "cell_type": "code",
   "execution_count": 68,
   "metadata": {},
   "outputs": [
    {
     "data": {
      "text/html": [
       "<div>\n",
       "<style scoped>\n",
       "    .dataframe tbody tr th:only-of-type {\n",
       "        vertical-align: middle;\n",
       "    }\n",
       "\n",
       "    .dataframe tbody tr th {\n",
       "        vertical-align: top;\n",
       "    }\n",
       "\n",
       "    .dataframe thead th {\n",
       "        text-align: right;\n",
       "    }\n",
       "</style>\n",
       "<table border=\"1\" class=\"dataframe\">\n",
       "  <thead>\n",
       "    <tr style=\"text-align: right;\">\n",
       "      <th></th>\n",
       "      <th>Job Title</th>\n",
       "      <th>Company</th>\n",
       "      <th>Location</th>\n",
       "      <th>Salary</th>\n",
       "      <th>Rating</th>\n",
       "      <th>Summary</th>\n",
       "    </tr>\n",
       "  </thead>\n",
       "  <tbody>\n",
       "    <tr>\n",
       "      <th>0</th>\n",
       "      <td>Principal Data Scientist - Match Recommendations</td>\n",
       "      <td>Indeed</td>\n",
       "      <td>Austin, TX•Temporarily Remote</td>\n",
       "      <td>$223,000 - $324,000 a year</td>\n",
       "      <td>4.3</td>\n",
       "      <td>Mentor and grow other software engineers and d...</td>\n",
       "    </tr>\n",
       "    <tr>\n",
       "      <th>1</th>\n",
       "      <td>Senior Data Scientist - Ranking Team</td>\n",
       "      <td>Indeed</td>\n",
       "      <td>Austin, TX</td>\n",
       "      <td>$123,000 - $179,000 a year</td>\n",
       "      <td>4.3</td>\n",
       "      <td>Proactively research data and identify opportu...</td>\n",
       "    </tr>\n",
       "    <tr>\n",
       "      <th>3</th>\n",
       "      <td>Sr. Data Scientist</td>\n",
       "      <td>Charles Schwab</td>\n",
       "      <td>Austin, TX•Remote work available</td>\n",
       "      <td>$122,700 - $200,300 a year</td>\n",
       "      <td>3.9</td>\n",
       "      <td>Document technical designs and data engineerin...</td>\n",
       "    </tr>\n",
       "    <tr>\n",
       "      <th>4</th>\n",
       "      <td>newLead Data Scientist</td>\n",
       "      <td>Insight Global</td>\n",
       "      <td>Austin, TX 78735 (East Oak Hill area)</td>\n",
       "      <td>$140,000 - $160,000 a year</td>\n",
       "      <td>3.9</td>\n",
       "      <td>You will be an expert at understanding our goa...</td>\n",
       "    </tr>\n",
       "    <tr>\n",
       "      <th>5</th>\n",
       "      <td>Senior Data Scientist</td>\n",
       "      <td>Harnham</td>\n",
       "      <td>Austin, TX•Remote work available</td>\n",
       "      <td>$130,000 - $150,000 a year</td>\n",
       "      <td>4.6</td>\n",
       "      <td>Experience with the cleaning and manipulation ...</td>\n",
       "    </tr>\n",
       "    <tr>\n",
       "      <th>...</th>\n",
       "      <td>...</td>\n",
       "      <td>...</td>\n",
       "      <td>...</td>\n",
       "      <td>...</td>\n",
       "      <td>...</td>\n",
       "      <td>...</td>\n",
       "    </tr>\n",
       "    <tr>\n",
       "      <th>285</th>\n",
       "      <td>newSenior Data Scientist - Consumer Decision S...</td>\n",
       "      <td>Glassdoor</td>\n",
       "      <td>Seattle, WA+2 locations</td>\n",
       "      <td>$136,100 - $170,100 a year</td>\n",
       "      <td>4.2</td>\n",
       "      <td>Conceptualize and build data models, tools, an...</td>\n",
       "    </tr>\n",
       "    <tr>\n",
       "      <th>286</th>\n",
       "      <td>Principal Data Scientist - Match Recommendations</td>\n",
       "      <td>Indeed</td>\n",
       "      <td>Seattle, WA+2 locations•Temporarily Remote</td>\n",
       "      <td>$223,000 - $324,000 a year</td>\n",
       "      <td>4.3</td>\n",
       "      <td>Mentor and grow other software engineers and d...</td>\n",
       "    </tr>\n",
       "    <tr>\n",
       "      <th>290</th>\n",
       "      <td>Senior Data Scientist</td>\n",
       "      <td>NCI Information Systems Inc.</td>\n",
       "      <td>Fort Lewis, WA</td>\n",
       "      <td>From $150,000 a year</td>\n",
       "      <td>3.6</td>\n",
       "      <td>Handle processing and index requests against h...</td>\n",
       "    </tr>\n",
       "    <tr>\n",
       "      <th>328</th>\n",
       "      <td>newSenior Data Scientist - Consumer Decision S...</td>\n",
       "      <td>Glassdoor</td>\n",
       "      <td>Seattle, WA</td>\n",
       "      <td>$136,100 - $170,100 a year</td>\n",
       "      <td>4.2</td>\n",
       "      <td>Conceptualize and build data models, tools, an...</td>\n",
       "    </tr>\n",
       "    <tr>\n",
       "      <th>379</th>\n",
       "      <td>Senior Director, Data Science</td>\n",
       "      <td>Indeed</td>\n",
       "      <td>Seattle, WA</td>\n",
       "      <td>$300,000 - $434,000 a year</td>\n",
       "      <td>4.3</td>\n",
       "      <td>Can fish for data with SQL and Pandas.Collabor...</td>\n",
       "    </tr>\n",
       "  </tbody>\n",
       "</table>\n",
       "<p>358 rows × 6 columns</p>\n",
       "</div>"
      ],
      "text/plain": [
       "                                             Job Title  \\\n",
       "0     Principal Data Scientist - Match Recommendations   \n",
       "1                 Senior Data Scientist - Ranking Team   \n",
       "3                                   Sr. Data Scientist   \n",
       "4                               newLead Data Scientist   \n",
       "5                                Senior Data Scientist   \n",
       "..                                                 ...   \n",
       "285  newSenior Data Scientist - Consumer Decision S...   \n",
       "286   Principal Data Scientist - Match Recommendations   \n",
       "290                              Senior Data Scientist   \n",
       "328  newSenior Data Scientist - Consumer Decision S...   \n",
       "379                      Senior Director, Data Science   \n",
       "\n",
       "                          Company                                    Location  \\\n",
       "0                          Indeed               Austin, TX•Temporarily Remote   \n",
       "1                          Indeed                                  Austin, TX   \n",
       "3                  Charles Schwab            Austin, TX•Remote work available   \n",
       "4                  Insight Global       Austin, TX 78735 (East Oak Hill area)   \n",
       "5                         Harnham            Austin, TX•Remote work available   \n",
       "..                            ...                                         ...   \n",
       "285                     Glassdoor                     Seattle, WA+2 locations   \n",
       "286                        Indeed  Seattle, WA+2 locations•Temporarily Remote   \n",
       "290  NCI Information Systems Inc.                              Fort Lewis, WA   \n",
       "328                     Glassdoor                                 Seattle, WA   \n",
       "379                        Indeed                                 Seattle, WA   \n",
       "\n",
       "                         Salary  Rating  \\\n",
       "0    $223,000 - $324,000 a year     4.3   \n",
       "1    $123,000 - $179,000 a year     4.3   \n",
       "3    $122,700 - $200,300 a year     3.9   \n",
       "4    $140,000 - $160,000 a year     3.9   \n",
       "5    $130,000 - $150,000 a year     4.6   \n",
       "..                          ...     ...   \n",
       "285  $136,100 - $170,100 a year     4.2   \n",
       "286  $223,000 - $324,000 a year     4.3   \n",
       "290        From $150,000 a year     3.6   \n",
       "328  $136,100 - $170,100 a year     4.2   \n",
       "379  $300,000 - $434,000 a year     4.3   \n",
       "\n",
       "                                               Summary  \n",
       "0    Mentor and grow other software engineers and d...  \n",
       "1    Proactively research data and identify opportu...  \n",
       "3    Document technical designs and data engineerin...  \n",
       "4    You will be an expert at understanding our goa...  \n",
       "5    Experience with the cleaning and manipulation ...  \n",
       "..                                                 ...  \n",
       "285  Conceptualize and build data models, tools, an...  \n",
       "286  Mentor and grow other software engineers and d...  \n",
       "290  Handle processing and index requests against h...  \n",
       "328  Conceptualize and build data models, tools, an...  \n",
       "379  Can fish for data with SQL and Pandas.Collabor...  \n",
       "\n",
       "[358 rows x 6 columns]"
      ]
     },
     "execution_count": 68,
     "metadata": {},
     "output_type": "execute_result"
    }
   ],
   "source": [
    "# The data is already freed from dublicates.\n",
    "df = df.drop_duplicates()\n",
    "df"
   ]
  },
  {
   "cell_type": "markdown",
   "metadata": {
    "focus": false,
    "id": "7d4bc860-b214-4f75-9cd0-b234830b1ec2"
   },
   "source": [
    "#### Write a function that takes a salary string and converts it to a number, averaging a salary range if necessary."
   ]
  },
  {
   "cell_type": "code",
   "execution_count": 69,
   "metadata": {
    "focus": false,
    "id": "a0f701e0-80bd-40ba-9101-4535860c0968"
   },
   "outputs": [],
   "source": [
    "## YOUR CODE HERE\n",
    "## importing string library function \n",
    "from string import digits\n",
    "numerals = digits + '-' + ','"
   ]
  },
  {
   "cell_type": "code",
   "execution_count": 70,
   "metadata": {},
   "outputs": [],
   "source": [
    "df.Salary = df.Salary.apply(lambda x : ''.join(c for c in x if c in numerals))"
   ]
  },
  {
   "cell_type": "markdown",
   "metadata": {},
   "source": [
    "axis=1 (or axis='columns') is vertical axis. To take it further, if you use pandas method drop, to remove columns or rows, if you specify axis=1 you will be removing columns. If you specify axis=0 you will be removing rows from dataset"
   ]
  },
  {
   "cell_type": "code",
   "execution_count": 71,
   "metadata": {},
   "outputs": [
    {
     "name": "stderr",
     "output_type": "stream",
     "text": [
      "<ipython-input-71-323ce376225c>:2: FutureWarning: The default value of regex will change from True to False in a future version. In addition, single character regular expressions will*not* be treated as literal strings when regex=True.\n",
      "  df.Salary = df.Salary.str.replace(',','').str.replace('+','').str.split('-', expand=True).astype(float).mean(axis=1)\n"
     ]
    }
   ],
   "source": [
    "#When using expand=True , the split elements will expand out into separate columns. \n",
    "df.Salary = df.Salary.str.replace(',','').str.replace('+','').str.split('-', expand=True).astype(float).mean(axis=1)"
   ]
  },
  {
   "cell_type": "code",
   "execution_count": 72,
   "metadata": {},
   "outputs": [
    {
     "data": {
      "text/plain": [
       "count       358.000000\n",
       "mean     121204.234637\n",
       "std       41688.104236\n",
       "min       40500.000000\n",
       "25%       93812.500000\n",
       "50%      114700.000000\n",
       "75%      141137.500000\n",
       "max      367000.000000\n",
       "Name: Salary, dtype: float64"
      ]
     },
     "execution_count": 72,
     "metadata": {},
     "output_type": "execute_result"
    }
   ],
   "source": [
    "df.Salary.describe()"
   ]
  },
  {
   "cell_type": "code",
   "execution_count": null,
   "metadata": {},
   "outputs": [],
   "source": []
  },
  {
   "cell_type": "markdown",
   "metadata": {
    "focus": false,
    "id": "43e71edd-210e-42b1-9336-70a931f048af"
   },
   "source": [
    "### Save your results as a CSV"
   ]
  },
  {
   "cell_type": "code",
   "execution_count": 73,
   "metadata": {
    "focus": false,
    "id": "783fd153-28ac-47ab-bfca-27e7c1de95b4"
   },
   "outputs": [],
   "source": [
    "## YOUR CODE HERE\n",
    "#df.to_csv(r'/Users/oc/Desktop/GA/material/Projects/project 4/project-4/Project 4 Salary/My clean Data Jobs358.csv',index=False)"
   ]
  },
  {
   "cell_type": "markdown",
   "metadata": {
    "focus": false,
    "id": "243e949e-2742-40af-872e-fec475fd306c"
   },
   "source": [
    "### Load in the the data of scraped salaries"
   ]
  },
  {
   "cell_type": "code",
   "execution_count": 75,
   "metadata": {
    "focus": false,
    "id": "588f9845-6143-4bcc-bfd1-85d45b79303d"
   },
   "outputs": [],
   "source": [
    "##YOUR CODE HERE\n",
    "#After I scraped,cleaned and removed dublicates from my dataset \n",
    "#I've decided to use a different dataset csv (thanks to Edmond) wich has more results .\n",
    "\n",
    "#dfs=pd.read_csv(r'/Users/oc/Desktop/GA/material/Projects/project-4/project-4/Project 4 Salary/indeed_clean_data2.csv')\n"
   ]
  },
  {
   "cell_type": "code",
   "execution_count": 76,
   "metadata": {
    "scrolled": true
   },
   "outputs": [
    {
     "data": {
      "text/html": [
       "<div>\n",
       "<style scoped>\n",
       "    .dataframe tbody tr th:only-of-type {\n",
       "        vertical-align: middle;\n",
       "    }\n",
       "\n",
       "    .dataframe tbody tr th {\n",
       "        vertical-align: top;\n",
       "    }\n",
       "\n",
       "    .dataframe thead th {\n",
       "        text-align: right;\n",
       "    }\n",
       "</style>\n",
       "<table border=\"1\" class=\"dataframe\">\n",
       "  <thead>\n",
       "    <tr style=\"text-align: right;\">\n",
       "      <th></th>\n",
       "      <th>Company</th>\n",
       "      <th>Title</th>\n",
       "      <th>Description</th>\n",
       "      <th>Location</th>\n",
       "      <th>Remote</th>\n",
       "      <th>Salary</th>\n",
       "      <th>Salary_rate</th>\n",
       "      <th>Salary_HILO</th>\n",
       "      <th>new_col</th>\n",
       "    </tr>\n",
       "  </thead>\n",
       "  <tbody>\n",
       "    <tr>\n",
       "      <th>0</th>\n",
       "      <td>Michael Page UK</td>\n",
       "      <td>Data Modelling Analyst / Data Scientist (6 Mon...</td>\n",
       "      <td>Experience of using school data or assessment ...</td>\n",
       "      <td>Cardiff</td>\n",
       "      <td>NaN</td>\n",
       "      <td>32500.0</td>\n",
       "      <td>year</td>\n",
       "      <td>LOW</td>\n",
       "      <td>Cardiff</td>\n",
       "    </tr>\n",
       "    <tr>\n",
       "      <th>1</th>\n",
       "      <td>Randstad Business Support</td>\n",
       "      <td>Dutch and English Speaking Data Administrator</td>\n",
       "      <td>Great communication and data presentation skil...</td>\n",
       "      <td>Cardiff</td>\n",
       "      <td>NaN</td>\n",
       "      <td>21000.0</td>\n",
       "      <td>year</td>\n",
       "      <td>LOW</td>\n",
       "      <td>Cardiff</td>\n",
       "    </tr>\n",
       "    <tr>\n",
       "      <th>2</th>\n",
       "      <td>NHS Wales Informatics Service</td>\n",
       "      <td>Information Officer (Data Quality)</td>\n",
       "      <td>The role is focused on clearly identifying the...</td>\n",
       "      <td>Cardiff</td>\n",
       "      <td>NaN</td>\n",
       "      <td>27761.0</td>\n",
       "      <td>year</td>\n",
       "      <td>LOW</td>\n",
       "      <td>Cardiff</td>\n",
       "    </tr>\n",
       "    <tr>\n",
       "      <th>3</th>\n",
       "      <td>Creditsafe Services Ltd</td>\n",
       "      <td>Junior Data Engineer</td>\n",
       "      <td>The role will define and build data pipelines ...</td>\n",
       "      <td>Cardiff</td>\n",
       "      <td>NaN</td>\n",
       "      <td>25000.0</td>\n",
       "      <td>year</td>\n",
       "      <td>LOW</td>\n",
       "      <td>Cardiff</td>\n",
       "    </tr>\n",
       "    <tr>\n",
       "      <th>4</th>\n",
       "      <td>Cardiff University</td>\n",
       "      <td>Research Assistant, Data Management, Schools H...</td>\n",
       "      <td>To support the development and implementation ...</td>\n",
       "      <td>Cardiff</td>\n",
       "      <td>NaN</td>\n",
       "      <td>29688.5</td>\n",
       "      <td>year</td>\n",
       "      <td>LOW</td>\n",
       "      <td>Cardiff</td>\n",
       "    </tr>\n",
       "    <tr>\n",
       "      <th>...</th>\n",
       "      <td>...</td>\n",
       "      <td>...</td>\n",
       "      <td>...</td>\n",
       "      <td>...</td>\n",
       "      <td>...</td>\n",
       "      <td>...</td>\n",
       "      <td>...</td>\n",
       "      <td>...</td>\n",
       "      <td>...</td>\n",
       "    </tr>\n",
       "    <tr>\n",
       "      <th>1495</th>\n",
       "      <td>realTime</td>\n",
       "      <td>Data Engineer - Remote Hiring - Belfast</td>\n",
       "      <td>Experience working in a modern Data Engineerin...</td>\n",
       "      <td>Belfast</td>\n",
       "      <td>Remote</td>\n",
       "      <td>40000.0</td>\n",
       "      <td>year</td>\n",
       "      <td>LOW</td>\n",
       "      <td>Belfast</td>\n",
       "    </tr>\n",
       "    <tr>\n",
       "      <th>1496</th>\n",
       "      <td>Abacus Professional Recruitment</td>\n",
       "      <td>Lead Data Analyst</td>\n",
       "      <td>Perform data quality checks to ensure data is ...</td>\n",
       "      <td>Belfast</td>\n",
       "      <td>Remote</td>\n",
       "      <td>42500.0</td>\n",
       "      <td>year</td>\n",
       "      <td>HIGH</td>\n",
       "      <td>Belfast</td>\n",
       "    </tr>\n",
       "    <tr>\n",
       "      <th>1497</th>\n",
       "      <td>Queen's University Belfast</td>\n",
       "      <td>Lecturer in Business Analytics</td>\n",
       "      <td>Experience of data management, statistical ana...</td>\n",
       "      <td>Belfast</td>\n",
       "      <td>NaN</td>\n",
       "      <td>43974.0</td>\n",
       "      <td>year</td>\n",
       "      <td>HIGH</td>\n",
       "      <td>Belfast</td>\n",
       "    </tr>\n",
       "    <tr>\n",
       "      <th>1498</th>\n",
       "      <td>Apple Recruitment</td>\n",
       "      <td>Marketing Communications Specialist</td>\n",
       "      <td>Experience managing external agencies includin...</td>\n",
       "      <td>Belfast</td>\n",
       "      <td>NaN</td>\n",
       "      <td>26000.0</td>\n",
       "      <td>year</td>\n",
       "      <td>LOW</td>\n",
       "      <td>Antrim</td>\n",
       "    </tr>\n",
       "    <tr>\n",
       "      <th>1499</th>\n",
       "      <td>Brook Street</td>\n",
       "      <td>German-Speaking Market Research Agent</td>\n",
       "      <td>Ability to process large volumes of data.\\nCap...</td>\n",
       "      <td>Belfast</td>\n",
       "      <td>NaN</td>\n",
       "      <td>20500.0</td>\n",
       "      <td>year</td>\n",
       "      <td>LOW</td>\n",
       "      <td>Belfast</td>\n",
       "    </tr>\n",
       "  </tbody>\n",
       "</table>\n",
       "<p>1500 rows × 9 columns</p>\n",
       "</div>"
      ],
      "text/plain": [
       "                              Company  \\\n",
       "0                     Michael Page UK   \n",
       "1           Randstad Business Support   \n",
       "2       NHS Wales Informatics Service   \n",
       "3             Creditsafe Services Ltd   \n",
       "4                  Cardiff University   \n",
       "...                               ...   \n",
       "1495                         realTime   \n",
       "1496  Abacus Professional Recruitment   \n",
       "1497       Queen's University Belfast   \n",
       "1498                Apple Recruitment   \n",
       "1499                     Brook Street   \n",
       "\n",
       "                                                  Title  \\\n",
       "0     Data Modelling Analyst / Data Scientist (6 Mon...   \n",
       "1         Dutch and English Speaking Data Administrator   \n",
       "2                    Information Officer (Data Quality)   \n",
       "3                                  Junior Data Engineer   \n",
       "4     Research Assistant, Data Management, Schools H...   \n",
       "...                                                 ...   \n",
       "1495            Data Engineer - Remote Hiring - Belfast   \n",
       "1496                                  Lead Data Analyst   \n",
       "1497                     Lecturer in Business Analytics   \n",
       "1498                Marketing Communications Specialist   \n",
       "1499              German-Speaking Market Research Agent   \n",
       "\n",
       "                                            Description Location  Remote  \\\n",
       "0     Experience of using school data or assessment ...  Cardiff     NaN   \n",
       "1     Great communication and data presentation skil...  Cardiff     NaN   \n",
       "2     The role is focused on clearly identifying the...  Cardiff     NaN   \n",
       "3     The role will define and build data pipelines ...  Cardiff     NaN   \n",
       "4     To support the development and implementation ...  Cardiff     NaN   \n",
       "...                                                 ...      ...     ...   \n",
       "1495  Experience working in a modern Data Engineerin...  Belfast  Remote   \n",
       "1496  Perform data quality checks to ensure data is ...  Belfast  Remote   \n",
       "1497  Experience of data management, statistical ana...  Belfast     NaN   \n",
       "1498  Experience managing external agencies includin...  Belfast     NaN   \n",
       "1499  Ability to process large volumes of data.\\nCap...  Belfast     NaN   \n",
       "\n",
       "       Salary Salary_rate Salary_HILO  new_col  \n",
       "0     32500.0        year         LOW  Cardiff  \n",
       "1     21000.0        year         LOW  Cardiff  \n",
       "2     27761.0        year         LOW  Cardiff  \n",
       "3     25000.0        year         LOW  Cardiff  \n",
       "4     29688.5        year         LOW  Cardiff  \n",
       "...       ...         ...         ...      ...  \n",
       "1495  40000.0        year         LOW  Belfast  \n",
       "1496  42500.0        year        HIGH  Belfast  \n",
       "1497  43974.0        year        HIGH  Belfast  \n",
       "1498  26000.0        year         LOW   Antrim  \n",
       "1499  20500.0        year         LOW  Belfast  \n",
       "\n",
       "[1500 rows x 9 columns]"
      ]
     },
     "execution_count": 76,
     "metadata": {},
     "output_type": "execute_result"
    }
   ],
   "source": [
    "dfs"
   ]
  },
  {
   "cell_type": "code",
   "execution_count": 77,
   "metadata": {},
   "outputs": [],
   "source": [
    "#droppped unimportant columns to narrow 2 datasets\n",
    "dfs.drop(['Remote','Salary_HILO','new_col','Salary_rate'], axis = 1,inplace = True)"
   ]
  },
  {
   "cell_type": "code",
   "execution_count": 78,
   "metadata": {},
   "outputs": [
    {
     "data": {
      "text/html": [
       "<div>\n",
       "<style scoped>\n",
       "    .dataframe tbody tr th:only-of-type {\n",
       "        vertical-align: middle;\n",
       "    }\n",
       "\n",
       "    .dataframe tbody tr th {\n",
       "        vertical-align: top;\n",
       "    }\n",
       "\n",
       "    .dataframe thead th {\n",
       "        text-align: right;\n",
       "    }\n",
       "</style>\n",
       "<table border=\"1\" class=\"dataframe\">\n",
       "  <thead>\n",
       "    <tr style=\"text-align: right;\">\n",
       "      <th></th>\n",
       "      <th>Company</th>\n",
       "      <th>Title</th>\n",
       "      <th>Description</th>\n",
       "      <th>Location</th>\n",
       "      <th>Salary</th>\n",
       "    </tr>\n",
       "  </thead>\n",
       "  <tbody>\n",
       "    <tr>\n",
       "      <th>0</th>\n",
       "      <td>Michael Page UK</td>\n",
       "      <td>Data Modelling Analyst / Data Scientist (6 Mon...</td>\n",
       "      <td>Experience of using school data or assessment ...</td>\n",
       "      <td>Cardiff</td>\n",
       "      <td>32500.0</td>\n",
       "    </tr>\n",
       "    <tr>\n",
       "      <th>1</th>\n",
       "      <td>Randstad Business Support</td>\n",
       "      <td>Dutch and English Speaking Data Administrator</td>\n",
       "      <td>Great communication and data presentation skil...</td>\n",
       "      <td>Cardiff</td>\n",
       "      <td>21000.0</td>\n",
       "    </tr>\n",
       "    <tr>\n",
       "      <th>2</th>\n",
       "      <td>NHS Wales Informatics Service</td>\n",
       "      <td>Information Officer (Data Quality)</td>\n",
       "      <td>The role is focused on clearly identifying the...</td>\n",
       "      <td>Cardiff</td>\n",
       "      <td>27761.0</td>\n",
       "    </tr>\n",
       "    <tr>\n",
       "      <th>3</th>\n",
       "      <td>Creditsafe Services Ltd</td>\n",
       "      <td>Junior Data Engineer</td>\n",
       "      <td>The role will define and build data pipelines ...</td>\n",
       "      <td>Cardiff</td>\n",
       "      <td>25000.0</td>\n",
       "    </tr>\n",
       "    <tr>\n",
       "      <th>4</th>\n",
       "      <td>Cardiff University</td>\n",
       "      <td>Research Assistant, Data Management, Schools H...</td>\n",
       "      <td>To support the development and implementation ...</td>\n",
       "      <td>Cardiff</td>\n",
       "      <td>29688.5</td>\n",
       "    </tr>\n",
       "  </tbody>\n",
       "</table>\n",
       "</div>"
      ],
      "text/plain": [
       "                         Company  \\\n",
       "0                Michael Page UK   \n",
       "1      Randstad Business Support   \n",
       "2  NHS Wales Informatics Service   \n",
       "3        Creditsafe Services Ltd   \n",
       "4             Cardiff University   \n",
       "\n",
       "                                               Title  \\\n",
       "0  Data Modelling Analyst / Data Scientist (6 Mon...   \n",
       "1      Dutch and English Speaking Data Administrator   \n",
       "2                 Information Officer (Data Quality)   \n",
       "3                               Junior Data Engineer   \n",
       "4  Research Assistant, Data Management, Schools H...   \n",
       "\n",
       "                                         Description Location   Salary  \n",
       "0  Experience of using school data or assessment ...  Cardiff  32500.0  \n",
       "1  Great communication and data presentation skil...  Cardiff  21000.0  \n",
       "2  The role is focused on clearly identifying the...  Cardiff  27761.0  \n",
       "3  The role will define and build data pipelines ...  Cardiff  25000.0  \n",
       "4  To support the development and implementation ...  Cardiff  29688.5  "
      ]
     },
     "execution_count": 78,
     "metadata": {},
     "output_type": "execute_result"
    }
   ],
   "source": [
    "dfs.head()"
   ]
  },
  {
   "cell_type": "code",
   "execution_count": 79,
   "metadata": {},
   "outputs": [],
   "source": [
    "#in the order to concat my data and the  new scraped data I need to prepair and narrow down the columns and rows.\n",
    "dfs.rename(columns={'Title':'Job Title','Description':'Summary',},inplace=True)"
   ]
  },
  {
   "cell_type": "code",
   "execution_count": 80,
   "metadata": {},
   "outputs": [
    {
     "data": {
      "text/html": [
       "<div>\n",
       "<style scoped>\n",
       "    .dataframe tbody tr th:only-of-type {\n",
       "        vertical-align: middle;\n",
       "    }\n",
       "\n",
       "    .dataframe tbody tr th {\n",
       "        vertical-align: top;\n",
       "    }\n",
       "\n",
       "    .dataframe thead th {\n",
       "        text-align: right;\n",
       "    }\n",
       "</style>\n",
       "<table border=\"1\" class=\"dataframe\">\n",
       "  <thead>\n",
       "    <tr style=\"text-align: right;\">\n",
       "      <th></th>\n",
       "      <th>Company</th>\n",
       "      <th>Job Title</th>\n",
       "      <th>Summary</th>\n",
       "      <th>Location</th>\n",
       "      <th>Salary</th>\n",
       "    </tr>\n",
       "  </thead>\n",
       "  <tbody>\n",
       "    <tr>\n",
       "      <th>0</th>\n",
       "      <td>Michael Page UK</td>\n",
       "      <td>Data Modelling Analyst / Data Scientist (6 Mon...</td>\n",
       "      <td>Experience of using school data or assessment ...</td>\n",
       "      <td>Cardiff</td>\n",
       "      <td>32500.0</td>\n",
       "    </tr>\n",
       "    <tr>\n",
       "      <th>1</th>\n",
       "      <td>Randstad Business Support</td>\n",
       "      <td>Dutch and English Speaking Data Administrator</td>\n",
       "      <td>Great communication and data presentation skil...</td>\n",
       "      <td>Cardiff</td>\n",
       "      <td>21000.0</td>\n",
       "    </tr>\n",
       "    <tr>\n",
       "      <th>2</th>\n",
       "      <td>NHS Wales Informatics Service</td>\n",
       "      <td>Information Officer (Data Quality)</td>\n",
       "      <td>The role is focused on clearly identifying the...</td>\n",
       "      <td>Cardiff</td>\n",
       "      <td>27761.0</td>\n",
       "    </tr>\n",
       "    <tr>\n",
       "      <th>3</th>\n",
       "      <td>Creditsafe Services Ltd</td>\n",
       "      <td>Junior Data Engineer</td>\n",
       "      <td>The role will define and build data pipelines ...</td>\n",
       "      <td>Cardiff</td>\n",
       "      <td>25000.0</td>\n",
       "    </tr>\n",
       "    <tr>\n",
       "      <th>4</th>\n",
       "      <td>Cardiff University</td>\n",
       "      <td>Research Assistant, Data Management, Schools H...</td>\n",
       "      <td>To support the development and implementation ...</td>\n",
       "      <td>Cardiff</td>\n",
       "      <td>29688.5</td>\n",
       "    </tr>\n",
       "  </tbody>\n",
       "</table>\n",
       "</div>"
      ],
      "text/plain": [
       "                         Company  \\\n",
       "0                Michael Page UK   \n",
       "1      Randstad Business Support   \n",
       "2  NHS Wales Informatics Service   \n",
       "3        Creditsafe Services Ltd   \n",
       "4             Cardiff University   \n",
       "\n",
       "                                           Job Title  \\\n",
       "0  Data Modelling Analyst / Data Scientist (6 Mon...   \n",
       "1      Dutch and English Speaking Data Administrator   \n",
       "2                 Information Officer (Data Quality)   \n",
       "3                               Junior Data Engineer   \n",
       "4  Research Assistant, Data Management, Schools H...   \n",
       "\n",
       "                                             Summary Location   Salary  \n",
       "0  Experience of using school data or assessment ...  Cardiff  32500.0  \n",
       "1  Great communication and data presentation skil...  Cardiff  21000.0  \n",
       "2  The role is focused on clearly identifying the...  Cardiff  27761.0  \n",
       "3  The role will define and build data pipelines ...  Cardiff  25000.0  \n",
       "4  To support the development and implementation ...  Cardiff  29688.5  "
      ]
     },
     "execution_count": 80,
     "metadata": {},
     "output_type": "execute_result"
    }
   ],
   "source": [
    "dfs.head()"
   ]
  },
  {
   "cell_type": "code",
   "execution_count": 81,
   "metadata": {},
   "outputs": [],
   "source": [
    "#converted curency of GBP to USD\n",
    "dfs.Salary=dfs.Salary*1.37"
   ]
  },
  {
   "cell_type": "code",
   "execution_count": 82,
   "metadata": {},
   "outputs": [
    {
     "data": {
      "text/plain": [
       "0       44525.000\n",
       "1       28770.000\n",
       "2       38032.570\n",
       "3       34250.000\n",
       "4       40673.245\n",
       "          ...    \n",
       "1495    54800.000\n",
       "1496    58225.000\n",
       "1497    60244.380\n",
       "1498    35620.000\n",
       "1499    28085.000\n",
       "Name: Salary, Length: 1500, dtype: float64"
      ]
     },
     "execution_count": 82,
     "metadata": {},
     "output_type": "execute_result"
    }
   ],
   "source": [
    "dfs.Salary"
   ]
  },
  {
   "cell_type": "markdown",
   "metadata": {},
   "source": [
    "#### Pseudo code for decimals remove  from Salary column.\n",
    "\n",
    "value1= dfs.Salary\n",
    "lst = []\n",
    "for each in value1:\n",
    "    lst.append(str(each).split('.')[0])\n",
    "final_list = [int(i)for i in lst],(inplace = True)\n",
    "print(final_list)\n",
    "    \n",
    "    "
   ]
  },
  {
   "cell_type": "code",
   "execution_count": null,
   "metadata": {},
   "outputs": [],
   "source": []
  },
  {
   "cell_type": "code",
   "execution_count": 84,
   "metadata": {},
   "outputs": [],
   "source": [
    "#dfm=pd.read_csv(r'/Users/oc/Desktop/GA/material/Projects/project-4/project-4/Project 4 Salary/My clean Data Jobs358.csv')"
   ]
  },
  {
   "cell_type": "code",
   "execution_count": 85,
   "metadata": {},
   "outputs": [
    {
     "data": {
      "text/html": [
       "<div>\n",
       "<style scoped>\n",
       "    .dataframe tbody tr th:only-of-type {\n",
       "        vertical-align: middle;\n",
       "    }\n",
       "\n",
       "    .dataframe tbody tr th {\n",
       "        vertical-align: top;\n",
       "    }\n",
       "\n",
       "    .dataframe thead th {\n",
       "        text-align: right;\n",
       "    }\n",
       "</style>\n",
       "<table border=\"1\" class=\"dataframe\">\n",
       "  <thead>\n",
       "    <tr style=\"text-align: right;\">\n",
       "      <th></th>\n",
       "      <th>Job Title</th>\n",
       "      <th>Company</th>\n",
       "      <th>Location</th>\n",
       "      <th>Salary</th>\n",
       "      <th>Rating</th>\n",
       "      <th>Summary</th>\n",
       "    </tr>\n",
       "  </thead>\n",
       "  <tbody>\n",
       "    <tr>\n",
       "      <th>0</th>\n",
       "      <td>Principal Data Scientist - Match Recommendations</td>\n",
       "      <td>Indeed</td>\n",
       "      <td>Austin, TX•Temporarily Remote</td>\n",
       "      <td>273500.0</td>\n",
       "      <td>4.3</td>\n",
       "      <td>Mentor and grow other software engineers and d...</td>\n",
       "    </tr>\n",
       "    <tr>\n",
       "      <th>1</th>\n",
       "      <td>Senior Data Scientist - Ranking Team</td>\n",
       "      <td>Indeed</td>\n",
       "      <td>Austin, TX</td>\n",
       "      <td>151000.0</td>\n",
       "      <td>4.3</td>\n",
       "      <td>Proactively research data and identify opportu...</td>\n",
       "    </tr>\n",
       "    <tr>\n",
       "      <th>2</th>\n",
       "      <td>Sr. Data Scientist</td>\n",
       "      <td>Charles Schwab</td>\n",
       "      <td>Austin, TX•Remote work available</td>\n",
       "      <td>161500.0</td>\n",
       "      <td>3.9</td>\n",
       "      <td>Document technical designs and data engineerin...</td>\n",
       "    </tr>\n",
       "    <tr>\n",
       "      <th>3</th>\n",
       "      <td>newLead Data Scientist</td>\n",
       "      <td>Insight Global</td>\n",
       "      <td>Austin, TX 78735 (East Oak Hill area)</td>\n",
       "      <td>150000.0</td>\n",
       "      <td>3.9</td>\n",
       "      <td>You will be an expert at understanding our goa...</td>\n",
       "    </tr>\n",
       "    <tr>\n",
       "      <th>4</th>\n",
       "      <td>Senior Data Scientist</td>\n",
       "      <td>Harnham</td>\n",
       "      <td>Austin, TX•Remote work available</td>\n",
       "      <td>140000.0</td>\n",
       "      <td>4.6</td>\n",
       "      <td>Experience with the cleaning and manipulation ...</td>\n",
       "    </tr>\n",
       "  </tbody>\n",
       "</table>\n",
       "</div>"
      ],
      "text/plain": [
       "                                          Job Title         Company  \\\n",
       "0  Principal Data Scientist - Match Recommendations          Indeed   \n",
       "1              Senior Data Scientist - Ranking Team          Indeed   \n",
       "2                                Sr. Data Scientist  Charles Schwab   \n",
       "3                            newLead Data Scientist  Insight Global   \n",
       "4                             Senior Data Scientist         Harnham   \n",
       "\n",
       "                                Location    Salary  Rating  \\\n",
       "0          Austin, TX•Temporarily Remote  273500.0     4.3   \n",
       "1                             Austin, TX  151000.0     4.3   \n",
       "2       Austin, TX•Remote work available  161500.0     3.9   \n",
       "3  Austin, TX 78735 (East Oak Hill area)  150000.0     3.9   \n",
       "4       Austin, TX•Remote work available  140000.0     4.6   \n",
       "\n",
       "                                             Summary  \n",
       "0  Mentor and grow other software engineers and d...  \n",
       "1  Proactively research data and identify opportu...  \n",
       "2  Document technical designs and data engineerin...  \n",
       "3  You will be an expert at understanding our goa...  \n",
       "4  Experience with the cleaning and manipulation ...  "
      ]
     },
     "execution_count": 85,
     "metadata": {},
     "output_type": "execute_result"
    }
   ],
   "source": [
    "dfm.head()"
   ]
  },
  {
   "cell_type": "code",
   "execution_count": 86,
   "metadata": {},
   "outputs": [],
   "source": [
    "#dropped Rating column to narrow down the columns in both data frames for better results\n",
    "dfm.drop(['Rating'], axis = 1,inplace=True)"
   ]
  },
  {
   "cell_type": "code",
   "execution_count": 87,
   "metadata": {},
   "outputs": [
    {
     "data": {
      "text/html": [
       "<div>\n",
       "<style scoped>\n",
       "    .dataframe tbody tr th:only-of-type {\n",
       "        vertical-align: middle;\n",
       "    }\n",
       "\n",
       "    .dataframe tbody tr th {\n",
       "        vertical-align: top;\n",
       "    }\n",
       "\n",
       "    .dataframe thead th {\n",
       "        text-align: right;\n",
       "    }\n",
       "</style>\n",
       "<table border=\"1\" class=\"dataframe\">\n",
       "  <thead>\n",
       "    <tr style=\"text-align: right;\">\n",
       "      <th></th>\n",
       "      <th>Job Title</th>\n",
       "      <th>Company</th>\n",
       "      <th>Location</th>\n",
       "      <th>Salary</th>\n",
       "      <th>Summary</th>\n",
       "    </tr>\n",
       "  </thead>\n",
       "  <tbody>\n",
       "    <tr>\n",
       "      <th>0</th>\n",
       "      <td>Principal Data Scientist - Match Recommendations</td>\n",
       "      <td>Indeed</td>\n",
       "      <td>Austin, TX•Temporarily Remote</td>\n",
       "      <td>273500.0</td>\n",
       "      <td>Mentor and grow other software engineers and d...</td>\n",
       "    </tr>\n",
       "    <tr>\n",
       "      <th>1</th>\n",
       "      <td>Senior Data Scientist - Ranking Team</td>\n",
       "      <td>Indeed</td>\n",
       "      <td>Austin, TX</td>\n",
       "      <td>151000.0</td>\n",
       "      <td>Proactively research data and identify opportu...</td>\n",
       "    </tr>\n",
       "    <tr>\n",
       "      <th>2</th>\n",
       "      <td>Sr. Data Scientist</td>\n",
       "      <td>Charles Schwab</td>\n",
       "      <td>Austin, TX•Remote work available</td>\n",
       "      <td>161500.0</td>\n",
       "      <td>Document technical designs and data engineerin...</td>\n",
       "    </tr>\n",
       "    <tr>\n",
       "      <th>3</th>\n",
       "      <td>newLead Data Scientist</td>\n",
       "      <td>Insight Global</td>\n",
       "      <td>Austin, TX 78735 (East Oak Hill area)</td>\n",
       "      <td>150000.0</td>\n",
       "      <td>You will be an expert at understanding our goa...</td>\n",
       "    </tr>\n",
       "    <tr>\n",
       "      <th>4</th>\n",
       "      <td>Senior Data Scientist</td>\n",
       "      <td>Harnham</td>\n",
       "      <td>Austin, TX•Remote work available</td>\n",
       "      <td>140000.0</td>\n",
       "      <td>Experience with the cleaning and manipulation ...</td>\n",
       "    </tr>\n",
       "  </tbody>\n",
       "</table>\n",
       "</div>"
      ],
      "text/plain": [
       "                                          Job Title         Company  \\\n",
       "0  Principal Data Scientist - Match Recommendations          Indeed   \n",
       "1              Senior Data Scientist - Ranking Team          Indeed   \n",
       "2                                Sr. Data Scientist  Charles Schwab   \n",
       "3                            newLead Data Scientist  Insight Global   \n",
       "4                             Senior Data Scientist         Harnham   \n",
       "\n",
       "                                Location    Salary  \\\n",
       "0          Austin, TX•Temporarily Remote  273500.0   \n",
       "1                             Austin, TX  151000.0   \n",
       "2       Austin, TX•Remote work available  161500.0   \n",
       "3  Austin, TX 78735 (East Oak Hill area)  150000.0   \n",
       "4       Austin, TX•Remote work available  140000.0   \n",
       "\n",
       "                                             Summary  \n",
       "0  Mentor and grow other software engineers and d...  \n",
       "1  Proactively research data and identify opportu...  \n",
       "2  Document technical designs and data engineerin...  \n",
       "3  You will be an expert at understanding our goa...  \n",
       "4  Experience with the cleaning and manipulation ...  "
      ]
     },
     "execution_count": 87,
     "metadata": {},
     "output_type": "execute_result"
    }
   ],
   "source": [
    "dfm.head()"
   ]
  },
  {
   "cell_type": "code",
   "execution_count": null,
   "metadata": {},
   "outputs": [],
   "source": []
  },
  {
   "cell_type": "code",
   "execution_count": 88,
   "metadata": {},
   "outputs": [],
   "source": [
    "#concatenated 2 scraped databases.\n",
    "dfc=pd.concat([dfm,dfs],axis=0)"
   ]
  },
  {
   "cell_type": "code",
   "execution_count": 89,
   "metadata": {},
   "outputs": [
    {
     "name": "stdout",
     "output_type": "stream",
     "text": [
      "<class 'pandas.core.frame.DataFrame'>\n",
      "Int64Index: 1858 entries, 0 to 1499\n",
      "Data columns (total 5 columns):\n",
      " #   Column     Non-Null Count  Dtype  \n",
      "---  ------     --------------  -----  \n",
      " 0   Job Title  1858 non-null   object \n",
      " 1   Company    1858 non-null   object \n",
      " 2   Location   1858 non-null   object \n",
      " 3   Salary     1858 non-null   float64\n",
      " 4   Summary    1858 non-null   object \n",
      "dtypes: float64(1), object(4)\n",
      "memory usage: 87.1+ KB\n"
     ]
    }
   ],
   "source": [
    "dfc.info()"
   ]
  },
  {
   "cell_type": "code",
   "execution_count": 90,
   "metadata": {},
   "outputs": [
    {
     "data": {
      "text/html": [
       "<div>\n",
       "<style scoped>\n",
       "    .dataframe tbody tr th:only-of-type {\n",
       "        vertical-align: middle;\n",
       "    }\n",
       "\n",
       "    .dataframe tbody tr th {\n",
       "        vertical-align: top;\n",
       "    }\n",
       "\n",
       "    .dataframe thead th {\n",
       "        text-align: right;\n",
       "    }\n",
       "</style>\n",
       "<table border=\"1\" class=\"dataframe\">\n",
       "  <thead>\n",
       "    <tr style=\"text-align: right;\">\n",
       "      <th></th>\n",
       "      <th>Job Title</th>\n",
       "      <th>Company</th>\n",
       "      <th>Location</th>\n",
       "      <th>Salary</th>\n",
       "      <th>Summary</th>\n",
       "    </tr>\n",
       "  </thead>\n",
       "  <tbody>\n",
       "    <tr>\n",
       "      <th>0</th>\n",
       "      <td>Principal Data Scientist - Match Recommendations</td>\n",
       "      <td>Indeed</td>\n",
       "      <td>Austin, TX•Temporarily Remote</td>\n",
       "      <td>273500.0</td>\n",
       "      <td>Mentor and grow other software engineers and d...</td>\n",
       "    </tr>\n",
       "    <tr>\n",
       "      <th>1</th>\n",
       "      <td>Senior Data Scientist - Ranking Team</td>\n",
       "      <td>Indeed</td>\n",
       "      <td>Austin, TX</td>\n",
       "      <td>151000.0</td>\n",
       "      <td>Proactively research data and identify opportu...</td>\n",
       "    </tr>\n",
       "    <tr>\n",
       "      <th>2</th>\n",
       "      <td>Sr. Data Scientist</td>\n",
       "      <td>Charles Schwab</td>\n",
       "      <td>Austin, TX•Remote work available</td>\n",
       "      <td>161500.0</td>\n",
       "      <td>Document technical designs and data engineerin...</td>\n",
       "    </tr>\n",
       "    <tr>\n",
       "      <th>3</th>\n",
       "      <td>newLead Data Scientist</td>\n",
       "      <td>Insight Global</td>\n",
       "      <td>Austin, TX 78735 (East Oak Hill area)</td>\n",
       "      <td>150000.0</td>\n",
       "      <td>You will be an expert at understanding our goa...</td>\n",
       "    </tr>\n",
       "    <tr>\n",
       "      <th>4</th>\n",
       "      <td>Senior Data Scientist</td>\n",
       "      <td>Harnham</td>\n",
       "      <td>Austin, TX•Remote work available</td>\n",
       "      <td>140000.0</td>\n",
       "      <td>Experience with the cleaning and manipulation ...</td>\n",
       "    </tr>\n",
       "    <tr>\n",
       "      <th>5</th>\n",
       "      <td>newLead Data Scientist</td>\n",
       "      <td>S&amp;P Global</td>\n",
       "      <td>Austin, TX 73301 (St Edwards area)</td>\n",
       "      <td>105900.0</td>\n",
       "      <td>Publicly demonstrated data science competency,...</td>\n",
       "    </tr>\n",
       "    <tr>\n",
       "      <th>6</th>\n",
       "      <td>Senior Data Scientist</td>\n",
       "      <td>Valkyrie</td>\n",
       "      <td>Austin, TX 78701 (Downtown area)</td>\n",
       "      <td>112500.0</td>\n",
       "      <td>We are looking for candidates who are interest...</td>\n",
       "    </tr>\n",
       "    <tr>\n",
       "      <th>7</th>\n",
       "      <td>Data Scientist, Decision Science (Marketing an...</td>\n",
       "      <td>Glassdoor</td>\n",
       "      <td>Austin, TX</td>\n",
       "      <td>134100.0</td>\n",
       "      <td>Translate data insights into recommendations f...</td>\n",
       "    </tr>\n",
       "    <tr>\n",
       "      <th>8</th>\n",
       "      <td>Product Analyst/Data Scientist</td>\n",
       "      <td>Salesforce</td>\n",
       "      <td>Austin, TX</td>\n",
       "      <td>82400.0</td>\n",
       "      <td>Each team is made up of data scientists, engin...</td>\n",
       "    </tr>\n",
       "    <tr>\n",
       "      <th>9</th>\n",
       "      <td>Senior Data Scientist - Nationwide Opportunities</td>\n",
       "      <td>Amazon Web Services, Inc.</td>\n",
       "      <td>Austin, TX</td>\n",
       "      <td>116200.0</td>\n",
       "      <td>Experience in an ML engineer or data scientist...</td>\n",
       "    </tr>\n",
       "  </tbody>\n",
       "</table>\n",
       "</div>"
      ],
      "text/plain": [
       "                                           Job Title  \\\n",
       "0   Principal Data Scientist - Match Recommendations   \n",
       "1               Senior Data Scientist - Ranking Team   \n",
       "2                                 Sr. Data Scientist   \n",
       "3                             newLead Data Scientist   \n",
       "4                              Senior Data Scientist   \n",
       "5                             newLead Data Scientist   \n",
       "6                              Senior Data Scientist   \n",
       "7  Data Scientist, Decision Science (Marketing an...   \n",
       "8                     Product Analyst/Data Scientist   \n",
       "9   Senior Data Scientist - Nationwide Opportunities   \n",
       "\n",
       "                     Company                               Location    Salary  \\\n",
       "0                     Indeed          Austin, TX•Temporarily Remote  273500.0   \n",
       "1                     Indeed                             Austin, TX  151000.0   \n",
       "2             Charles Schwab       Austin, TX•Remote work available  161500.0   \n",
       "3             Insight Global  Austin, TX 78735 (East Oak Hill area)  150000.0   \n",
       "4                    Harnham       Austin, TX•Remote work available  140000.0   \n",
       "5                 S&P Global     Austin, TX 73301 (St Edwards area)  105900.0   \n",
       "6                   Valkyrie       Austin, TX 78701 (Downtown area)  112500.0   \n",
       "7                  Glassdoor                             Austin, TX  134100.0   \n",
       "8                 Salesforce                             Austin, TX   82400.0   \n",
       "9  Amazon Web Services, Inc.                             Austin, TX  116200.0   \n",
       "\n",
       "                                             Summary  \n",
       "0  Mentor and grow other software engineers and d...  \n",
       "1  Proactively research data and identify opportu...  \n",
       "2  Document technical designs and data engineerin...  \n",
       "3  You will be an expert at understanding our goa...  \n",
       "4  Experience with the cleaning and manipulation ...  \n",
       "5  Publicly demonstrated data science competency,...  \n",
       "6  We are looking for candidates who are interest...  \n",
       "7  Translate data insights into recommendations f...  \n",
       "8  Each team is made up of data scientists, engin...  \n",
       "9  Experience in an ML engineer or data scientist...  "
      ]
     },
     "execution_count": 90,
     "metadata": {},
     "output_type": "execute_result"
    }
   ],
   "source": [
    "dfc.head(10)"
   ]
  },
  {
   "cell_type": "code",
   "execution_count": 91,
   "metadata": {},
   "outputs": [],
   "source": [
    "#data is clean and duplicates free\n",
    "dfc.drop_duplicates(subset=None, inplace=True)"
   ]
  },
  {
   "cell_type": "code",
   "execution_count": 92,
   "metadata": {},
   "outputs": [
    {
     "name": "stdout",
     "output_type": "stream",
     "text": [
      "<class 'pandas.core.frame.DataFrame'>\n",
      "Int64Index: 1858 entries, 0 to 1499\n",
      "Data columns (total 5 columns):\n",
      " #   Column     Non-Null Count  Dtype  \n",
      "---  ------     --------------  -----  \n",
      " 0   Job Title  1858 non-null   object \n",
      " 1   Company    1858 non-null   object \n",
      " 2   Location   1858 non-null   object \n",
      " 3   Salary     1858 non-null   float64\n",
      " 4   Summary    1858 non-null   object \n",
      "dtypes: float64(1), object(4)\n",
      "memory usage: 87.1+ KB\n"
     ]
    }
   ],
   "source": [
    "dfc.info()"
   ]
  },
  {
   "cell_type": "code",
   "execution_count": 93,
   "metadata": {},
   "outputs": [
    {
     "data": {
      "text/plain": [
       "count      1858.000000\n",
       "mean      82156.084263\n",
       "std       56451.333862\n",
       "min         342.500000\n",
       "25%       44525.000000\n",
       "50%       65102.057500\n",
       "75%      110000.000000\n",
       "max      727278.200000\n",
       "Name: Salary, dtype: float64"
      ]
     },
     "execution_count": 93,
     "metadata": {},
     "output_type": "execute_result"
    }
   ],
   "source": [
    "dfc.Salary.describe()"
   ]
  },
  {
   "cell_type": "code",
   "execution_count": 94,
   "metadata": {},
   "outputs": [
    {
     "data": {
      "text/plain": [
       "0       273500.0\n",
       "1       151000.0\n",
       "2       161500.0\n",
       "3       150000.0\n",
       "4       140000.0\n",
       "          ...   \n",
       "1495     54800.0\n",
       "1496     58225.0\n",
       "1497     60244.4\n",
       "1498     35620.0\n",
       "1499     28085.0\n",
       "Name: Salary, Length: 1858, dtype: float64"
      ]
     },
     "execution_count": 94,
     "metadata": {},
     "output_type": "execute_result"
    }
   ],
   "source": [
    "dfc['Salary'].round(decimals = 1)"
   ]
  },
  {
   "cell_type": "code",
   "execution_count": 95,
   "metadata": {},
   "outputs": [
    {
     "data": {
      "text/plain": [
       "0       273500.00\n",
       "1       151000.00\n",
       "2       161500.00\n",
       "3       150000.00\n",
       "4       140000.00\n",
       "          ...    \n",
       "1495     54800.00\n",
       "1496     58225.00\n",
       "1497     60244.38\n",
       "1498     35620.00\n",
       "1499     28085.00\n",
       "Name: Salary, Length: 1858, dtype: float64"
      ]
     },
     "execution_count": 95,
     "metadata": {},
     "output_type": "execute_result"
    }
   ],
   "source": [
    "dfc.Salary"
   ]
  },
  {
   "cell_type": "code",
   "execution_count": 96,
   "metadata": {},
   "outputs": [
    {
     "data": {
      "text/html": [
       "<div>\n",
       "<style scoped>\n",
       "    .dataframe tbody tr th:only-of-type {\n",
       "        vertical-align: middle;\n",
       "    }\n",
       "\n",
       "    .dataframe tbody tr th {\n",
       "        vertical-align: top;\n",
       "    }\n",
       "\n",
       "    .dataframe thead th {\n",
       "        text-align: right;\n",
       "    }\n",
       "</style>\n",
       "<table border=\"1\" class=\"dataframe\">\n",
       "  <thead>\n",
       "    <tr style=\"text-align: right;\">\n",
       "      <th></th>\n",
       "      <th>Job Title</th>\n",
       "      <th>Company</th>\n",
       "      <th>Location</th>\n",
       "      <th>Salary</th>\n",
       "      <th>Summary</th>\n",
       "    </tr>\n",
       "  </thead>\n",
       "  <tbody>\n",
       "    <tr>\n",
       "      <th>0</th>\n",
       "      <td>Principal Data Scientist - Match Recommendations</td>\n",
       "      <td>Indeed</td>\n",
       "      <td>Austin, TX•Temporarily Remote</td>\n",
       "      <td>273500.0</td>\n",
       "      <td>Mentor and grow other software engineers and d...</td>\n",
       "    </tr>\n",
       "    <tr>\n",
       "      <th>1</th>\n",
       "      <td>Senior Data Scientist - Ranking Team</td>\n",
       "      <td>Indeed</td>\n",
       "      <td>Austin, TX</td>\n",
       "      <td>151000.0</td>\n",
       "      <td>Proactively research data and identify opportu...</td>\n",
       "    </tr>\n",
       "    <tr>\n",
       "      <th>2</th>\n",
       "      <td>Sr. Data Scientist</td>\n",
       "      <td>Charles Schwab</td>\n",
       "      <td>Austin, TX•Remote work available</td>\n",
       "      <td>161500.0</td>\n",
       "      <td>Document technical designs and data engineerin...</td>\n",
       "    </tr>\n",
       "    <tr>\n",
       "      <th>3</th>\n",
       "      <td>newLead Data Scientist</td>\n",
       "      <td>Insight Global</td>\n",
       "      <td>Austin, TX 78735 (East Oak Hill area)</td>\n",
       "      <td>150000.0</td>\n",
       "      <td>You will be an expert at understanding our goa...</td>\n",
       "    </tr>\n",
       "    <tr>\n",
       "      <th>4</th>\n",
       "      <td>Senior Data Scientist</td>\n",
       "      <td>Harnham</td>\n",
       "      <td>Austin, TX•Remote work available</td>\n",
       "      <td>140000.0</td>\n",
       "      <td>Experience with the cleaning and manipulation ...</td>\n",
       "    </tr>\n",
       "  </tbody>\n",
       "</table>\n",
       "</div>"
      ],
      "text/plain": [
       "                                          Job Title         Company  \\\n",
       "0  Principal Data Scientist - Match Recommendations          Indeed   \n",
       "1              Senior Data Scientist - Ranking Team          Indeed   \n",
       "2                                Sr. Data Scientist  Charles Schwab   \n",
       "3                            newLead Data Scientist  Insight Global   \n",
       "4                             Senior Data Scientist         Harnham   \n",
       "\n",
       "                                Location    Salary  \\\n",
       "0          Austin, TX•Temporarily Remote  273500.0   \n",
       "1                             Austin, TX  151000.0   \n",
       "2       Austin, TX•Remote work available  161500.0   \n",
       "3  Austin, TX 78735 (East Oak Hill area)  150000.0   \n",
       "4       Austin, TX•Remote work available  140000.0   \n",
       "\n",
       "                                             Summary  \n",
       "0  Mentor and grow other software engineers and d...  \n",
       "1  Proactively research data and identify opportu...  \n",
       "2  Document technical designs and data engineerin...  \n",
       "3  You will be an expert at understanding our goa...  \n",
       "4  Experience with the cleaning and manipulation ...  "
      ]
     },
     "execution_count": 96,
     "metadata": {},
     "output_type": "execute_result"
    }
   ],
   "source": [
    "dfc.head()"
   ]
  },
  {
   "cell_type": "code",
   "execution_count": 97,
   "metadata": {},
   "outputs": [
    {
     "name": "stdout",
     "output_type": "stream",
     "text": [
      "<class 'pandas.core.frame.DataFrame'>\n",
      "Int64Index: 1858 entries, 0 to 1499\n",
      "Data columns (total 5 columns):\n",
      " #   Column     Non-Null Count  Dtype  \n",
      "---  ------     --------------  -----  \n",
      " 0   Job Title  1858 non-null   object \n",
      " 1   Company    1858 non-null   object \n",
      " 2   Location   1858 non-null   object \n",
      " 3   Salary     1858 non-null   float64\n",
      " 4   Summary    1858 non-null   object \n",
      "dtypes: float64(1), object(4)\n",
      "memory usage: 87.1+ KB\n"
     ]
    }
   ],
   "source": [
    "dfc.info()"
   ]
  },
  {
   "cell_type": "code",
   "execution_count": 98,
   "metadata": {},
   "outputs": [],
   "source": [
    "#Load in the  data of scraped salaries\n",
    "#dfc.to_csv(r'/Users/oc/Desktop/GA/material/Projects/project 4/project-4/Project 4 Salary/CombinedCleanSalary&JobsData.csv')"
   ]
  },
  {
   "cell_type": "markdown",
   "metadata": {
    "focus": false,
    "id": "c7631f51-07f2-4c79-a093-3e9bc7849a48"
   },
   "source": [
    "### We want to predict a binary variable - whether the salary was low or high. Compute the median salary and create a new binary variable that is true when the salary is high (above the median).\n",
    "\n",
    "We could also perform Linear Regression (or any regression) to predict the salary value here. Instead, we are going to convert this into a _binary_ classification problem, by predicting two classes, HIGH vs LOW salary.\n",
    "\n",
    "While performing regression may be better, performing classification may help remove some of the noise of the extreme salaries. We don't have to choose the `median` as the splitting point - we could also split on the 75th percentile or any other reasonable breaking point.\n",
    "\n",
    "In fact, the ideal scenario may be to predict many levels of salaries."
   ]
  },
  {
   "cell_type": "code",
   "execution_count": 99,
   "metadata": {
    "focus": false,
    "id": "c20d2498-151c-44c3-a453-3a333c79a0ac",
    "scrolled": true
   },
   "outputs": [
    {
     "data": {
      "text/plain": [
       "count      1858.000000\n",
       "mean      82156.084263\n",
       "std       56451.333862\n",
       "min         342.500000\n",
       "25%       44525.000000\n",
       "50%       65102.057500\n",
       "75%      110000.000000\n",
       "max      727278.200000\n",
       "Name: Salary, dtype: float64"
      ]
     },
     "execution_count": 99,
     "metadata": {},
     "output_type": "execute_result"
    }
   ],
   "source": [
    "## YOUR CODE HERE\n",
    "dfc.Salary.describe()"
   ]
  },
  {
   "cell_type": "code",
   "execution_count": 100,
   "metadata": {},
   "outputs": [],
   "source": [
    "from scipy import stats #importing scipy stats for probabilistic distributions and statistical operations.\n",
    "\n",
    "def drop_numerical_outliers(dfc, z_thresh=3):\n",
    "    #thresh takes integer value which tells minimum amount of na values to drop\n",
    "    # Limits(constrains) will contain `True` or `False` depending on if it is a value below the threshold.\n",
    "    constrains = dfc.select_dtypes(include=[np.number]) \\\n",
    "        .apply(lambda x: np.abs(stats.zscore(x)) < z_thresh) \\\n",
    "        .all(axis=1)\n",
    "    # Drop (inplace) values set to be rejected\n",
    "    dfc.drop(dfc.index[~constrains], inplace=True)\n",
    "\n"
   ]
  },
  {
   "cell_type": "code",
   "execution_count": 101,
   "metadata": {},
   "outputs": [],
   "source": [
    "# dropped the outliers\n",
    "drop_numerical_outliers(dfc)"
   ]
  },
  {
   "cell_type": "code",
   "execution_count": 102,
   "metadata": {},
   "outputs": [
    {
     "data": {
      "text/plain": [
       "(1832, 5)"
      ]
     },
     "execution_count": 102,
     "metadata": {},
     "output_type": "execute_result"
    }
   ],
   "source": [
    "# from 1858 rows have 1832 rows left  \n",
    "dfc.shape"
   ]
  },
  {
   "cell_type": "code",
   "execution_count": null,
   "metadata": {},
   "outputs": [],
   "source": []
  },
  {
   "cell_type": "code",
   "execution_count": 103,
   "metadata": {},
   "outputs": [
    {
     "data": {
      "text/plain": [
       "65075.00000000001"
      ]
     },
     "execution_count": 103,
     "metadata": {},
     "output_type": "execute_result"
    }
   ],
   "source": [
    "#defining Salary median to be able to add a new column with its median value(booleans 0/1)\n",
    "dfc.Salary.median()"
   ]
  },
  {
   "cell_type": "code",
   "execution_count": 104,
   "metadata": {},
   "outputs": [],
   "source": [
    "#creating a new column HILO based on median salary & 1=higher than median Salary, 0=lower than median Salary.\n",
    "dfc['Salary_HILO']=dfc.Salary.apply(lambda x : 1 if x > dfc.Salary.median() else 0)"
   ]
  },
  {
   "cell_type": "code",
   "execution_count": 105,
   "metadata": {},
   "outputs": [
    {
     "data": {
      "text/html": [
       "<div>\n",
       "<style scoped>\n",
       "    .dataframe tbody tr th:only-of-type {\n",
       "        vertical-align: middle;\n",
       "    }\n",
       "\n",
       "    .dataframe tbody tr th {\n",
       "        vertical-align: top;\n",
       "    }\n",
       "\n",
       "    .dataframe thead th {\n",
       "        text-align: right;\n",
       "    }\n",
       "</style>\n",
       "<table border=\"1\" class=\"dataframe\">\n",
       "  <thead>\n",
       "    <tr style=\"text-align: right;\">\n",
       "      <th></th>\n",
       "      <th>Job Title</th>\n",
       "      <th>Company</th>\n",
       "      <th>Location</th>\n",
       "      <th>Salary</th>\n",
       "      <th>Summary</th>\n",
       "      <th>Salary_HILO</th>\n",
       "    </tr>\n",
       "  </thead>\n",
       "  <tbody>\n",
       "    <tr>\n",
       "      <th>1</th>\n",
       "      <td>Senior Data Scientist - Ranking Team</td>\n",
       "      <td>Indeed</td>\n",
       "      <td>Austin, TX</td>\n",
       "      <td>151000.0</td>\n",
       "      <td>Proactively research data and identify opportu...</td>\n",
       "      <td>1</td>\n",
       "    </tr>\n",
       "    <tr>\n",
       "      <th>2</th>\n",
       "      <td>Sr. Data Scientist</td>\n",
       "      <td>Charles Schwab</td>\n",
       "      <td>Austin, TX•Remote work available</td>\n",
       "      <td>161500.0</td>\n",
       "      <td>Document technical designs and data engineerin...</td>\n",
       "      <td>1</td>\n",
       "    </tr>\n",
       "    <tr>\n",
       "      <th>3</th>\n",
       "      <td>newLead Data Scientist</td>\n",
       "      <td>Insight Global</td>\n",
       "      <td>Austin, TX 78735 (East Oak Hill area)</td>\n",
       "      <td>150000.0</td>\n",
       "      <td>You will be an expert at understanding our goa...</td>\n",
       "      <td>1</td>\n",
       "    </tr>\n",
       "    <tr>\n",
       "      <th>4</th>\n",
       "      <td>Senior Data Scientist</td>\n",
       "      <td>Harnham</td>\n",
       "      <td>Austin, TX•Remote work available</td>\n",
       "      <td>140000.0</td>\n",
       "      <td>Experience with the cleaning and manipulation ...</td>\n",
       "      <td>1</td>\n",
       "    </tr>\n",
       "    <tr>\n",
       "      <th>5</th>\n",
       "      <td>newLead Data Scientist</td>\n",
       "      <td>S&amp;P Global</td>\n",
       "      <td>Austin, TX 73301 (St Edwards area)</td>\n",
       "      <td>105900.0</td>\n",
       "      <td>Publicly demonstrated data science competency,...</td>\n",
       "      <td>1</td>\n",
       "    </tr>\n",
       "  </tbody>\n",
       "</table>\n",
       "</div>"
      ],
      "text/plain": [
       "                              Job Title         Company  \\\n",
       "1  Senior Data Scientist - Ranking Team          Indeed   \n",
       "2                    Sr. Data Scientist  Charles Schwab   \n",
       "3                newLead Data Scientist  Insight Global   \n",
       "4                 Senior Data Scientist         Harnham   \n",
       "5                newLead Data Scientist      S&P Global   \n",
       "\n",
       "                                Location    Salary  \\\n",
       "1                             Austin, TX  151000.0   \n",
       "2       Austin, TX•Remote work available  161500.0   \n",
       "3  Austin, TX 78735 (East Oak Hill area)  150000.0   \n",
       "4       Austin, TX•Remote work available  140000.0   \n",
       "5     Austin, TX 73301 (St Edwards area)  105900.0   \n",
       "\n",
       "                                             Summary  Salary_HILO  \n",
       "1  Proactively research data and identify opportu...            1  \n",
       "2  Document technical designs and data engineerin...            1  \n",
       "3  You will be an expert at understanding our goa...            1  \n",
       "4  Experience with the cleaning and manipulation ...            1  \n",
       "5  Publicly demonstrated data science competency,...            1  "
      ]
     },
     "execution_count": 105,
     "metadata": {},
     "output_type": "execute_result"
    }
   ],
   "source": [
    "dfc.head()"
   ]
  },
  {
   "cell_type": "code",
   "execution_count": null,
   "metadata": {},
   "outputs": [],
   "source": []
  },
  {
   "cell_type": "markdown",
   "metadata": {
    "focus": false,
    "id": "a7afb2c0-d41e-4779-8216-91cd8dd4473f"
   },
   "source": [
    "#### Thought experiment: What is the baseline accuracy for this model?"
   ]
  },
  {
   "cell_type": "code",
   "execution_count": 106,
   "metadata": {
    "focus": false,
    "id": "87a17d3d-b7f4-4747-9f75-f9af1d18a174"
   },
   "outputs": [
    {
     "data": {
      "text/plain": [
       "0    0.506004\n",
       "1    0.493996\n",
       "Name: Salary_HILO, dtype: float64"
      ]
     },
     "execution_count": 106,
     "metadata": {},
     "output_type": "execute_result"
    }
   ],
   "source": [
    "## YOUR CODE HERE\n",
    "#With normalize set to True , returns the relative frequency by dividing all values by the sum of values.\n",
    "dfc['Salary_HILO'].value_counts(normalize=True)"
   ]
  },
  {
   "cell_type": "code",
   "execution_count": 107,
   "metadata": {},
   "outputs": [
    {
     "data": {
      "text/plain": [
       "0.506004366812227"
      ]
     },
     "execution_count": 107,
     "metadata": {},
     "output_type": "execute_result"
    }
   ],
   "source": [
    "#max normalization is one of the most common ways to normalize data.\n",
    "dfc['Salary_HILO'].value_counts(normalize=True).max()"
   ]
  },
  {
   "cell_type": "code",
   "execution_count": null,
   "metadata": {},
   "outputs": [],
   "source": []
  },
  {
   "cell_type": "markdown",
   "metadata": {
    "focus": false,
    "id": "4fb29de2-5b98-474c-a4ad-5170b72b9aea"
   },
   "source": [
    "### Create a classification model to predict High/Low salary. \n",
    "\n",
    "\n",
    "- Start by ONLY using the location as a feature.\n",
    "- Use at least two different classifiers you find suitable.\n",
    "- Remember that scaling your features might be necessary.\n",
    "- Display the coefficients/feature importances and write a short summary of what they mean.\n",
    "- Create a few new variables in your dataframe to represent interesting features of a job title (e.g. whether 'Senior' or 'Manager' is in the title).\n",
    "- Incorporate other text features from the title or summary that you believe will predict the salary.\n",
    "- Then build new classification models including also those features. Do they add any value?\n",
    "- Tune your models by testing parameter ranges, regularization strengths, etc. Discuss how that affects your models.\n",
    "- Discuss model coefficients or feature importances as applicable."
   ]
  },
  {
   "cell_type": "code",
   "execution_count": 108,
   "metadata": {},
   "outputs": [],
   "source": [
    "## YOUR CODE HERE\n",
    "#y-target\n",
    "#dummifying Location.\n",
    "#A dummy variable is a binary variable that indicates whether a separate categorical variable takes on a specific value.\n",
    "X=pd.get_dummies(dfc['Location'])\n",
    "y=dfc.Salary_HILO"
   ]
  },
  {
   "cell_type": "code",
   "execution_count": 109,
   "metadata": {},
   "outputs": [],
   "source": [
    "#importing the sklearn for model \n",
    "from sklearn.model_selection import train_test_split, cross_val_score, GridSearchCV"
   ]
  },
  {
   "cell_type": "code",
   "execution_count": 110,
   "metadata": {},
   "outputs": [],
   "source": [
    "X_train, X_test, y_train, y_test = train_test_split(X,y,stratify=y,test_size=0.2, random_state=1)"
   ]
  },
  {
   "cell_type": "code",
   "execution_count": 111,
   "metadata": {},
   "outputs": [],
   "source": [
    "#\n",
    "#Train-Test Split Evaluation.\n",
    "#The train-test split is a technique for evaluating the performance of a machine learning algorithm. \n",
    "#It can be used for classification or regression problems and can be used for any supervised learning algorithm.\n",
    "#xrandom_stateint, RandomState instance or None, default=None\n",
    "#Controls the shuffling applied to the data before applying the split.\n",
    "#Pass an int for reproducible output across multiple function calls. "
   ]
  },
  {
   "cell_type": "code",
   "execution_count": 112,
   "metadata": {},
   "outputs": [],
   "source": [
    "from sklearn.preprocessing import StandardScaler"
   ]
  },
  {
   "cell_type": "code",
   "execution_count": 113,
   "metadata": {},
   "outputs": [],
   "source": [
    "#StandardScaler : It transforms the data in such a manner that it has mean as 0 and standard deviation as 1. \n",
    "#In short, it standardizes the data. Standardization is useful for data which has negative values. \n",
    "#It arranges the data in a standard normal distribution"
   ]
  },
  {
   "cell_type": "code",
   "execution_count": 114,
   "metadata": {},
   "outputs": [],
   "source": [
    "scaler = StandardScaler()\n",
    "X_train = scaler.fit_transform(X_train)\n",
    "X_test = scaler.transform(X_test)"
   ]
  },
  {
   "cell_type": "code",
   "execution_count": 115,
   "metadata": {},
   "outputs": [],
   "source": [
    "from sklearn.metrics import classification_report, confusion_matrix, accuracy_score"
   ]
  },
  {
   "cell_type": "code",
   "execution_count": 116,
   "metadata": {},
   "outputs": [
    {
     "name": "stdout",
     "output_type": "stream",
     "text": [
      "Accuracy score: 72.20708446866485\n",
      "Log CV score: 0.6559726962457338\n",
      "Logistic Regression Train Score: 0.6750853242320819\n",
      "Logistic Regression Test Score: 0.7220708446866485\n"
     ]
    }
   ],
   "source": [
    "log = LogisticRegression( solver='liblinear', multi_class='ovr', penalty=\"l2\")\n",
    "log.fit(X_train, y_train)\n",
    "yhat = log.predict(X_test)\n",
    "# evaluate predictions\n",
    "accuracy = accuracy_score(y_test, yhat)\n",
    "#yhat is the predicted value of y (the dependent variable) in a regression equation. \n",
    "#It can also be considered to be the average value of the response variable.\n",
    "print('Accuracy score:', accuracy*100)#multiplying by 100 to get rid of decimals\n",
    "print(\"Log CV score:\", cross_val_score(log, X_train, y_train, cv=5).mean())\n",
    "#choosing 5 cv folds and it's mean \n",
    "print('Logistic Regression Train Score:', log.score(X_train,y_train))\n",
    "print('Logistic Regression Test Score:', log.score(X_test,y_test))"
   ]
  },
  {
   "cell_type": "code",
   "execution_count": 117,
   "metadata": {},
   "outputs": [],
   "source": [
    "#The value of 𝑏₀,also called the intercept,shows the point where the estimated regression line crosses the 𝑦 axis. \n",
    "#It is the value of the estimated response 𝑓(𝑥) for 𝑥 = 0. \n",
    "#The value of 𝑏₁ determines the slope of the estimated regression line."
   ]
  },
  {
   "cell_type": "code",
   "execution_count": 118,
   "metadata": {},
   "outputs": [
    {
     "name": "stdout",
     "output_type": "stream",
     "text": [
      "[0.49803837]\n",
      "[[ 0.13096567  0.13096567  0.13096567  0.          0.13096567  0.26174559\n",
      "   0.18516967  0.          0.          0.          0.13096567  0.\n",
      "   0.22673198  0.13096567  0.13096567  0.18516967  0.13096567  0.\n",
      "   0.26174559  0.13096567  0.          0.          0.13096567  0.13096567\n",
      "  -0.15994171 -0.15994171  0.18516967  0.13096567  0.          0.13096567\n",
      "   0.22673198  0.13096567 -0.22571912 -0.2218758   0.13096567  0.\n",
      "   0.         -0.30751177  0.32041972  0.29257118  0.18516967 -0.23326055\n",
      "   0.13096567  0.13096567  0.13096567 -0.09108162 -0.2501423  -0.15994171\n",
      "   0.          0.26174559  0.13096567  0.13096567 -0.15994171 -0.15994171\n",
      "   0.18516967  0.          0.          0.13096567  0.18516967  0.13096567\n",
      "   0.18516967  0.13096567  0.18516967  0.18516967  0.13096567  0.13096567\n",
      "   0.          0.          0.13096567  0.16338122  0.13096567  0.18516967\n",
      "   0.13096567  0.13096567  0.          0.13096567  0.13096567 -0.15994171\n",
      "   0.13096567  0.          0.13096567  0.13096567  0.18516967  0.22673198\n",
      "   0.13096567 -0.05676714 -0.13020075  0.13096567  0.          0.04757953\n",
      "   0.13096567  0.13096567  0.13096567  0.13096567  0.13096567  0.\n",
      "  -0.22968206  0.          0.13096567  0.13096567  0.13096567  0.13096567\n",
      "   0.13096567  0.13096567  0.13096567  0.13096567  0.13096567  0.13096567\n",
      "   0.13096567  0.         -0.32951903  0.13096567  0.13096567 -0.33809833\n",
      "  -0.25364659  0.13096567  0.          0.18516967  0.13096567  0.29257118\n",
      "   0.13096567  0.13096567  0.          0.13096567  0.13096567  0.18516967\n",
      "   0.18516967 -0.29592546  0.13096567  0.          0.13096567  0.22673198\n",
      "   0.08395626  0.13096567  0.13096567  0.13096567  0.13096567  0.13096567\n",
      "  -0.15994171  0.          0.13096567  0.13096567  0.13096567  0.13096567\n",
      "   0.13096567  0.13096567  0.          0.          0.18516967  0.13096567\n",
      "   0.13096567  0.13096567  0.13096567  0.22673198 -0.15994171 -0.17513561\n",
      "   0.13096567  0.13096567 -0.23849848  0.13096567  0.13096567  0.\n",
      "   0.          0.          0.13096567  0.18516967  0.13096567  0.13096567\n",
      "   0.13096567  0.13096567  0.13096567 -0.02085168  0.13096567  0.13096567\n",
      "   0.13096567  0.13096567 -0.02085168  0.13096567  0.          0.13096567\n",
      "   0.34601078 -0.15994171  0.13096567  0.          0.13096567  0.26174559\n",
      "   0.13096567  0.18516967  0.13096567  0.13096567  0.13096567  0.18516967\n",
      "   0.13096567  0.13096567  0.13096567  0.13096567  0.13096567  0.13096567\n",
      "   0.13096567  0.13096567  0.13096567  0.13096567  0.26174559  0.13096567\n",
      "   0.13096567 -0.15994171  0.32041972  0.13096567  0.13096567  0.\n",
      "   0.          0.13096567  0.18516967  0.          0.          0.18516967\n",
      "   0.          0.13096567  0.13096567  0.13096567  0.13096567  0.\n",
      "   0.13096567 -0.15994171  0.13096567  0.13096567  0.18516967]]\n"
     ]
    }
   ],
   "source": [
    "print(log.intercept_)\n",
    "print(log.coef_)\n",
    "#The coef_ contain the coefficients for the prediction of each of the targets. \n",
    "#It is also the same as if you trained a model to predict each of the targets separately."
   ]
  },
  {
   "cell_type": "code",
   "execution_count": 119,
   "metadata": {},
   "outputs": [],
   "source": [
    "#Calculate the absolute value element-wise. np. abs is a shorthand for this function.\n",
    "#abs() function to compute the absolute values.\n",
    "#The zip() function combines items from each of the specified iterables.\n",
    "#The return value is a list of tuples where the items of each passed iterable at same index are paired together.\n",
    "#sort_values(column, ascending=False) to sort a pd.DataFrame in descending order based on the values in column . print(df).\n",
    "Coeff = pd.DataFrame(list(zip(X.columns,log.coef_[0], np.abs(log.coef_[0]))), columns=['Var','Coef', 'Coef_abs']).sort_values(by='Coef_abs', ascending=False)\n",
    "\n",
    "\n"
   ]
  },
  {
   "cell_type": "code",
   "execution_count": 120,
   "metadata": {},
   "outputs": [
    {
     "data": {
      "text/html": [
       "<div>\n",
       "<style scoped>\n",
       "    .dataframe tbody tr th:only-of-type {\n",
       "        vertical-align: middle;\n",
       "    }\n",
       "\n",
       "    .dataframe tbody tr th {\n",
       "        vertical-align: top;\n",
       "    }\n",
       "\n",
       "    .dataframe thead th {\n",
       "        text-align: right;\n",
       "    }\n",
       "</style>\n",
       "<table border=\"1\" class=\"dataframe\">\n",
       "  <thead>\n",
       "    <tr style=\"text-align: right;\">\n",
       "      <th></th>\n",
       "      <th>Var</th>\n",
       "      <th>Coef</th>\n",
       "      <th>Coef_abs</th>\n",
       "    </tr>\n",
       "  </thead>\n",
       "  <tbody>\n",
       "    <tr>\n",
       "      <th>180</th>\n",
       "      <td>Queens, NY 11101</td>\n",
       "      <td>0.346011</td>\n",
       "      <td>0.346011</td>\n",
       "    </tr>\n",
       "    <tr>\n",
       "      <th>113</th>\n",
       "      <td>Liverpool</td>\n",
       "      <td>-0.338098</td>\n",
       "      <td>0.338098</td>\n",
       "    </tr>\n",
       "    <tr>\n",
       "      <th>110</th>\n",
       "      <td>Leeds</td>\n",
       "      <td>-0.329519</td>\n",
       "      <td>0.329519</td>\n",
       "    </tr>\n",
       "    <tr>\n",
       "      <th>38</th>\n",
       "      <td>Boulder, CO</td>\n",
       "      <td>0.320420</td>\n",
       "      <td>0.320420</td>\n",
       "    </tr>\n",
       "    <tr>\n",
       "      <th>206</th>\n",
       "      <td>Seattle, WA+1 location</td>\n",
       "      <td>0.320420</td>\n",
       "      <td>0.320420</td>\n",
       "    </tr>\n",
       "    <tr>\n",
       "      <th>...</th>\n",
       "      <td>...</td>\n",
       "      <td>...</td>\n",
       "      <td>...</td>\n",
       "    </tr>\n",
       "    <tr>\n",
       "      <th>20</th>\n",
       "      <td>Austin, TX 73301 (St Edwards area)+1 location</td>\n",
       "      <td>0.000000</td>\n",
       "      <td>0.000000</td>\n",
       "    </tr>\n",
       "    <tr>\n",
       "      <th>21</th>\n",
       "      <td>Austin, TX 73301 (St Edwards area)+1 location•...</td>\n",
       "      <td>0.000000</td>\n",
       "      <td>0.000000</td>\n",
       "    </tr>\n",
       "    <tr>\n",
       "      <th>79</th>\n",
       "      <td>Denver, CO 80237 (Hampden South area)</td>\n",
       "      <td>0.000000</td>\n",
       "      <td>0.000000</td>\n",
       "    </tr>\n",
       "    <tr>\n",
       "      <th>74</th>\n",
       "      <td>Denver, CO 80202 (Union Station area)</td>\n",
       "      <td>0.000000</td>\n",
       "      <td>0.000000</td>\n",
       "    </tr>\n",
       "    <tr>\n",
       "      <th>129</th>\n",
       "      <td>Miami, FL</td>\n",
       "      <td>0.000000</td>\n",
       "      <td>0.000000</td>\n",
       "    </tr>\n",
       "  </tbody>\n",
       "</table>\n",
       "<p>227 rows × 3 columns</p>\n",
       "</div>"
      ],
      "text/plain": [
       "                                                   Var      Coef  Coef_abs\n",
       "180                                   Queens, NY 11101  0.346011  0.346011\n",
       "113                                          Liverpool -0.338098  0.338098\n",
       "110                                              Leeds -0.329519  0.329519\n",
       "38                                         Boulder, CO  0.320420  0.320420\n",
       "206                             Seattle, WA+1 location  0.320420  0.320420\n",
       "..                                                 ...       ...       ...\n",
       "20       Austin, TX 73301 (St Edwards area)+1 location  0.000000  0.000000\n",
       "21   Austin, TX 73301 (St Edwards area)+1 location•...  0.000000  0.000000\n",
       "79               Denver, CO 80237 (Hampden South area)  0.000000  0.000000\n",
       "74               Denver, CO 80202 (Union Station area)  0.000000  0.000000\n",
       "129                                          Miami, FL  0.000000  0.000000\n",
       "\n",
       "[227 rows x 3 columns]"
      ]
     },
     "execution_count": 120,
     "metadata": {},
     "output_type": "execute_result"
    }
   ],
   "source": [
    "Coeff"
   ]
  },
  {
   "cell_type": "code",
   "execution_count": 121,
   "metadata": {},
   "outputs": [
    {
     "data": {
      "image/png": "[encoded data removed]",
      "text/plain": [
       "<Figure size 864x864 with 1 Axes>"
      ]
     },
     "metadata": {
      "image/png": {
       "height": 710,
       "width": 890
      },
      "needs_background": "light"
     },
     "output_type": "display_data"
    }
   ],
   "source": [
    "import matplotlib.pyplot as plt\n",
    "import seaborn as sns\n",
    "sns.set(font_scale=1.5)#Getting the parameters that control the scaling of plot elements.\n",
    "\n",
    "%config InlineBackend.figure_format = 'retina'\n",
    "#the definition of the displayed plot is-retina quality.\n",
    "#Any display with retina resolution will make the figures look better.\n",
    "%matplotlib inline\n",
    "Coeff.head(20).plot(kind='barh',x=0,y=1,figsize=(12,12),legend=False,title='Top 20 Coefficients of our variables', sort_columns=True)\n",
    "plt.gca().invert_yaxis()#setted up the parameters."
   ]
  },
  {
   "cell_type": "markdown",
   "metadata": {},
   "source": [
    "#Display the coefficients/feature importances and write a short summary of what they mean.\n",
    "\n",
    "\n",
    "From the bar chart shows the coeficient Top 20 var. Locations: Queens,NY;Boulder,CO;Seattle,WA;LA,CA and several others are showing strong positive coef. results,that means that in these Locations have higher impact on determening whever the Salary is above or below the median. On the over hand there is also a negative coef. results for Locations: Birmingham,London,Manchester,Cardiff,Oxford&and few more as it displayed on bar chart above. \n",
    "\n"
   ]
  },
  {
   "cell_type": "markdown",
   "metadata": {},
   "source": [
    "KNN: K Nearest Neighbor is one of the fundamental algorithms in machine learning. Machine learning models use a set of input values to predict output values. KNN is one of the simplest forms of machine learning algorithms mostly used for classification. It classifies the data point on how its neighbor is classified.\n",
    "KNN classifies the new data points based on the similarity measure of the earlier stored data points. For example, if we have a dataset of tomatoes and bananas. KNN will store similar measures like shape and color. When a new object comes it will check its similarity with the color (red or yellow) and shape.\n",
    "K in KNN represents the number of the nearest neighbors we used to classify new data points."
   ]
  },
  {
   "cell_type": "code",
   "execution_count": 122,
   "metadata": {},
   "outputs": [
    {
     "name": "stdout",
     "output_type": "stream",
     "text": [
      "Knn Train: 0.6136518771331058\n",
      "Knn CV score: 0.5897610921501706\n",
      "Knn Test: 0.547683923705722\n"
     ]
    }
   ],
   "source": [
    "#running knn that is used to solve both classification and regression problems\n",
    "from sklearn.neighbors import KNeighborsClassifier\n",
    "knn = KNeighborsClassifier(n_neighbors=5)\n",
    "scores = cross_val_score(knn, X_train, y_train, cv=5)\n",
    "knn.fit(X_train, y_train)\n",
    "print(\"Knn Train:\", knn.score(X_train, y_train))\n",
    "print(\"Knn CV score:\", cross_val_score(knn, X_train, y_train, cv=5).mean())\n",
    "print(\"Knn Test:\", knn.score(X_test, y_test))"
   ]
  },
  {
   "cell_type": "markdown",
   "metadata": {},
   "source": [
    "Decision Trees (DTs) are a non-parametric supervised learning method used for classification and regression. The goal is to create a model that predicts the value of a target variable by learning simple decision rules inferred from the data features. A tree can be seen as a piecewise constant approximation.\n",
    "Decision trees can be used for both classification and regression tasks. Decision trees handle both numerical and categorical data. Decision trees are non-linear models.\n",
    "The deeper the tree, the more complex the decision rules and the fitter the model."
   ]
  },
  {
   "cell_type": "code",
   "execution_count": 123,
   "metadata": {},
   "outputs": [
    {
     "name": "stdout",
     "output_type": "stream",
     "text": [
      "DTC Train: 0.5651877133105802\n",
      "DTC CV score: 0.5337883959044369\n",
      "DTC Test: 0.5803814713896458\n"
     ]
    }
   ],
   "source": [
    "DTC = DecisionTreeClassifier(max_depth=3)\n",
    "DTC.fit(X_train, y_train)\n",
    "#DTC.fit(X_train, y_train)\n",
    "# fitting the model . \n",
    "#Then, after it is trained, the model can be used to make predictions, usually with a .predict() method call.\n",
    "print(\"DTC Train:\", DTC.score(X_train, y_train))\n",
    "print(\"DTC CV score:\", cross_val_score(DTC, X_train, y_train, cv=5).mean())\n",
    "print(\"DTC Test:\", DTC.score(X_test, y_test))"
   ]
  },
  {
   "cell_type": "code",
   "execution_count": 124,
   "metadata": {},
   "outputs": [],
   "source": [
    "from sklearn.ensemble import RandomForestClassifier"
   ]
  },
  {
   "cell_type": "code",
   "execution_count": 125,
   "metadata": {},
   "outputs": [
    {
     "name": "stdout",
     "output_type": "stream",
     "text": [
      "RFC Train: 0.6750853242320819\n",
      "RFC CV score: 0.6470989761092151\n",
      "RFC Test: 0.7220708446866485\n"
     ]
    }
   ],
   "source": [
    "#Random Forest uses all of the predicting features&\n",
    "#of the default settings defined in the Scikit-learn Random Forest Classifier documentation. \n",
    "\n",
    "#N_estimators. n_estimators represents the number of trees in the forest.\n",
    "#Usually the higher the number of trees the better to learn the data.\n",
    "RFC = RandomForestClassifier(\n",
    "                           n_estimators=100,\n",
    "                           random_state=1)\n",
    "RFC.fit(X_train, y_train)\n",
    "\n",
    "print(\"RFC Train:\", RFC.score(X_train, y_train))\n",
    "print(\"RFC CV score:\", cross_val_score(RFC, X_train, y_train, cv=5).mean())\n",
    "print(\"RFC Test:\", RFC.score(X_test, y_test))"
   ]
  },
  {
   "cell_type": "code",
   "execution_count": 126,
   "metadata": {},
   "outputs": [
    {
     "name": "stdout",
     "output_type": "stream",
     "text": [
      "Fitting 5 folds for each of 9 candidates, totalling 45 fits\n"
     ]
    },
    {
     "data": {
      "text/plain": [
       "GridSearchCV(cv=5, estimator=RandomForestClassifier(random_state=1), n_jobs=2,\n",
       "             param_grid={'max_depth': [3, 5, 10],\n",
       "                         'min_samples_split': [2, 5, 10]},\n",
       "             return_train_score=True, verbose=1)"
      ]
     },
     "execution_count": 126,
     "metadata": {},
     "output_type": "execute_result"
    }
   ],
   "source": [
    "param_grid = {'max_depth': [3, 5, 10],\n",
    "             'min_samples_split': [2, 5, 10]}\n",
    "RFC_gridsearch = GridSearchCV(RFC,\n",
    "                              param_grid,\n",
    "                              n_jobs=2, \n",
    "                              cv=5, \n",
    "                              verbose=1, \n",
    "                              return_train_score=True)\n",
    "\n",
    "RFC_gridsearch.fit(X_train, y_train)"
   ]
  },
  {
   "cell_type": "code",
   "execution_count": 127,
   "metadata": {},
   "outputs": [
    {
     "data": {
      "text/plain": [
       "{'max_depth': [3, 5, 10], 'min_samples_split': [2, 5, 10]}"
      ]
     },
     "execution_count": 127,
     "metadata": {},
     "output_type": "execute_result"
    }
   ],
   "source": [
    "RFC_gridsearch.param_grid"
   ]
  },
  {
   "cell_type": "code",
   "execution_count": 128,
   "metadata": {},
   "outputs": [],
   "source": [
    "RFCBS=RFC_gridsearch.best_score_"
   ]
  },
  {
   "cell_type": "code",
   "execution_count": 129,
   "metadata": {},
   "outputs": [
    {
     "data": {
      "text/plain": [
       "RandomForestClassifier(max_depth=5, random_state=1)"
      ]
     },
     "execution_count": 129,
     "metadata": {},
     "output_type": "execute_result"
    }
   ],
   "source": [
    "RFCBE=RFC_gridsearch.best_estimator_\n",
    "RFCBE"
   ]
  },
  {
   "cell_type": "code",
   "execution_count": 130,
   "metadata": {},
   "outputs": [
    {
     "data": {
      "text/plain": [
       "{'mean_fit_time': array([0.13079214, 0.12490296, 0.11605406, 0.13069515, 0.12652273,\n",
       "        0.12422576, 0.14153523, 0.15134764, 0.14547644]),\n",
       " 'std_fit_time': array([0.0146887 , 0.0076396 , 0.00873273, 0.01301482, 0.01202605,\n",
       "        0.01174602, 0.00261027, 0.01456308, 0.00660355]),\n",
       " 'mean_score_time': array([0.00858302, 0.00873051, 0.0080853 , 0.00832567, 0.00834532,\n",
       "        0.00820832, 0.00851283, 0.00888243, 0.00926089]),\n",
       " 'std_score_time': array([0.00046027, 0.0005243 , 0.00024008, 0.00043315, 0.00022597,\n",
       "        0.00105343, 0.00011751, 0.00053581, 0.00076248]),\n",
       " 'param_max_depth': masked_array(data=[3, 3, 3, 5, 5, 5, 10, 10, 10],\n",
       "              mask=[False, False, False, False, False, False, False, False,\n",
       "                    False],\n",
       "        fill_value='?',\n",
       "             dtype=object),\n",
       " 'param_min_samples_split': masked_array(data=[2, 5, 10, 2, 5, 10, 2, 5, 10],\n",
       "              mask=[False, False, False, False, False, False, False, False,\n",
       "                    False],\n",
       "        fill_value='?',\n",
       "             dtype=object),\n",
       " 'params': [{'max_depth': 3, 'min_samples_split': 2},\n",
       "  {'max_depth': 3, 'min_samples_split': 5},\n",
       "  {'max_depth': 3, 'min_samples_split': 10},\n",
       "  {'max_depth': 5, 'min_samples_split': 2},\n",
       "  {'max_depth': 5, 'min_samples_split': 5},\n",
       "  {'max_depth': 5, 'min_samples_split': 10},\n",
       "  {'max_depth': 10, 'min_samples_split': 2},\n",
       "  {'max_depth': 10, 'min_samples_split': 5},\n",
       "  {'max_depth': 10, 'min_samples_split': 10}],\n",
       " 'split0_test_score': array([0.63822526, 0.63822526, 0.63822526, 0.63822526, 0.63822526,\n",
       "        0.63822526, 0.63822526, 0.63822526, 0.63822526]),\n",
       " 'split1_test_score': array([0.63822526, 0.63822526, 0.63822526, 0.63822526, 0.63822526,\n",
       "        0.63822526, 0.63822526, 0.63822526, 0.63822526]),\n",
       " 'split2_test_score': array([0.65870307, 0.65870307, 0.65870307, 0.68259386, 0.68259386,\n",
       "        0.68259386, 0.68259386, 0.68259386, 0.68259386]),\n",
       " 'split3_test_score': array([0.64846416, 0.64846416, 0.64846416, 0.64846416, 0.64846416,\n",
       "        0.64846416, 0.64846416, 0.64846416, 0.64846416]),\n",
       " 'split4_test_score': array([0.65870307, 0.65870307, 0.65870307, 0.64846416, 0.64846416,\n",
       "        0.64846416, 0.63481229, 0.63481229, 0.63481229]),\n",
       " 'mean_test_score': array([0.64846416, 0.64846416, 0.64846416, 0.65119454, 0.65119454,\n",
       "        0.65119454, 0.64846416, 0.64846416, 0.64846416]),\n",
       " 'std_test_score': array([0.00915796, 0.00915796, 0.00915796, 0.01635379, 0.01635379,\n",
       "        0.01635379, 0.0176685 , 0.0176685 , 0.0176685 ]),\n",
       " 'rank_test_score': array([4, 4, 4, 1, 1, 1, 4, 4, 4], dtype=int32),\n",
       " 'split0_train_score': array([0.66382253, 0.66382253, 0.66382253, 0.66382253, 0.66382253,\n",
       "        0.66382253, 0.66467577, 0.66467577, 0.66467577]),\n",
       " 'split1_train_score': array([0.67235495, 0.67235495, 0.67235495, 0.67064846, 0.67064846,\n",
       "        0.67064846, 0.66979522, 0.66979522, 0.66979522]),\n",
       " 'split2_train_score': array([0.66979522, 0.66979522, 0.66979522, 0.65443686, 0.65443686,\n",
       "        0.65443686, 0.65358362, 0.65358362, 0.65358362]),\n",
       " 'split3_train_score': array([0.66552901, 0.66552901, 0.66552901, 0.66382253, 0.66382253,\n",
       "        0.66382253, 0.66382253, 0.66382253, 0.66382253]),\n",
       " 'split4_train_score': array([0.67150171, 0.67150171, 0.67150171, 0.64761092, 0.64761092,\n",
       "        0.64761092, 0.64334471, 0.64334471, 0.64334471]),\n",
       " 'mean_train_score': array([0.66860068, 0.66860068, 0.66860068, 0.66006826, 0.66006826,\n",
       "        0.66006826, 0.65904437, 0.65904437, 0.65904437]),\n",
       " 'std_train_score': array([0.00335271, 0.00335271, 0.00335271, 0.00808737, 0.00808737,\n",
       "        0.00808737, 0.00944906, 0.00944906, 0.00944906])}"
      ]
     },
     "execution_count": 130,
     "metadata": {},
     "output_type": "execute_result"
    }
   ],
   "source": [
    "RFC_gridsearch.cv_results_"
   ]
  },
  {
   "cell_type": "code",
   "execution_count": 131,
   "metadata": {},
   "outputs": [
    {
     "data": {
      "text/html": [
       "<div>\n",
       "<style scoped>\n",
       "    .dataframe tbody tr th:only-of-type {\n",
       "        vertical-align: middle;\n",
       "    }\n",
       "\n",
       "    .dataframe tbody tr th {\n",
       "        vertical-align: top;\n",
       "    }\n",
       "\n",
       "    .dataframe thead th {\n",
       "        text-align: right;\n",
       "    }\n",
       "</style>\n",
       "<table border=\"1\" class=\"dataframe\">\n",
       "  <thead>\n",
       "    <tr style=\"text-align: right;\">\n",
       "      <th></th>\n",
       "      <th>mean_fit_time</th>\n",
       "      <th>std_fit_time</th>\n",
       "      <th>mean_score_time</th>\n",
       "      <th>std_score_time</th>\n",
       "      <th>param_max_depth</th>\n",
       "      <th>param_min_samples_split</th>\n",
       "      <th>params</th>\n",
       "      <th>split0_test_score</th>\n",
       "      <th>split1_test_score</th>\n",
       "      <th>split2_test_score</th>\n",
       "      <th>...</th>\n",
       "      <th>mean_test_score</th>\n",
       "      <th>std_test_score</th>\n",
       "      <th>rank_test_score</th>\n",
       "      <th>split0_train_score</th>\n",
       "      <th>split1_train_score</th>\n",
       "      <th>split2_train_score</th>\n",
       "      <th>split3_train_score</th>\n",
       "      <th>split4_train_score</th>\n",
       "      <th>mean_train_score</th>\n",
       "      <th>std_train_score</th>\n",
       "    </tr>\n",
       "  </thead>\n",
       "  <tbody>\n",
       "    <tr>\n",
       "      <th>3</th>\n",
       "      <td>0.130695</td>\n",
       "      <td>0.013015</td>\n",
       "      <td>0.008326</td>\n",
       "      <td>0.000433</td>\n",
       "      <td>5</td>\n",
       "      <td>2</td>\n",
       "      <td>{'max_depth': 5, 'min_samples_split': 2}</td>\n",
       "      <td>0.638225</td>\n",
       "      <td>0.638225</td>\n",
       "      <td>0.682594</td>\n",
       "      <td>...</td>\n",
       "      <td>0.651195</td>\n",
       "      <td>0.016354</td>\n",
       "      <td>1</td>\n",
       "      <td>0.663823</td>\n",
       "      <td>0.670648</td>\n",
       "      <td>0.654437</td>\n",
       "      <td>0.663823</td>\n",
       "      <td>0.647611</td>\n",
       "      <td>0.660068</td>\n",
       "      <td>0.008087</td>\n",
       "    </tr>\n",
       "    <tr>\n",
       "      <th>4</th>\n",
       "      <td>0.126523</td>\n",
       "      <td>0.012026</td>\n",
       "      <td>0.008345</td>\n",
       "      <td>0.000226</td>\n",
       "      <td>5</td>\n",
       "      <td>5</td>\n",
       "      <td>{'max_depth': 5, 'min_samples_split': 5}</td>\n",
       "      <td>0.638225</td>\n",
       "      <td>0.638225</td>\n",
       "      <td>0.682594</td>\n",
       "      <td>...</td>\n",
       "      <td>0.651195</td>\n",
       "      <td>0.016354</td>\n",
       "      <td>1</td>\n",
       "      <td>0.663823</td>\n",
       "      <td>0.670648</td>\n",
       "      <td>0.654437</td>\n",
       "      <td>0.663823</td>\n",
       "      <td>0.647611</td>\n",
       "      <td>0.660068</td>\n",
       "      <td>0.008087</td>\n",
       "    </tr>\n",
       "    <tr>\n",
       "      <th>5</th>\n",
       "      <td>0.124226</td>\n",
       "      <td>0.011746</td>\n",
       "      <td>0.008208</td>\n",
       "      <td>0.001053</td>\n",
       "      <td>5</td>\n",
       "      <td>10</td>\n",
       "      <td>{'max_depth': 5, 'min_samples_split': 10}</td>\n",
       "      <td>0.638225</td>\n",
       "      <td>0.638225</td>\n",
       "      <td>0.682594</td>\n",
       "      <td>...</td>\n",
       "      <td>0.651195</td>\n",
       "      <td>0.016354</td>\n",
       "      <td>1</td>\n",
       "      <td>0.663823</td>\n",
       "      <td>0.670648</td>\n",
       "      <td>0.654437</td>\n",
       "      <td>0.663823</td>\n",
       "      <td>0.647611</td>\n",
       "      <td>0.660068</td>\n",
       "      <td>0.008087</td>\n",
       "    </tr>\n",
       "    <tr>\n",
       "      <th>6</th>\n",
       "      <td>0.141535</td>\n",
       "      <td>0.002610</td>\n",
       "      <td>0.008513</td>\n",
       "      <td>0.000118</td>\n",
       "      <td>10</td>\n",
       "      <td>2</td>\n",
       "      <td>{'max_depth': 10, 'min_samples_split': 2}</td>\n",
       "      <td>0.638225</td>\n",
       "      <td>0.638225</td>\n",
       "      <td>0.682594</td>\n",
       "      <td>...</td>\n",
       "      <td>0.648464</td>\n",
       "      <td>0.017669</td>\n",
       "      <td>4</td>\n",
       "      <td>0.664676</td>\n",
       "      <td>0.669795</td>\n",
       "      <td>0.653584</td>\n",
       "      <td>0.663823</td>\n",
       "      <td>0.643345</td>\n",
       "      <td>0.659044</td>\n",
       "      <td>0.009449</td>\n",
       "    </tr>\n",
       "    <tr>\n",
       "      <th>7</th>\n",
       "      <td>0.151348</td>\n",
       "      <td>0.014563</td>\n",
       "      <td>0.008882</td>\n",
       "      <td>0.000536</td>\n",
       "      <td>10</td>\n",
       "      <td>5</td>\n",
       "      <td>{'max_depth': 10, 'min_samples_split': 5}</td>\n",
       "      <td>0.638225</td>\n",
       "      <td>0.638225</td>\n",
       "      <td>0.682594</td>\n",
       "      <td>...</td>\n",
       "      <td>0.648464</td>\n",
       "      <td>0.017669</td>\n",
       "      <td>4</td>\n",
       "      <td>0.664676</td>\n",
       "      <td>0.669795</td>\n",
       "      <td>0.653584</td>\n",
       "      <td>0.663823</td>\n",
       "      <td>0.643345</td>\n",
       "      <td>0.659044</td>\n",
       "      <td>0.009449</td>\n",
       "    </tr>\n",
       "    <tr>\n",
       "      <th>8</th>\n",
       "      <td>0.145476</td>\n",
       "      <td>0.006604</td>\n",
       "      <td>0.009261</td>\n",
       "      <td>0.000762</td>\n",
       "      <td>10</td>\n",
       "      <td>10</td>\n",
       "      <td>{'max_depth': 10, 'min_samples_split': 10}</td>\n",
       "      <td>0.638225</td>\n",
       "      <td>0.638225</td>\n",
       "      <td>0.682594</td>\n",
       "      <td>...</td>\n",
       "      <td>0.648464</td>\n",
       "      <td>0.017669</td>\n",
       "      <td>4</td>\n",
       "      <td>0.664676</td>\n",
       "      <td>0.669795</td>\n",
       "      <td>0.653584</td>\n",
       "      <td>0.663823</td>\n",
       "      <td>0.643345</td>\n",
       "      <td>0.659044</td>\n",
       "      <td>0.009449</td>\n",
       "    </tr>\n",
       "    <tr>\n",
       "      <th>0</th>\n",
       "      <td>0.130792</td>\n",
       "      <td>0.014689</td>\n",
       "      <td>0.008583</td>\n",
       "      <td>0.000460</td>\n",
       "      <td>3</td>\n",
       "      <td>2</td>\n",
       "      <td>{'max_depth': 3, 'min_samples_split': 2}</td>\n",
       "      <td>0.638225</td>\n",
       "      <td>0.638225</td>\n",
       "      <td>0.658703</td>\n",
       "      <td>...</td>\n",
       "      <td>0.648464</td>\n",
       "      <td>0.009158</td>\n",
       "      <td>4</td>\n",
       "      <td>0.663823</td>\n",
       "      <td>0.672355</td>\n",
       "      <td>0.669795</td>\n",
       "      <td>0.665529</td>\n",
       "      <td>0.671502</td>\n",
       "      <td>0.668601</td>\n",
       "      <td>0.003353</td>\n",
       "    </tr>\n",
       "    <tr>\n",
       "      <th>1</th>\n",
       "      <td>0.124903</td>\n",
       "      <td>0.007640</td>\n",
       "      <td>0.008731</td>\n",
       "      <td>0.000524</td>\n",
       "      <td>3</td>\n",
       "      <td>5</td>\n",
       "      <td>{'max_depth': 3, 'min_samples_split': 5}</td>\n",
       "      <td>0.638225</td>\n",
       "      <td>0.638225</td>\n",
       "      <td>0.658703</td>\n",
       "      <td>...</td>\n",
       "      <td>0.648464</td>\n",
       "      <td>0.009158</td>\n",
       "      <td>4</td>\n",
       "      <td>0.663823</td>\n",
       "      <td>0.672355</td>\n",
       "      <td>0.669795</td>\n",
       "      <td>0.665529</td>\n",
       "      <td>0.671502</td>\n",
       "      <td>0.668601</td>\n",
       "      <td>0.003353</td>\n",
       "    </tr>\n",
       "    <tr>\n",
       "      <th>2</th>\n",
       "      <td>0.116054</td>\n",
       "      <td>0.008733</td>\n",
       "      <td>0.008085</td>\n",
       "      <td>0.000240</td>\n",
       "      <td>3</td>\n",
       "      <td>10</td>\n",
       "      <td>{'max_depth': 3, 'min_samples_split': 10}</td>\n",
       "      <td>0.638225</td>\n",
       "      <td>0.638225</td>\n",
       "      <td>0.658703</td>\n",
       "      <td>...</td>\n",
       "      <td>0.648464</td>\n",
       "      <td>0.009158</td>\n",
       "      <td>4</td>\n",
       "      <td>0.663823</td>\n",
       "      <td>0.672355</td>\n",
       "      <td>0.669795</td>\n",
       "      <td>0.665529</td>\n",
       "      <td>0.671502</td>\n",
       "      <td>0.668601</td>\n",
       "      <td>0.003353</td>\n",
       "    </tr>\n",
       "  </tbody>\n",
       "</table>\n",
       "<p>9 rows × 22 columns</p>\n",
       "</div>"
      ],
      "text/plain": [
       "   mean_fit_time  std_fit_time  mean_score_time  std_score_time  \\\n",
       "3       0.130695      0.013015         0.008326        0.000433   \n",
       "4       0.126523      0.012026         0.008345        0.000226   \n",
       "5       0.124226      0.011746         0.008208        0.001053   \n",
       "6       0.141535      0.002610         0.008513        0.000118   \n",
       "7       0.151348      0.014563         0.008882        0.000536   \n",
       "8       0.145476      0.006604         0.009261        0.000762   \n",
       "0       0.130792      0.014689         0.008583        0.000460   \n",
       "1       0.124903      0.007640         0.008731        0.000524   \n",
       "2       0.116054      0.008733         0.008085        0.000240   \n",
       "\n",
       "  param_max_depth param_min_samples_split  \\\n",
       "3               5                       2   \n",
       "4               5                       5   \n",
       "5               5                      10   \n",
       "6              10                       2   \n",
       "7              10                       5   \n",
       "8              10                      10   \n",
       "0               3                       2   \n",
       "1               3                       5   \n",
       "2               3                      10   \n",
       "\n",
       "                                       params  split0_test_score  \\\n",
       "3    {'max_depth': 5, 'min_samples_split': 2}           0.638225   \n",
       "4    {'max_depth': 5, 'min_samples_split': 5}           0.638225   \n",
       "5   {'max_depth': 5, 'min_samples_split': 10}           0.638225   \n",
       "6   {'max_depth': 10, 'min_samples_split': 2}           0.638225   \n",
       "7   {'max_depth': 10, 'min_samples_split': 5}           0.638225   \n",
       "8  {'max_depth': 10, 'min_samples_split': 10}           0.638225   \n",
       "0    {'max_depth': 3, 'min_samples_split': 2}           0.638225   \n",
       "1    {'max_depth': 3, 'min_samples_split': 5}           0.638225   \n",
       "2   {'max_depth': 3, 'min_samples_split': 10}           0.638225   \n",
       "\n",
       "   split1_test_score  split2_test_score  ...  mean_test_score  std_test_score  \\\n",
       "3           0.638225           0.682594  ...         0.651195        0.016354   \n",
       "4           0.638225           0.682594  ...         0.651195        0.016354   \n",
       "5           0.638225           0.682594  ...         0.651195        0.016354   \n",
       "6           0.638225           0.682594  ...         0.648464        0.017669   \n",
       "7           0.638225           0.682594  ...         0.648464        0.017669   \n",
       "8           0.638225           0.682594  ...         0.648464        0.017669   \n",
       "0           0.638225           0.658703  ...         0.648464        0.009158   \n",
       "1           0.638225           0.658703  ...         0.648464        0.009158   \n",
       "2           0.638225           0.658703  ...         0.648464        0.009158   \n",
       "\n",
       "   rank_test_score  split0_train_score  split1_train_score  \\\n",
       "3                1            0.663823            0.670648   \n",
       "4                1            0.663823            0.670648   \n",
       "5                1            0.663823            0.670648   \n",
       "6                4            0.664676            0.669795   \n",
       "7                4            0.664676            0.669795   \n",
       "8                4            0.664676            0.669795   \n",
       "0                4            0.663823            0.672355   \n",
       "1                4            0.663823            0.672355   \n",
       "2                4            0.663823            0.672355   \n",
       "\n",
       "   split2_train_score  split3_train_score  split4_train_score  \\\n",
       "3            0.654437            0.663823            0.647611   \n",
       "4            0.654437            0.663823            0.647611   \n",
       "5            0.654437            0.663823            0.647611   \n",
       "6            0.653584            0.663823            0.643345   \n",
       "7            0.653584            0.663823            0.643345   \n",
       "8            0.653584            0.663823            0.643345   \n",
       "0            0.669795            0.665529            0.671502   \n",
       "1            0.669795            0.665529            0.671502   \n",
       "2            0.669795            0.665529            0.671502   \n",
       "\n",
       "   mean_train_score  std_train_score  \n",
       "3          0.660068         0.008087  \n",
       "4          0.660068         0.008087  \n",
       "5          0.660068         0.008087  \n",
       "6          0.659044         0.009449  \n",
       "7          0.659044         0.009449  \n",
       "8          0.659044         0.009449  \n",
       "0          0.668601         0.003353  \n",
       "1          0.668601         0.003353  \n",
       "2          0.668601         0.003353  \n",
       "\n",
       "[9 rows x 22 columns]"
      ]
     },
     "execution_count": 131,
     "metadata": {},
     "output_type": "execute_result"
    }
   ],
   "source": [
    "pd.DataFrame(RFC_gridsearch.cv_results_).sort_values(by=['mean_test_score', 'std_test_score'], ascending=False)"
   ]
  },
  {
   "cell_type": "code",
   "execution_count": 132,
   "metadata": {},
   "outputs": [
    {
     "data": {
      "text/plain": [
       "RandomForestClassifier(max_depth=5, random_state=1)"
      ]
     },
     "execution_count": 132,
     "metadata": {},
     "output_type": "execute_result"
    }
   ],
   "source": [
    "RFCBE"
   ]
  },
  {
   "cell_type": "code",
   "execution_count": 133,
   "metadata": {},
   "outputs": [
    {
     "name": "stdout",
     "output_type": "stream",
     "text": [
      "0.6600682593856655\n",
      "0.6784741144414169\n"
     ]
    }
   ],
   "source": [
    "# assign best_estimator_ to the variable, then use .score( ) on testing data\n",
    "print(RFCBE.score(X_train, y_train))\n",
    "print(RFCBE.score(X_test, y_test))"
   ]
  },
  {
   "cell_type": "code",
   "execution_count": 134,
   "metadata": {},
   "outputs": [
    {
     "data": {
      "text/html": [
       "<div>\n",
       "<style scoped>\n",
       "    .dataframe tbody tr th:only-of-type {\n",
       "        vertical-align: middle;\n",
       "    }\n",
       "\n",
       "    .dataframe tbody tr th {\n",
       "        vertical-align: top;\n",
       "    }\n",
       "\n",
       "    .dataframe thead th {\n",
       "        text-align: right;\n",
       "    }\n",
       "</style>\n",
       "<table border=\"1\" class=\"dataframe\">\n",
       "  <thead>\n",
       "    <tr style=\"text-align: right;\">\n",
       "      <th></th>\n",
       "      <th>Predicted High</th>\n",
       "      <th>Predicted Low</th>\n",
       "    </tr>\n",
       "  </thead>\n",
       "  <tbody>\n",
       "    <tr>\n",
       "      <th>High</th>\n",
       "      <td>123</td>\n",
       "      <td>58</td>\n",
       "    </tr>\n",
       "    <tr>\n",
       "      <th>Low</th>\n",
       "      <td>60</td>\n",
       "      <td>126</td>\n",
       "    </tr>\n",
       "  </tbody>\n",
       "</table>\n",
       "</div>"
      ],
      "text/plain": [
       "      Predicted High  Predicted Low\n",
       "High             123             58\n",
       "Low               60            126"
      ]
     },
     "execution_count": 134,
     "metadata": {},
     "output_type": "execute_result"
    }
   ],
   "source": [
    "from sklearn.metrics import confusion_matrix, classification_report\n",
    "\n",
    "predictions = RFCBE.predict(X_test)\n",
    "confusion = confusion_matrix(y_test, predictions, labels=[1, 0])\n",
    "pd.DataFrame(confusion,\n",
    "             columns=['Predicted High', 'Predicted Low'],\n",
    "             index=['High', 'Low'])"
   ]
  },
  {
   "cell_type": "markdown",
   "metadata": {},
   "source": [
    "Predicted High TP is showing 123, the Predicted Low TN 126"
   ]
  },
  {
   "cell_type": "code",
   "execution_count": 135,
   "metadata": {},
   "outputs": [
    {
     "name": "stdout",
     "output_type": "stream",
     "text": [
      "              precision    recall  f1-score   support\n",
      "\n",
      "           0       0.68      0.68      0.68       186\n",
      "           1       0.67      0.68      0.68       181\n",
      "\n",
      "    accuracy                           0.68       367\n",
      "   macro avg       0.68      0.68      0.68       367\n",
      "weighted avg       0.68      0.68      0.68       367\n",
      "\n"
     ]
    }
   ],
   "source": [
    "print(classification_report(y_test, predictions))"
   ]
  },
  {
   "cell_type": "code",
   "execution_count": 137,
   "metadata": {},
   "outputs": [],
   "source": [
    "#importing cvec\n",
    "from sklearn.feature_extraction.text import CountVectorizer"
   ]
  },
  {
   "cell_type": "code",
   "execution_count": 157,
   "metadata": {},
   "outputs": [],
   "source": [
    "cvec = CountVectorizer(stop_words='english')\n",
    "cvec.fit(dfc['Job Title'])\n",
    "\n",
    "cvec_mat = cvec.transform(dfc['Job Title'])\n",
    "\n",
    "#Words present\n",
    "words = cvec.get_feature_names()"
   ]
  },
  {
   "cell_type": "code",
   "execution_count": 158,
   "metadata": {},
   "outputs": [
    {
     "name": "stdout",
     "output_type": "stream",
     "text": [
      "1016\n"
     ]
    }
   ],
   "source": [
    "#have 251 word\n",
    "print(len(words))"
   ]
  },
  {
   "cell_type": "code",
   "execution_count": 159,
   "metadata": {},
   "outputs": [],
   "source": [
    "a = cvec_mat.sum(axis=0)\n",
    "dfc_Title = pd.DataFrame(a,columns=words).transpose().sort_values(by=0,ascending=False)[:20]"
   ]
  },
  {
   "cell_type": "code",
   "execution_count": 160,
   "metadata": {},
   "outputs": [
    {
     "data": {
      "text/html": [
       "<div>\n",
       "<style scoped>\n",
       "    .dataframe tbody tr th:only-of-type {\n",
       "        vertical-align: middle;\n",
       "    }\n",
       "\n",
       "    .dataframe tbody tr th {\n",
       "        vertical-align: top;\n",
       "    }\n",
       "\n",
       "    .dataframe thead th {\n",
       "        text-align: right;\n",
       "    }\n",
       "</style>\n",
       "<table border=\"1\" class=\"dataframe\">\n",
       "  <thead>\n",
       "    <tr style=\"text-align: right;\">\n",
       "      <th></th>\n",
       "      <th>0</th>\n",
       "    </tr>\n",
       "  </thead>\n",
       "  <tbody>\n",
       "    <tr>\n",
       "      <th>data</th>\n",
       "      <td>1107</td>\n",
       "    </tr>\n",
       "    <tr>\n",
       "      <th>analyst</th>\n",
       "      <td>576</td>\n",
       "    </tr>\n",
       "    <tr>\n",
       "      <th>scientist</th>\n",
       "      <td>319</td>\n",
       "    </tr>\n",
       "    <tr>\n",
       "      <th>senior</th>\n",
       "      <td>221</td>\n",
       "    </tr>\n",
       "    <tr>\n",
       "      <th>business</th>\n",
       "      <td>208</td>\n",
       "    </tr>\n",
       "    <tr>\n",
       "      <th>administrator</th>\n",
       "      <td>173</td>\n",
       "    </tr>\n",
       "    <tr>\n",
       "      <th>engineer</th>\n",
       "      <td>170</td>\n",
       "    </tr>\n",
       "    <tr>\n",
       "      <th>manager</th>\n",
       "      <td>101</td>\n",
       "    </tr>\n",
       "    <tr>\n",
       "      <th>developer</th>\n",
       "      <td>93</td>\n",
       "    </tr>\n",
       "    <tr>\n",
       "      <th>learning</th>\n",
       "      <td>77</td>\n",
       "    </tr>\n",
       "    <tr>\n",
       "      <th>analytics</th>\n",
       "      <td>71</td>\n",
       "    </tr>\n",
       "    <tr>\n",
       "      <th>sql</th>\n",
       "      <td>67</td>\n",
       "    </tr>\n",
       "    <tr>\n",
       "      <th>machine</th>\n",
       "      <td>66</td>\n",
       "    </tr>\n",
       "    <tr>\n",
       "      <th>remote</th>\n",
       "      <td>62</td>\n",
       "    </tr>\n",
       "    <tr>\n",
       "      <th>research</th>\n",
       "      <td>61</td>\n",
       "    </tr>\n",
       "    <tr>\n",
       "      <th>bi</th>\n",
       "      <td>59</td>\n",
       "    </tr>\n",
       "    <tr>\n",
       "      <th>lead</th>\n",
       "      <td>59</td>\n",
       "    </tr>\n",
       "    <tr>\n",
       "      <th>science</th>\n",
       "      <td>54</td>\n",
       "    </tr>\n",
       "    <tr>\n",
       "      <th>intelligence</th>\n",
       "      <td>38</td>\n",
       "    </tr>\n",
       "    <tr>\n",
       "      <th>architect</th>\n",
       "      <td>38</td>\n",
       "    </tr>\n",
       "  </tbody>\n",
       "</table>\n",
       "</div>"
      ],
      "text/plain": [
       "                  0\n",
       "data           1107\n",
       "analyst         576\n",
       "scientist       319\n",
       "senior          221\n",
       "business        208\n",
       "administrator   173\n",
       "engineer        170\n",
       "manager         101\n",
       "developer        93\n",
       "learning         77\n",
       "analytics        71\n",
       "sql              67\n",
       "machine          66\n",
       "remote           62\n",
       "research         61\n",
       "bi               59\n",
       "lead             59\n",
       "science          54\n",
       "intelligence     38\n",
       "architect        38"
      ]
     },
     "execution_count": 160,
     "metadata": {},
     "output_type": "execute_result"
    }
   ],
   "source": [
    "dfc_Title.head(30)"
   ]
  },
  {
   "cell_type": "code",
   "execution_count": 161,
   "metadata": {},
   "outputs": [
    {
     "data": {
      "text/plain": [
       "(20, 1)"
      ]
     },
     "execution_count": 161,
     "metadata": {},
     "output_type": "execute_result"
    }
   ],
   "source": [
    "dfc_Title.shape"
   ]
  },
  {
   "cell_type": "code",
   "execution_count": 162,
   "metadata": {},
   "outputs": [],
   "source": [
    "cvecS = CountVectorizer(stop_words='english')\n",
    "cvecS.fit(dfc.Summary)\n",
    "\n",
    "cvec_matS = cvecS.transform(dfc.Summary)\n",
    "\n",
    "#Words present\n",
    "SummaryW = cvecS.get_feature_names()"
   ]
  },
  {
   "cell_type": "code",
   "execution_count": 163,
   "metadata": {},
   "outputs": [
    {
     "name": "stdout",
     "output_type": "stream",
     "text": [
      "3686\n"
     ]
    }
   ],
   "source": [
    "print(len(SummaryW))"
   ]
  },
  {
   "cell_type": "code",
   "execution_count": 164,
   "metadata": {},
   "outputs": [],
   "source": [
    "ad = cvec_matS.sum(axis=0)\n",
    "dfc_Summary = pd.DataFrame(ad,columns=SummaryW).transpose().sort_values(by=0,ascending=False)[:20]"
   ]
  },
  {
   "cell_type": "code",
   "execution_count": 165,
   "metadata": {},
   "outputs": [
    {
     "data": {
      "text/html": [
       "<div>\n",
       "<style scoped>\n",
       "    .dataframe tbody tr th:only-of-type {\n",
       "        vertical-align: middle;\n",
       "    }\n",
       "\n",
       "    .dataframe tbody tr th {\n",
       "        vertical-align: top;\n",
       "    }\n",
       "\n",
       "    .dataframe thead th {\n",
       "        text-align: right;\n",
       "    }\n",
       "</style>\n",
       "<table border=\"1\" class=\"dataframe\">\n",
       "  <thead>\n",
       "    <tr style=\"text-align: right;\">\n",
       "      <th></th>\n",
       "      <th>0</th>\n",
       "    </tr>\n",
       "  </thead>\n",
       "  <tbody>\n",
       "    <tr>\n",
       "      <th>data</th>\n",
       "      <td>2836</td>\n",
       "    </tr>\n",
       "    <tr>\n",
       "      <th>experience</th>\n",
       "      <td>556</td>\n",
       "    </tr>\n",
       "    <tr>\n",
       "      <th>business</th>\n",
       "      <td>257</td>\n",
       "    </tr>\n",
       "    <tr>\n",
       "      <th>analysis</th>\n",
       "      <td>255</td>\n",
       "    </tr>\n",
       "    <tr>\n",
       "      <th>working</th>\n",
       "      <td>247</td>\n",
       "    </tr>\n",
       "    <tr>\n",
       "      <th>role</th>\n",
       "      <td>216</td>\n",
       "    </tr>\n",
       "    <tr>\n",
       "      <th>team</th>\n",
       "      <td>177</td>\n",
       "    </tr>\n",
       "    <tr>\n",
       "      <th>work</th>\n",
       "      <td>167</td>\n",
       "    </tr>\n",
       "    <tr>\n",
       "      <th>management</th>\n",
       "      <td>144</td>\n",
       "    </tr>\n",
       "    <tr>\n",
       "      <th>using</th>\n",
       "      <td>142</td>\n",
       "    </tr>\n",
       "    <tr>\n",
       "      <th>science</th>\n",
       "      <td>131</td>\n",
       "    </tr>\n",
       "    <tr>\n",
       "      <th>support</th>\n",
       "      <td>123</td>\n",
       "    </tr>\n",
       "    <tr>\n",
       "      <th>systems</th>\n",
       "      <td>120</td>\n",
       "    </tr>\n",
       "    <tr>\n",
       "      <th>knowledge</th>\n",
       "      <td>119</td>\n",
       "    </tr>\n",
       "    <tr>\n",
       "      <th>learning</th>\n",
       "      <td>115</td>\n",
       "    </tr>\n",
       "    <tr>\n",
       "      <th>entry</th>\n",
       "      <td>111</td>\n",
       "    </tr>\n",
       "    <tr>\n",
       "      <th>models</th>\n",
       "      <td>110</td>\n",
       "    </tr>\n",
       "    <tr>\n",
       "      <th>skills</th>\n",
       "      <td>110</td>\n",
       "    </tr>\n",
       "    <tr>\n",
       "      <th>large</th>\n",
       "      <td>107</td>\n",
       "    </tr>\n",
       "    <tr>\n",
       "      <th>new</th>\n",
       "      <td>106</td>\n",
       "    </tr>\n",
       "  </tbody>\n",
       "</table>\n",
       "</div>"
      ],
      "text/plain": [
       "               0\n",
       "data        2836\n",
       "experience   556\n",
       "business     257\n",
       "analysis     255\n",
       "working      247\n",
       "role         216\n",
       "team         177\n",
       "work         167\n",
       "management   144\n",
       "using        142\n",
       "science      131\n",
       "support      123\n",
       "systems      120\n",
       "knowledge    119\n",
       "learning     115\n",
       "entry        111\n",
       "models       110\n",
       "skills       110\n",
       "large        107\n",
       "new          106"
      ]
     },
     "execution_count": 165,
     "metadata": {},
     "output_type": "execute_result"
    }
   ],
   "source": [
    "dfc_Summary.head(20)"
   ]
  },
  {
   "cell_type": "code",
   "execution_count": 167,
   "metadata": {},
   "outputs": [],
   "source": [
    "Vect=pd.DataFrame(cvec.transform(dfc['Job Title']).toarray(), index = dfc['Job Title'].index, columns = words)#cvec.get_features_name())\n",
    "#vectorizing (transforming,creating df)column Job Title"
   ]
  },
  {
   "cell_type": "code",
   "execution_count": 168,
   "metadata": {},
   "outputs": [],
   "source": [
    "Vect2=pd.DataFrame(cvecS.transform(dfc.Summary).toarray(), index = dfc['Summary'].index, columns = SummaryW)#cvec.get_features_name())\n",
    "#vec2 df column Summary\n"
   ]
  },
  {
   "cell_type": "code",
   "execution_count": 171,
   "metadata": {},
   "outputs": [],
   "source": [
    "DF = pd.concat([dfc[['Location']],Vect, Vect2], axis=1)\n",
    "#creating new df concatinating vec&vec2 , Location to predict salary HILO"
   ]
  },
  {
   "cell_type": "code",
   "execution_count": 172,
   "metadata": {},
   "outputs": [
    {
     "data": {
      "text/html": [
       "<div>\n",
       "<style scoped>\n",
       "    .dataframe tbody tr th:only-of-type {\n",
       "        vertical-align: middle;\n",
       "    }\n",
       "\n",
       "    .dataframe tbody tr th {\n",
       "        vertical-align: top;\n",
       "    }\n",
       "\n",
       "    .dataframe thead th {\n",
       "        text-align: right;\n",
       "    }\n",
       "</style>\n",
       "<table border=\"1\" class=\"dataframe\">\n",
       "  <thead>\n",
       "    <tr style=\"text-align: right;\">\n",
       "      <th></th>\n",
       "      <th>Location</th>\n",
       "      <th>000</th>\n",
       "      <th>02602</th>\n",
       "      <th>07830</th>\n",
       "      <th>07877</th>\n",
       "      <th>08025</th>\n",
       "      <th>08143</th>\n",
       "      <th>10</th>\n",
       "      <th>100</th>\n",
       "      <th>100k</th>\n",
       "      <th>...</th>\n",
       "      <th>www</th>\n",
       "      <th>xgboost</th>\n",
       "      <th>year</th>\n",
       "      <th>years</th>\n",
       "      <th>yields</th>\n",
       "      <th>york</th>\n",
       "      <th>yorkshire</th>\n",
       "      <th>yougov</th>\n",
       "      <th>young</th>\n",
       "      <th>youâ</th>\n",
       "    </tr>\n",
       "  </thead>\n",
       "  <tbody>\n",
       "    <tr>\n",
       "      <th>1</th>\n",
       "      <td>Austin, TX</td>\n",
       "      <td>0</td>\n",
       "      <td>0</td>\n",
       "      <td>0</td>\n",
       "      <td>0</td>\n",
       "      <td>0</td>\n",
       "      <td>0</td>\n",
       "      <td>0</td>\n",
       "      <td>0</td>\n",
       "      <td>0</td>\n",
       "      <td>...</td>\n",
       "      <td>0</td>\n",
       "      <td>0</td>\n",
       "      <td>0</td>\n",
       "      <td>0</td>\n",
       "      <td>0</td>\n",
       "      <td>0</td>\n",
       "      <td>0</td>\n",
       "      <td>0</td>\n",
       "      <td>0</td>\n",
       "      <td>0</td>\n",
       "    </tr>\n",
       "    <tr>\n",
       "      <th>2</th>\n",
       "      <td>Austin, TX•Remote work available</td>\n",
       "      <td>0</td>\n",
       "      <td>0</td>\n",
       "      <td>0</td>\n",
       "      <td>0</td>\n",
       "      <td>0</td>\n",
       "      <td>0</td>\n",
       "      <td>0</td>\n",
       "      <td>0</td>\n",
       "      <td>0</td>\n",
       "      <td>...</td>\n",
       "      <td>0</td>\n",
       "      <td>0</td>\n",
       "      <td>0</td>\n",
       "      <td>0</td>\n",
       "      <td>0</td>\n",
       "      <td>0</td>\n",
       "      <td>0</td>\n",
       "      <td>0</td>\n",
       "      <td>0</td>\n",
       "      <td>0</td>\n",
       "    </tr>\n",
       "    <tr>\n",
       "      <th>3</th>\n",
       "      <td>Austin, TX 78735 (East Oak Hill area)</td>\n",
       "      <td>0</td>\n",
       "      <td>0</td>\n",
       "      <td>0</td>\n",
       "      <td>0</td>\n",
       "      <td>0</td>\n",
       "      <td>0</td>\n",
       "      <td>0</td>\n",
       "      <td>0</td>\n",
       "      <td>0</td>\n",
       "      <td>...</td>\n",
       "      <td>0</td>\n",
       "      <td>0</td>\n",
       "      <td>0</td>\n",
       "      <td>0</td>\n",
       "      <td>0</td>\n",
       "      <td>0</td>\n",
       "      <td>0</td>\n",
       "      <td>0</td>\n",
       "      <td>0</td>\n",
       "      <td>0</td>\n",
       "    </tr>\n",
       "    <tr>\n",
       "      <th>4</th>\n",
       "      <td>Austin, TX•Remote work available</td>\n",
       "      <td>0</td>\n",
       "      <td>0</td>\n",
       "      <td>0</td>\n",
       "      <td>0</td>\n",
       "      <td>0</td>\n",
       "      <td>0</td>\n",
       "      <td>0</td>\n",
       "      <td>0</td>\n",
       "      <td>0</td>\n",
       "      <td>...</td>\n",
       "      <td>0</td>\n",
       "      <td>0</td>\n",
       "      <td>0</td>\n",
       "      <td>0</td>\n",
       "      <td>0</td>\n",
       "      <td>0</td>\n",
       "      <td>0</td>\n",
       "      <td>0</td>\n",
       "      <td>0</td>\n",
       "      <td>0</td>\n",
       "    </tr>\n",
       "    <tr>\n",
       "      <th>5</th>\n",
       "      <td>Austin, TX 73301 (St Edwards area)</td>\n",
       "      <td>0</td>\n",
       "      <td>0</td>\n",
       "      <td>0</td>\n",
       "      <td>0</td>\n",
       "      <td>0</td>\n",
       "      <td>0</td>\n",
       "      <td>0</td>\n",
       "      <td>0</td>\n",
       "      <td>0</td>\n",
       "      <td>...</td>\n",
       "      <td>0</td>\n",
       "      <td>0</td>\n",
       "      <td>0</td>\n",
       "      <td>0</td>\n",
       "      <td>0</td>\n",
       "      <td>0</td>\n",
       "      <td>0</td>\n",
       "      <td>0</td>\n",
       "      <td>0</td>\n",
       "      <td>0</td>\n",
       "    </tr>\n",
       "    <tr>\n",
       "      <th>...</th>\n",
       "      <td>...</td>\n",
       "      <td>...</td>\n",
       "      <td>...</td>\n",
       "      <td>...</td>\n",
       "      <td>...</td>\n",
       "      <td>...</td>\n",
       "      <td>...</td>\n",
       "      <td>...</td>\n",
       "      <td>...</td>\n",
       "      <td>...</td>\n",
       "      <td>...</td>\n",
       "      <td>...</td>\n",
       "      <td>...</td>\n",
       "      <td>...</td>\n",
       "      <td>...</td>\n",
       "      <td>...</td>\n",
       "      <td>...</td>\n",
       "      <td>...</td>\n",
       "      <td>...</td>\n",
       "      <td>...</td>\n",
       "      <td>...</td>\n",
       "    </tr>\n",
       "    <tr>\n",
       "      <th>1495</th>\n",
       "      <td>Belfast</td>\n",
       "      <td>0</td>\n",
       "      <td>0</td>\n",
       "      <td>0</td>\n",
       "      <td>0</td>\n",
       "      <td>0</td>\n",
       "      <td>0</td>\n",
       "      <td>0</td>\n",
       "      <td>0</td>\n",
       "      <td>0</td>\n",
       "      <td>...</td>\n",
       "      <td>0</td>\n",
       "      <td>0</td>\n",
       "      <td>0</td>\n",
       "      <td>0</td>\n",
       "      <td>0</td>\n",
       "      <td>0</td>\n",
       "      <td>0</td>\n",
       "      <td>0</td>\n",
       "      <td>0</td>\n",
       "      <td>0</td>\n",
       "    </tr>\n",
       "    <tr>\n",
       "      <th>1496</th>\n",
       "      <td>Belfast</td>\n",
       "      <td>0</td>\n",
       "      <td>0</td>\n",
       "      <td>0</td>\n",
       "      <td>0</td>\n",
       "      <td>0</td>\n",
       "      <td>0</td>\n",
       "      <td>0</td>\n",
       "      <td>0</td>\n",
       "      <td>0</td>\n",
       "      <td>...</td>\n",
       "      <td>0</td>\n",
       "      <td>0</td>\n",
       "      <td>0</td>\n",
       "      <td>0</td>\n",
       "      <td>0</td>\n",
       "      <td>0</td>\n",
       "      <td>0</td>\n",
       "      <td>0</td>\n",
       "      <td>0</td>\n",
       "      <td>0</td>\n",
       "    </tr>\n",
       "    <tr>\n",
       "      <th>1497</th>\n",
       "      <td>Belfast</td>\n",
       "      <td>0</td>\n",
       "      <td>0</td>\n",
       "      <td>0</td>\n",
       "      <td>0</td>\n",
       "      <td>0</td>\n",
       "      <td>0</td>\n",
       "      <td>0</td>\n",
       "      <td>0</td>\n",
       "      <td>0</td>\n",
       "      <td>...</td>\n",
       "      <td>0</td>\n",
       "      <td>0</td>\n",
       "      <td>0</td>\n",
       "      <td>0</td>\n",
       "      <td>0</td>\n",
       "      <td>0</td>\n",
       "      <td>0</td>\n",
       "      <td>0</td>\n",
       "      <td>0</td>\n",
       "      <td>0</td>\n",
       "    </tr>\n",
       "    <tr>\n",
       "      <th>1498</th>\n",
       "      <td>Belfast</td>\n",
       "      <td>0</td>\n",
       "      <td>0</td>\n",
       "      <td>0</td>\n",
       "      <td>0</td>\n",
       "      <td>0</td>\n",
       "      <td>0</td>\n",
       "      <td>0</td>\n",
       "      <td>0</td>\n",
       "      <td>0</td>\n",
       "      <td>...</td>\n",
       "      <td>0</td>\n",
       "      <td>0</td>\n",
       "      <td>0</td>\n",
       "      <td>0</td>\n",
       "      <td>0</td>\n",
       "      <td>0</td>\n",
       "      <td>0</td>\n",
       "      <td>0</td>\n",
       "      <td>0</td>\n",
       "      <td>0</td>\n",
       "    </tr>\n",
       "    <tr>\n",
       "      <th>1499</th>\n",
       "      <td>Belfast</td>\n",
       "      <td>0</td>\n",
       "      <td>0</td>\n",
       "      <td>0</td>\n",
       "      <td>0</td>\n",
       "      <td>0</td>\n",
       "      <td>0</td>\n",
       "      <td>0</td>\n",
       "      <td>0</td>\n",
       "      <td>0</td>\n",
       "      <td>...</td>\n",
       "      <td>0</td>\n",
       "      <td>0</td>\n",
       "      <td>0</td>\n",
       "      <td>0</td>\n",
       "      <td>0</td>\n",
       "      <td>0</td>\n",
       "      <td>0</td>\n",
       "      <td>0</td>\n",
       "      <td>0</td>\n",
       "      <td>0</td>\n",
       "    </tr>\n",
       "  </tbody>\n",
       "</table>\n",
       "<p>1832 rows × 4703 columns</p>\n",
       "</div>"
      ],
      "text/plain": [
       "                                   Location  000  02602  07830  07877  08025  \\\n",
       "1                                Austin, TX    0      0      0      0      0   \n",
       "2          Austin, TX•Remote work available    0      0      0      0      0   \n",
       "3     Austin, TX 78735 (East Oak Hill area)    0      0      0      0      0   \n",
       "4          Austin, TX•Remote work available    0      0      0      0      0   \n",
       "5        Austin, TX 73301 (St Edwards area)    0      0      0      0      0   \n",
       "...                                     ...  ...    ...    ...    ...    ...   \n",
       "1495                                Belfast    0      0      0      0      0   \n",
       "1496                                Belfast    0      0      0      0      0   \n",
       "1497                                Belfast    0      0      0      0      0   \n",
       "1498                                Belfast    0      0      0      0      0   \n",
       "1499                                Belfast    0      0      0      0      0   \n",
       "\n",
       "      08143  10  100  100k  ...  www  xgboost  year  years  yields  york  \\\n",
       "1         0   0    0     0  ...    0        0     0      0       0     0   \n",
       "2         0   0    0     0  ...    0        0     0      0       0     0   \n",
       "3         0   0    0     0  ...    0        0     0      0       0     0   \n",
       "4         0   0    0     0  ...    0        0     0      0       0     0   \n",
       "5         0   0    0     0  ...    0        0     0      0       0     0   \n",
       "...     ...  ..  ...   ...  ...  ...      ...   ...    ...     ...   ...   \n",
       "1495      0   0    0     0  ...    0        0     0      0       0     0   \n",
       "1496      0   0    0     0  ...    0        0     0      0       0     0   \n",
       "1497      0   0    0     0  ...    0        0     0      0       0     0   \n",
       "1498      0   0    0     0  ...    0        0     0      0       0     0   \n",
       "1499      0   0    0     0  ...    0        0     0      0       0     0   \n",
       "\n",
       "      yorkshire  yougov  young  youâ  \n",
       "1             0       0      0     0  \n",
       "2             0       0      0     0  \n",
       "3             0       0      0     0  \n",
       "4             0       0      0     0  \n",
       "5             0       0      0     0  \n",
       "...         ...     ...    ...   ...  \n",
       "1495          0       0      0     0  \n",
       "1496          0       0      0     0  \n",
       "1497          0       0      0     0  \n",
       "1498          0       0      0     0  \n",
       "1499          0       0      0     0  \n",
       "\n",
       "[1832 rows x 4703 columns]"
      ]
     },
     "execution_count": 172,
     "metadata": {},
     "output_type": "execute_result"
    }
   ],
   "source": [
    "DF"
   ]
  },
  {
   "cell_type": "code",
   "execution_count": 173,
   "metadata": {},
   "outputs": [],
   "source": [
    "X2 = pd.get_dummies(DF, drop_first=True)#dummifying "
   ]
  },
  {
   "cell_type": "code",
   "execution_count": 175,
   "metadata": {},
   "outputs": [],
   "source": [
    "#target Salary_HILO\n",
    "y2 = dfc.Salary_HILO"
   ]
  },
  {
   "cell_type": "code",
   "execution_count": 176,
   "metadata": {},
   "outputs": [],
   "source": [
    "X_train, X_test, y_train, y_test = train_test_split(X2,y2,stratify=y2,test_size=0.2, random_state=1)"
   ]
  },
  {
   "cell_type": "code",
   "execution_count": 178,
   "metadata": {},
   "outputs": [],
   "source": [
    "scaler = StandardScaler()\n",
    "X_train = scaler.fit_transform(X_train)\n",
    "X_test = scaler.transform(X_test)"
   ]
  },
  {
   "cell_type": "code",
   "execution_count": 179,
   "metadata": {},
   "outputs": [
    {
     "name": "stdout",
     "output_type": "stream",
     "text": [
      "Accuracy score: 72.75\n",
      "Log CV score: 0.7399317406143344\n",
      "Logistic Regression Train Score: 1.0\n",
      "Logistic Regression Test Score: 0.7275204359673024\n"
     ]
    }
   ],
   "source": [
    "log = LogisticRegression( solver='liblinear', multi_class='ovr', penalty=\"l1\")\n",
    "log.fit(X_train, y_train)\n",
    "yhat = log.predict(X_test)\n",
    "# evaluate predictions\n",
    "accuracy = accuracy_score(y_test, yhat)\n",
    "print('Accuracy score: %.2f' % (accuracy*100))\n",
    "print(\"Log CV score:\", cross_val_score(log, X_train, y_train, cv=5).mean())\n",
    "print('Logistic Regression Train Score:', log.score(X_train,y_train))\n",
    "print('Logistic Regression Test Score:', log.score(X_test,y_test))"
   ]
  },
  {
   "cell_type": "markdown",
   "metadata": {},
   "source": [
    "The Train score is 1.0 the model fits so well in a data with lots of variance  this causes over-fitting."
   ]
  },
  {
   "cell_type": "code",
   "execution_count": 180,
   "metadata": {},
   "outputs": [
    {
     "name": "stdout",
     "output_type": "stream",
     "text": [
      "[0.]\n",
      "[[0.03535941 0.         0.         ... 0.         0.         0.        ]]\n"
     ]
    }
   ],
   "source": [
    "print(log.intercept_)\n",
    "print(log.coef_)"
   ]
  },
  {
   "cell_type": "code",
   "execution_count": 181,
   "metadata": {},
   "outputs": [],
   "source": [
    "Coeff = pd.DataFrame(list(zip(X2.columns,log.coef_[0], np.abs(log.coef_[0]))), columns=['Var','Coef', 'Coef_abs']).sort_values(by='Coef_abs', ascending=False)"
   ]
  },
  {
   "cell_type": "code",
   "execution_count": 182,
   "metadata": {},
   "outputs": [
    {
     "data": {
      "text/html": [
       "<div>\n",
       "<style scoped>\n",
       "    .dataframe tbody tr th:only-of-type {\n",
       "        vertical-align: middle;\n",
       "    }\n",
       "\n",
       "    .dataframe tbody tr th {\n",
       "        vertical-align: top;\n",
       "    }\n",
       "\n",
       "    .dataframe thead th {\n",
       "        text-align: right;\n",
       "    }\n",
       "</style>\n",
       "<table border=\"1\" class=\"dataframe\">\n",
       "  <thead>\n",
       "    <tr style=\"text-align: right;\">\n",
       "      <th></th>\n",
       "      <th>Var</th>\n",
       "      <th>Coef</th>\n",
       "      <th>Coef_abs</th>\n",
       "    </tr>\n",
       "  </thead>\n",
       "  <tbody>\n",
       "    <tr>\n",
       "      <th>844</th>\n",
       "      <td>senior</td>\n",
       "      <td>1.277732</td>\n",
       "      <td>1.277732</td>\n",
       "    </tr>\n",
       "    <tr>\n",
       "      <th>835</th>\n",
       "      <td>scientist</td>\n",
       "      <td>1.230281</td>\n",
       "      <td>1.230281</td>\n",
       "    </tr>\n",
       "    <tr>\n",
       "      <th>336</th>\n",
       "      <td>engineer</td>\n",
       "      <td>0.859144</td>\n",
       "      <td>0.859144</td>\n",
       "    </tr>\n",
       "    <tr>\n",
       "      <th>531</th>\n",
       "      <td>lead</td>\n",
       "      <td>0.775389</td>\n",
       "      <td>0.775389</td>\n",
       "    </tr>\n",
       "    <tr>\n",
       "      <th>101</th>\n",
       "      <td>architect</td>\n",
       "      <td>0.619758</td>\n",
       "      <td>0.619758</td>\n",
       "    </tr>\n",
       "    <tr>\n",
       "      <th>...</th>\n",
       "      <td>...</td>\n",
       "      <td>...</td>\n",
       "      <td>...</td>\n",
       "    </tr>\n",
       "    <tr>\n",
       "      <th>1894</th>\n",
       "      <td>covered</td>\n",
       "      <td>0.000000</td>\n",
       "      <td>0.000000</td>\n",
       "    </tr>\n",
       "    <tr>\n",
       "      <th>1895</th>\n",
       "      <td>covering</td>\n",
       "      <td>0.000000</td>\n",
       "      <td>0.000000</td>\n",
       "    </tr>\n",
       "    <tr>\n",
       "      <th>1896</th>\n",
       "      <td>covers</td>\n",
       "      <td>0.000000</td>\n",
       "      <td>0.000000</td>\n",
       "    </tr>\n",
       "    <tr>\n",
       "      <th>1897</th>\n",
       "      <td>covid</td>\n",
       "      <td>0.000000</td>\n",
       "      <td>0.000000</td>\n",
       "    </tr>\n",
       "    <tr>\n",
       "      <th>4927</th>\n",
       "      <td>Location_Wilmington, DE 19801•Remote</td>\n",
       "      <td>0.000000</td>\n",
       "      <td>0.000000</td>\n",
       "    </tr>\n",
       "  </tbody>\n",
       "</table>\n",
       "<p>4928 rows × 3 columns</p>\n",
       "</div>"
      ],
      "text/plain": [
       "                                       Var      Coef  Coef_abs\n",
       "844                                 senior  1.277732  1.277732\n",
       "835                              scientist  1.230281  1.230281\n",
       "336                               engineer  0.859144  0.859144\n",
       "531                                   lead  0.775389  0.775389\n",
       "101                              architect  0.619758  0.619758\n",
       "...                                    ...       ...       ...\n",
       "1894                               covered  0.000000  0.000000\n",
       "1895                              covering  0.000000  0.000000\n",
       "1896                                covers  0.000000  0.000000\n",
       "1897                                 covid  0.000000  0.000000\n",
       "4927  Location_Wilmington, DE 19801•Remote  0.000000  0.000000\n",
       "\n",
       "[4928 rows x 3 columns]"
      ]
     },
     "execution_count": 182,
     "metadata": {},
     "output_type": "execute_result"
    }
   ],
   "source": [
    "Coeff# have 4928 rows × 3 columns"
   ]
  },
  {
   "cell_type": "code",
   "execution_count": 183,
   "metadata": {},
   "outputs": [
    {
     "data": {
      "image/png": "[encoded data removed]",
      "text/plain": [
       "<Figure size 864x864 with 1 Axes>"
      ]
     },
     "metadata": {
      "image/png": {
       "height": 710,
       "width": 791
      },
      "needs_background": "light"
     },
     "output_type": "display_data"
    }
   ],
   "source": [
    "Coeff.head(20).plot(kind='barh',x=0,y=1,figsize=(12,12),legend=False,title='Top 20 Coefficients of our variables', sort_columns=True)\n",
    "plt.gca().invert_yaxis()"
   ]
  },
  {
   "cell_type": "markdown",
   "metadata": {},
   "source": [
    "The most impact on Salary HILO in the bar chart above are the words:senior,scientist,engineer,lead, a few more and less or no  impact words:junior, generation,analyst."
   ]
  },
  {
   "cell_type": "code",
   "execution_count": 184,
   "metadata": {},
   "outputs": [
    {
     "name": "stdout",
     "output_type": "stream",
     "text": [
      "Knn CV score: 0.6013651877133106\n",
      "Knn Train: 0.7904436860068259\n",
      "Knn Test: 0.6485013623978202\n"
     ]
    }
   ],
   "source": [
    "from sklearn.neighbors import KNeighborsClassifier\n",
    "knn = KNeighborsClassifier(n_neighbors=5)\n",
    "scores = cross_val_score(knn, X_train, y_train, cv=5)\n",
    "knn.fit(X_train, y_train)\n",
    "print(\"Knn CV score:\", cross_val_score(knn, X_train, y_train, cv=5).mean())\n",
    "print(\"Knn Train:\", knn.score(X_train, y_train))\n",
    "print(\"Knn Test:\", knn.score(X_test, y_test))"
   ]
  },
  {
   "cell_type": "code",
   "execution_count": 185,
   "metadata": {},
   "outputs": [
    {
     "name": "stdout",
     "output_type": "stream",
     "text": [
      "DTC CV score: 0.6750853242320819\n",
      "DTC Train: 0.6914675767918089\n",
      "DTC Test: 0.6839237057220708\n"
     ]
    }
   ],
   "source": [
    "DTC = DecisionTreeClassifier(max_depth=4,criterion='gini')\n",
    "DTC.fit(X_train, y_train)\n",
    "print(\"DTC CV score:\", cross_val_score(DTC, X_train, y_train, cv=5).mean())\n",
    "print(\"DTC Train:\", DTC.score(X_train, y_train))\n",
    "print(\"DTC Test:\", DTC.score(X_test, y_test))"
   ]
  },
  {
   "cell_type": "code",
   "execution_count": 186,
   "metadata": {},
   "outputs": [
    {
     "name": "stdout",
     "output_type": "stream",
     "text": [
      "RFC CV score: 0.7303754266211604\n",
      "RFC Train: 1.0\n",
      "RFC Test: 0.7411444141689373\n"
     ]
    }
   ],
   "source": [
    "RFC = RandomForestClassifier(\n",
    "                           n_estimators=100,\n",
    "                           random_state=1)\n",
    "RFC.fit(X_train, y_train)\n",
    "print(\"RFC CV score:\", cross_val_score(RFC, X_train, y_train, cv=5).mean())\n",
    "print(\"RFC Train:\", RFC.score(X_train, y_train))\n",
    "print(\"RFC Test:\", RFC.score(X_test, y_test))"
   ]
  },
  {
   "cell_type": "code",
   "execution_count": 188,
   "metadata": {},
   "outputs": [
    {
     "data": {
      "text/plain": [
       "GridSearchCV(cv=5,\n",
       "             estimator=LogisticRegression(multi_class='ovr', penalty='l1',\n",
       "                                          solver='liblinear'),\n",
       "             param_grid={'C': array([0.001     , 0.0011514 , 0.00132571, 0.00152642, 0.00175751,\n",
       "       0.00202359, 0.00232995, 0.0026827 , 0.00308884, 0.00355648,\n",
       "       0.00409492, 0.00471487, 0.00542868, 0.00625055, 0.00719686,\n",
       "       0.00828643, 0.00954095, 0.01098541, 0.01264855, 0.01456348,\n",
       "       0.01676833, 0.019...\n",
       "       0.03393222, 0.0390694 , 0.04498433, 0.05179475, 0.05963623,\n",
       "       0.06866488, 0.07906043, 0.09102982, 0.10481131, 0.12067926,\n",
       "       0.13894955, 0.15998587, 0.184207  , 0.21209509, 0.24420531,\n",
       "       0.28117687, 0.32374575, 0.37275937, 0.42919343, 0.49417134,\n",
       "       0.5689866 , 0.65512856, 0.75431201, 0.86851137, 1.        ]),\n",
       "                         'fit_intercept': [True, False],\n",
       "                         'penalty': ['l1', 'l2'], 'solver': ['liblinear']},\n",
       "             return_train_score=True, scoring='accuracy')"
      ]
     },
     "execution_count": 188,
     "metadata": {},
     "output_type": "execute_result"
    }
   ],
   "source": [
    "# Set up the parameters.\n",
    "# Usind a list with 'l1' and 'l2' for the penalties,\n",
    "# Using a list with 'liblinear' for the solver,\n",
    "# Using a logspace from -3 to 0, with 50 different values\n",
    "\n",
    "# fill the dictionary of parameters\n",
    "params = {'penalty': ['l1', 'l2'],\n",
    "          'C': np.logspace(-3, 0, 50),\n",
    "          'fit_intercept': [True, False],\n",
    "          'solver': ['liblinear']}\n",
    "# create your gridsearch object\n",
    "loggs = GridSearchCV(estimator=log,\n",
    "                  param_grid=params,\n",
    "                  cv=5,\n",
    "                  scoring='accuracy',\n",
    "                  return_train_score=True)\n",
    "loggs.fit(X_train, y_train)"
   ]
  },
  {
   "cell_type": "code",
   "execution_count": 189,
   "metadata": {},
   "outputs": [
    {
     "name": "stdout",
     "output_type": "stream",
     "text": [
      "Best parsms: {'C': 0.001, 'fit_intercept': False, 'penalty': 'l2', 'solver': 'liblinear'}\n"
     ]
    }
   ],
   "source": [
    "print('Best parsms:', loggs.best_params_)\n",
    "#printing out the best parameters"
   ]
  },
  {
   "cell_type": "code",
   "execution_count": 190,
   "metadata": {},
   "outputs": [
    {
     "data": {
      "text/plain": [
       "LogisticRegression(C=0.001, fit_intercept=False, multi_class='ovr',\n",
       "                   solver='liblinear')"
      ]
     },
     "execution_count": 190,
     "metadata": {},
     "output_type": "execute_result"
    }
   ],
   "source": [
    "lbe=loggs.best_estimator_\n",
    "lbe"
   ]
  },
  {
   "cell_type": "code",
   "execution_count": 191,
   "metadata": {
    "scrolled": true
   },
   "outputs": [
    {
     "name": "stdout",
     "output_type": "stream",
     "text": [
      "Cross val score: 0.7508532423208191\n"
     ]
    }
   ],
   "source": [
    "lbs=loggs.best_score_\n",
    "print('Cross val score:', lbs)"
   ]
  },
  {
   "cell_type": "code",
   "execution_count": 192,
   "metadata": {},
   "outputs": [
    {
     "name": "stdout",
     "output_type": "stream",
     "text": [
      "Best Train score: 1.0\n"
     ]
    }
   ],
   "source": [
    "print('Best Train score:',log.score(X_train, y_train))"
   ]
  },
  {
   "cell_type": "markdown",
   "metadata": {},
   "source": [
    "The model fits so well in a data with lots of variance it causes over-fitting."
   ]
  },
  {
   "cell_type": "code",
   "execution_count": 193,
   "metadata": {},
   "outputs": [
    {
     "name": "stdout",
     "output_type": "stream",
     "text": [
      "Best Test score: 0.7275204359673024\n"
     ]
    }
   ],
   "source": [
    "print('Best Test score:',log.score(X_test, y_test))"
   ]
  },
  {
   "cell_type": "code",
   "execution_count": 210,
   "metadata": {},
   "outputs": [
    {
     "data": {
      "text/html": [
       "<div>\n",
       "<style scoped>\n",
       "    .dataframe tbody tr th:only-of-type {\n",
       "        vertical-align: middle;\n",
       "    }\n",
       "\n",
       "    .dataframe tbody tr th {\n",
       "        vertical-align: top;\n",
       "    }\n",
       "\n",
       "    .dataframe thead th {\n",
       "        text-align: right;\n",
       "    }\n",
       "</style>\n",
       "<table border=\"1\" class=\"dataframe\">\n",
       "  <thead>\n",
       "    <tr style=\"text-align: right;\">\n",
       "      <th></th>\n",
       "      <th>Var</th>\n",
       "      <th>Coef</th>\n",
       "      <th>Coef_abs</th>\n",
       "    </tr>\n",
       "  </thead>\n",
       "  <tbody>\n",
       "    <tr>\n",
       "      <th>835</th>\n",
       "      <td>scientist</td>\n",
       "      <td>0.055922</td>\n",
       "      <td>0.055922</td>\n",
       "    </tr>\n",
       "    <tr>\n",
       "      <th>86</th>\n",
       "      <td>analyst</td>\n",
       "      <td>-0.048584</td>\n",
       "      <td>0.048584</td>\n",
       "    </tr>\n",
       "    <tr>\n",
       "      <th>844</th>\n",
       "      <td>senior</td>\n",
       "      <td>0.041128</td>\n",
       "      <td>0.041128</td>\n",
       "    </tr>\n",
       "    <tr>\n",
       "      <th>514</th>\n",
       "      <td>junior</td>\n",
       "      <td>-0.040821</td>\n",
       "      <td>0.040821</td>\n",
       "    </tr>\n",
       "    <tr>\n",
       "      <th>531</th>\n",
       "      <td>lead</td>\n",
       "      <td>0.039464</td>\n",
       "      <td>0.039464</td>\n",
       "    </tr>\n",
       "  </tbody>\n",
       "</table>\n",
       "</div>"
      ],
      "text/plain": [
       "           Var      Coef  Coef_abs\n",
       "835  scientist  0.055922  0.055922\n",
       "86     analyst -0.048584  0.048584\n",
       "844     senior  0.041128  0.041128\n",
       "514     junior -0.040821  0.040821\n",
       "531       lead  0.039464  0.039464"
      ]
     },
     "execution_count": 210,
     "metadata": {},
     "output_type": "execute_result"
    }
   ],
   "source": [
    "coeff = pd.DataFrame(list(zip(X2.columns,lbe.coef_[0], np.abs(lbe.coef_[0]))), columns=['Var','Coef', 'Coef_abs']).sort_values(by='Coef_abs', ascending=False)\n",
    "coeff.head()"
   ]
  },
  {
   "cell_type": "code",
   "execution_count": 211,
   "metadata": {},
   "outputs": [
    {
     "data": {
      "image/png": "[encoded data removed]",
      "text/plain": [
       "<Figure size 864x864 with 1 Axes>"
      ]
     },
     "metadata": {
      "image/png": {
       "height": 710,
       "width": 816
      },
      "needs_background": "light"
     },
     "output_type": "display_data"
    }
   ],
   "source": [
    "coeff.head(20).plot(kind='barh',x=0,y=1,figsize=(12,12),legend=False,title='Top 20 Coefficients of our variables', sort_columns=True)\n",
    "plt.gca().invert_yaxis()\n",
    "\n"
   ]
  },
  {
   "cell_type": "code",
   "execution_count": 196,
   "metadata": {},
   "outputs": [
    {
     "name": "stdout",
     "output_type": "stream",
     "text": [
      "Fitting 5 folds for each of 9 candidates, totalling 45 fits\n"
     ]
    },
    {
     "data": {
      "text/plain": [
       "GridSearchCV(cv=5, estimator=DecisionTreeClassifier(max_depth=4), n_jobs=2,\n",
       "             param_grid={'max_depth': [3, 5, 10],\n",
       "                         'min_samples_split': [2, 5, 10]},\n",
       "             return_train_score=True, verbose=1)"
      ]
     },
     "execution_count": 196,
     "metadata": {},
     "output_type": "execute_result"
    }
   ],
   "source": [
    "param_grid = {'max_depth': [3, 5, 10],\n",
    "             'min_samples_split': [2, 5, 10]}\n",
    "DTC_gridsearch = GridSearchCV(DTC,\n",
    "                              param_grid,\n",
    "                              n_jobs=2, \n",
    "                              cv=5, \n",
    "                              verbose=1, \n",
    "                              return_train_score=True)\n",
    "\n",
    "DTC_gridsearch.fit(X_train, y_train)"
   ]
  },
  {
   "cell_type": "markdown",
   "metadata": {},
   "source": [
    "Houston,TX shows the highest impact"
   ]
  },
  {
   "cell_type": "code",
   "execution_count": 197,
   "metadata": {},
   "outputs": [
    {
     "data": {
      "text/plain": [
       "{'max_depth': [3, 5, 10], 'min_samples_split': [2, 5, 10]}"
      ]
     },
     "execution_count": 197,
     "metadata": {},
     "output_type": "execute_result"
    }
   ],
   "source": [
    "DTC_gridsearch.param_grid"
   ]
  },
  {
   "cell_type": "code",
   "execution_count": 198,
   "metadata": {},
   "outputs": [
    {
     "name": "stdout",
     "output_type": "stream",
     "text": [
      "Best score: 0.6812286689419795\n"
     ]
    }
   ],
   "source": [
    "DTCBS=DTC_gridsearch.best_score_\n",
    "print('Best score:', DTCBS)"
   ]
  },
  {
   "cell_type": "code",
   "execution_count": 199,
   "metadata": {},
   "outputs": [
    {
     "name": "stdout",
     "output_type": "stream",
     "text": [
      "Best estimator: DecisionTreeClassifier(max_depth=10)\n"
     ]
    }
   ],
   "source": [
    "DTCBE=DTC_gridsearch.best_estimator_\n",
    "print('Best estimator:', DTCBE)"
   ]
  },
  {
   "cell_type": "code",
   "execution_count": 200,
   "metadata": {},
   "outputs": [
    {
     "name": "stdout",
     "output_type": "stream",
     "text": [
      "0.7624573378839591\n",
      "0.7275204359673024\n"
     ]
    }
   ],
   "source": [
    "# assign your best_estimator_ to the variable, then use .score( ) on your testing data\n",
    "# assign your best_estimator_ to the variable, then use .score( ) on your testing data\n",
    "print(DTCBE.score(X_train, y_train))\n",
    "print(DTCBE.score(X_test, y_test))"
   ]
  },
  {
   "cell_type": "code",
   "execution_count": 201,
   "metadata": {},
   "outputs": [
    {
     "data": {
      "text/html": [
       "<div>\n",
       "<style scoped>\n",
       "    .dataframe tbody tr th:only-of-type {\n",
       "        vertical-align: middle;\n",
       "    }\n",
       "\n",
       "    .dataframe tbody tr th {\n",
       "        vertical-align: top;\n",
       "    }\n",
       "\n",
       "    .dataframe thead th {\n",
       "        text-align: right;\n",
       "    }\n",
       "</style>\n",
       "<table border=\"1\" class=\"dataframe\">\n",
       "  <thead>\n",
       "    <tr style=\"text-align: right;\">\n",
       "      <th></th>\n",
       "      <th>Predicted High</th>\n",
       "      <th>Predicted Low</th>\n",
       "    </tr>\n",
       "  </thead>\n",
       "  <tbody>\n",
       "    <tr>\n",
       "      <th>High</th>\n",
       "      <td>111</td>\n",
       "      <td>70</td>\n",
       "    </tr>\n",
       "    <tr>\n",
       "      <th>Low</th>\n",
       "      <td>30</td>\n",
       "      <td>156</td>\n",
       "    </tr>\n",
       "  </tbody>\n",
       "</table>\n",
       "</div>"
      ],
      "text/plain": [
       "      Predicted High  Predicted Low\n",
       "High             111             70\n",
       "Low               30            156"
      ]
     },
     "execution_count": 201,
     "metadata": {},
     "output_type": "execute_result"
    }
   ],
   "source": [
    "predictions = DTCBE.predict(X_test)\n",
    "confusion = confusion_matrix(y_test, predictions, labels=[1, 0])\n",
    "pd.DataFrame(confusion,\n",
    "             columns=['Predicted High', 'Predicted Low'],\n",
    "             index=['High', 'Low'])"
   ]
  },
  {
   "cell_type": "code",
   "execution_count": 202,
   "metadata": {},
   "outputs": [
    {
     "name": "stdout",
     "output_type": "stream",
     "text": [
      "              precision    recall  f1-score   support\n",
      "\n",
      "           0       0.69      0.84      0.76       186\n",
      "           1       0.79      0.61      0.69       181\n",
      "\n",
      "    accuracy                           0.73       367\n",
      "   macro avg       0.74      0.73      0.72       367\n",
      "weighted avg       0.74      0.73      0.72       367\n",
      "\n"
     ]
    }
   ],
   "source": [
    "print(classification_report(y_test, predictions))"
   ]
  },
  {
   "cell_type": "code",
   "execution_count": null,
   "metadata": {},
   "outputs": [],
   "source": []
  },
  {
   "cell_type": "code",
   "execution_count": null,
   "metadata": {},
   "outputs": [],
   "source": []
  },
  {
   "cell_type": "markdown",
   "metadata": {
    "focus": false,
    "id": "4fb29de2-5b98-474c-a4ad-5170b72b9aea"
   },
   "source": [
    "### Model evaluation:\n",
    "\n",
    "Your boss would rather tell a client incorrectly that they would get a lower salary job than tell a client incorrectly that they would get a high salary job. Adjust one of your models to ease his mind, and explain what it is doing and any tradeoffs.\n",
    "\n",
    "\n",
    "- Use cross-validation to evaluate your models.\n",
    "- Evaluate the accuracy, AUC, precision and recall of the models.\n",
    "- Plot the ROC and precision-recall curves for at least one of your models."
   ]
  },
  {
   "cell_type": "code",
   "execution_count": 212,
   "metadata": {},
   "outputs": [
    {
     "name": "stdout",
     "output_type": "stream",
     "text": [
      "Cross validation score: [0.68259386 0.65870307 0.71331058 0.66211604 0.6552901 ]\n",
      "Mean cross validation score: 0.6744027303754266\n"
     ]
    }
   ],
   "source": [
    "## YOUR CODE HERE\n",
    "from sklearn.model_selection import KFold\n",
    "kf = KFold(n_splits=5, shuffle=True, random_state=1)\n",
    "cv_scores_shuffled = cross_val_score(DTC, X_train, y_train, cv=kf)\n",
    "\n",
    "print('Cross validation score:', cv_scores_shuffled)\n",
    "print('Mean cross validation score:', cv_scores_shuffled.mean())"
   ]
  },
  {
   "cell_type": "code",
   "execution_count": 204,
   "metadata": {},
   "outputs": [],
   "source": [
    "scores = []\n",
    "max_k = 121\n",
    "for k in range(1, max_k):\n",
    "    \n",
    "    scores.append(np.mean(cross_val_score(DTC, X2, y2, cv=5)))"
   ]
  },
  {
   "cell_type": "code",
   "execution_count": 205,
   "metadata": {},
   "outputs": [
    {
     "data": {
      "text/plain": [
       "(102, 0.5317044117866023)"
      ]
     },
     "execution_count": 205,
     "metadata": {},
     "output_type": "execute_result"
    }
   ],
   "source": [
    "np.argmax(scores)+1, max(scores)"
   ]
  },
  {
   "cell_type": "code",
   "execution_count": 207,
   "metadata": {},
   "outputs": [
    {
     "data": {
      "image/png": "[encoded data removed]",
      "text/plain": [
       "<Figure size 864x432 with 1 Axes>"
      ]
     },
     "metadata": {
      "image/png": {
       "height": 386,
       "width": 1121
      },
      "needs_background": "light"
     },
     "output_type": "display_data"
    }
   ],
   "source": [
    "fig, ax = plt.subplots(figsize=(12, 6))\n",
    "ax.plot(range(1, max_k), scores, label='Mean CV Scores default settings', lw=4)\n",
    "ax.hlines(y.value_counts(normalize=True).max(), 1, max_k, label='baseline', lw=4)\n",
    "ax.set_xlabel('k')\n",
    "ax.set_ylabel('accuracy')\n",
    "ax.legend(loc=[1.1, 0])\n",
    "plt.show()"
   ]
  },
  {
   "cell_type": "code",
   "execution_count": 208,
   "metadata": {},
   "outputs": [
    {
     "data": {
      "text/plain": [
       "367"
      ]
     },
     "execution_count": 208,
     "metadata": {},
     "output_type": "execute_result"
    }
   ],
   "source": [
    "probabilities = loggs.predict_proba(X_test)\n",
    "len(probabilities)"
   ]
  },
  {
   "cell_type": "code",
   "execution_count": 209,
   "metadata": {},
   "outputs": [
    {
     "data": {
      "image/png": "[encoded data removed]",
      "text/plain": [
       "<Figure size 2160x864 with 1 Axes>"
      ]
     },
     "metadata": {
      "image/png": {
       "height": 729,
       "width": 1749
      },
      "needs_background": "light"
     },
     "output_type": "display_data"
    }
   ],
   "source": [
    "import scikitplot as skplt\n",
    "from matplotlib.colors import ListedColormap\n",
    "from sklearn.metrics import classification_report\n",
    "cmap = ListedColormap(sns.color_palette(\"husl\",3))\n",
    "\n",
    "skplt.metrics.plot_roc(y_test, probabilities, plot_micro=True, plot_macro=True, \n",
    "                       title_fontsize=20, text_fontsize=16, figsize=(30,12), cmap=cmap)\n",
    "plt.show()"
   ]
  },
  {
   "cell_type": "markdown",
   "metadata": {},
   "source": [
    "Conclusion:\n",
    "After determining the job title and Summary to create predictors for my models I ran Logistic Regression, KNN classifier, DTC, RFC on my training data. After using a GridSearch to find the optimal parameters for GridSearch on Logistics Regression and GridSearch on Descission Tree Classifier, the best score achieved on my  data for the Logistic Regression model is 75%,the best score for the DTC model was 68%,\n",
    "Therefore TP is Low Salary and TN is High Salary;FP is Predicted Higher Salary than FN Predicted Lower Salary.\n",
    "The confusion matrix provide a compromise balancing  to adjust the threshold:\n",
    "TP=True Positive=111/,TN=True Negative=156,FP=False Positive=70,FN=False Negative=30\n",
    "For Random Forest Classifier:TP=True Positive=123/,TN=True Negative=126,FP=False Positive=58,FN=False Negative=60.\n",
    "Per graphs shown above the Log.Reg. Model coefficients are indicating predictors of a lower Salary in keywords,such:Education, Research, Graduate, on the other hand predictors for higher Salary in keywords are:Scientist, Senior, Enjineer, Lead.All the rest key words are less frequently used for the job listings and are less influenced features in the Decision Tree.\n",
    "\n",
    "The ROC Curve  plotted above for class 1 High Salary and class 0 Low Salary. As a matter of fact the Log. Reg. model is performing the baseline in the way that  as it increased the threshold to remove false positives, it will acquire less false negatives in relation to how many false positives will be lost.\n",
    "\n",
    "ROC gives a visualisation of the increased number of false positives for each increase in true positives that my models predict.\n",
    "\n"
   ]
  }
 ],
 "metadata": {
  "kernelspec": {
   "display_name": "Python 3",
   "language": "python",
   "name": "python3"
  },
  "language_info": {
   "codemirror_mode": {
    "name": "ipython",
    "version": 3
   },
   "file_extension": ".py",
   "mimetype": "text/x-python",
   "name": "python",
   "nbconvert_exporter": "python",
   "pygments_lexer": "ipython3",
   "version": "3.8.5"
  },
  "toc": {
   "base_numbering": 1,
   "nav_menu": {},
   "number_sections": false,
   "sideBar": true,
   "skip_h1_title": true,
   "title_cell": "Table of Contents",
   "title_sidebar": "Contents",
   "toc_cell": false,
   "toc_position": {},
   "toc_section_display": "block",
   "toc_window_display": false
  }
 },
 "nbformat": 4,
 "nbformat_minor": 1
}
